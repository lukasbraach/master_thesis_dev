{
 "cells": [
  {
   "cell_type": "code",
   "execution_count": null,
   "id": "initial_id",
   "metadata": {},
   "outputs": [],
   "source": [
    "import cv2\n",
    "import pylab\n",
    "import scipy.io"
   ]
  },
  {
   "cell_type": "code",
   "execution_count": null,
   "id": "e4546b32d649c484",
   "metadata": {},
   "outputs": [],
   "source": [
    "!pwd\n",
    "mat = scipy.io.loadmat(\"../chalearn_montalbano_v1/data/test/Sample00801_data.mat\")\n",
    "\n",
    "# path to labels and their frames (video is 20 fps)\n",
    "v = mat[\"Video\"][0, 0][4][0]\n",
    "v"
   ]
  },
  {
   "cell_type": "code",
   "execution_count": null,
   "id": "7a7312e5d2fc3528",
   "metadata": {},
   "outputs": [],
   "source": [
    "for row in v:\n",
    "    [label], [[start_frame]], [[end_frame]] = row\n",
    "\n",
    "    # label = row[0][0]\n",
    "    # start_frame = row[1][0][0]\n",
    "    # end_frame = row[2][0][0]\n",
    "\n",
    "    print(f\"{label} from frame {start_frame} to {end_frame}\")\n",
    "\n",
    "mat[\"Video\"]"
   ]
  },
  {
   "cell_type": "code",
   "execution_count": null,
   "id": "1048595d919d541d",
   "metadata": {},
   "outputs": [],
   "source": [
    "vidcap = cv2.VideoCapture(\"../chalearn_montalbano_v1/data/train/Sample00001_color.mp4\")\n",
    "success, image = vidcap.read()\n",
    "\n",
    "print(image)\n",
    "print(image.shape)\n",
    "\n",
    "fig = pylab.figure()\n",
    "fig.suptitle(\"image #0\", fontsize=20)\n",
    "pylab.imshow(image)\n",
    "\n",
    "pylab.show()"
   ]
  },
  {
   "cell_type": "code",
   "execution_count": null,
   "id": "86a2ce98807146e4",
   "metadata": {},
   "outputs": [],
   "source": [
    "from datasets.commands.datasets_cli import main"
   ]
  }
 ],
 "metadata": {
  "kernelspec": {
   "display_name": "Python 3",
   "language": "python",
   "name": "python3"
  },
  "language_info": {
   "codemirror_mode": {
    "name": "ipython",
    "version": 2
   },
   "file_extension": ".py",
   "mimetype": "text/x-python",
   "name": "python",
   "nbconvert_exporter": "python",
   "pygments_lexer": "ipython2",
   "version": "2.7.6"
  }
 },
 "nbformat": 4,
 "nbformat_minor": 5
}
