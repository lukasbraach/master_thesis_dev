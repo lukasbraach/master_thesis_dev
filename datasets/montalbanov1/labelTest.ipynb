{
 "cells": [
  {
   "cell_type": "code",
   "execution_count": 9,
   "id": "initial_id",
   "metadata": {
    "collapsed": true,
    "ExecuteTime": {
     "end_time": "2023-09-07T11:26:17.268228Z",
     "start_time": "2023-09-07T11:26:17.258413Z"
    }
   },
   "outputs": [],
   "source": [
    "import scipy.io\n",
    "import json "
   ]
  },
  {
   "cell_type": "code",
   "execution_count": 28,
   "outputs": [
    {
     "data": {
      "text/plain": "array([(array(['cosatifarei'], dtype='<U11'), array([[1]], dtype=uint8), array([[79]], dtype=uint8)),\n       (array(['perfetto'], dtype='<U8'), array([[80]], dtype=uint8), array([[119]], dtype=uint8)),\n       (array(['buonissimo'], dtype='<U10'), array([[120]], dtype=uint8), array([[159]], dtype=uint8)),\n       (array(['prendere'], dtype='<U8'), array([[160]], dtype=uint8), array([[199]], dtype=uint8)),\n       (array(['fame'], dtype='<U4'), array([[200]], dtype=uint8), array([[239]], dtype=uint8)),\n       (array(['sonostufo'], dtype='<U9'), array([[240]], dtype=uint8), array([[279]], dtype=uint16)),\n       (array(['cheduepalle'], dtype='<U11'), array([[280]], dtype=uint16), array([[359]], dtype=uint16)),\n       (array(['vieniqui'], dtype='<U8'), array([[360]], dtype=uint16), array([[399]], dtype=uint16)),\n       (array(['furbo'], dtype='<U5'), array([[400]], dtype=uint16), array([[479]], dtype=uint16)),\n       (array(['vattene'], dtype='<U7'), array([[480]], dtype=uint16), array([[519]], dtype=uint16)),\n       (array(['freganiente'], dtype='<U11'), array([[520]], dtype=uint16), array([[559]], dtype=uint16)),\n       (array(['chevuoi'], dtype='<U7'), array([[560]], dtype=uint16), array([[619]], dtype=uint16)),\n       (array(['combinato'], dtype='<U9'), array([[620]], dtype=uint16), array([[679]], dtype=uint16)),\n       (array(['messidaccordo'], dtype='<U13'), array([[680]], dtype=uint16), array([[739]], dtype=uint16)),\n       (array(['noncenepiu'], dtype='<U10'), array([[740]], dtype=uint16), array([[779]], dtype=uint16)),\n       (array(['tantotempo'], dtype='<U10'), array([[780]], dtype=uint16), array([[839]], dtype=uint16)),\n       (array(['ok'], dtype='<U2'), array([[840]], dtype=uint16), array([[919]], dtype=uint16)),\n       (array(['basta'], dtype='<U5'), array([[920]], dtype=uint16), array([[979]], dtype=uint16)),\n       (array(['seipazzo'], dtype='<U8'), array([[980]], dtype=uint16), array([[1059]], dtype=uint16)),\n       (array(['daccordo'], dtype='<U8'), array([[1060]], dtype=uint16), array([[1117]], dtype=uint16))],\n      dtype=[('Name', 'O'), ('Begin', 'O'), ('End', 'O')])"
     },
     "execution_count": 28,
     "metadata": {},
     "output_type": "execute_result"
    }
   ],
   "source": [
    "mat = scipy.io.loadmat('/Users/lukasbraach/Desktop/training1/Sample00003/Sample00003_data.mat')\n",
    "\n",
    "# path to labels and their frames (video is 20 fps)\n",
    "v = mat['Video'][0,0][4][0]\n",
    "\n",
    "v"
   ],
   "metadata": {
    "collapsed": false,
    "ExecuteTime": {
     "end_time": "2023-09-07T11:49:42.306984Z",
     "start_time": "2023-09-07T11:49:42.058369Z"
    }
   },
   "id": "e4546b32d649c484"
  },
  {
   "cell_type": "code",
   "execution_count": 6,
   "outputs": [],
   "source": [],
   "metadata": {
    "collapsed": false,
    "ExecuteTime": {
     "end_time": "2023-09-07T11:23:22.777319Z",
     "start_time": "2023-09-07T11:23:22.763607Z"
    }
   },
   "id": "1048595d919d541d"
  }
 ],
 "metadata": {
  "kernelspec": {
   "display_name": "Python 3",
   "language": "python",
   "name": "python3"
  },
  "language_info": {
   "codemirror_mode": {
    "name": "ipython",
    "version": 2
   },
   "file_extension": ".py",
   "mimetype": "text/x-python",
   "name": "python",
   "nbconvert_exporter": "python",
   "pygments_lexer": "ipython2",
   "version": "2.7.6"
  }
 },
 "nbformat": 4,
 "nbformat_minor": 5
}
