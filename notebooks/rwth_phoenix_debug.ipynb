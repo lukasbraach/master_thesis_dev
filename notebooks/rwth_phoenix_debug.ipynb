{
 "cells": [
  {
   "cell_type": "code",
   "execution_count": 1,
   "id": "initial_id",
   "metadata": {
    "collapsed": true,
    "ExecuteTime": {
     "end_time": "2023-11-16T14:13:12.789797Z",
     "start_time": "2023-11-16T14:12:58.830463Z"
    }
   },
   "outputs": [],
   "source": [
    "import datasets\n",
    "\n",
    "rwth_phoenix = datasets.load_dataset('lukasbraach/rwth_phoenix_weather_2014', 'multisigner', split='test', streaming=True)"
   ]
  },
  {
   "cell_type": "code",
   "execution_count": 5,
   "outputs": [
    {
     "ename": "TypeError",
     "evalue": "object of type 'ArchiveIterable' has no len()",
     "output_type": "error",
     "traceback": [
      "\u001B[0;31m---------------------------------------------------------------------------\u001B[0m",
      "\u001B[0;31mTypeError\u001B[0m                                 Traceback (most recent call last)",
      "Cell \u001B[0;32mIn[5], line 3\u001B[0m\n\u001B[1;32m      1\u001B[0m it \u001B[38;5;241m=\u001B[39m \u001B[38;5;28miter\u001B[39m(rwth_phoenix)\n\u001B[0;32m----> 3\u001B[0m first \u001B[38;5;241m=\u001B[39m \u001B[38;5;28;43mnext\u001B[39;49m\u001B[43m(\u001B[49m\u001B[43mit\u001B[49m\u001B[43m)\u001B[49m\n",
      "File \u001B[0;32m/usr/local/Caskroom/mambaforge/base/envs/master_thesis/lib/python3.10/site-packages/datasets/iterable_dataset.py:1383\u001B[0m, in \u001B[0;36mIterableDataset.__iter__\u001B[0;34m(self)\u001B[0m\n\u001B[1;32m   1379\u001B[0m \u001B[38;5;28;01mfor\u001B[39;00m key, example \u001B[38;5;129;01min\u001B[39;00m ex_iterable:\n\u001B[1;32m   1380\u001B[0m     \u001B[38;5;28;01mif\u001B[39;00m \u001B[38;5;28mself\u001B[39m\u001B[38;5;241m.\u001B[39mfeatures:\n\u001B[1;32m   1381\u001B[0m         \u001B[38;5;66;03m# `IterableDataset` automatically fills missing columns with None.\u001B[39;00m\n\u001B[1;32m   1382\u001B[0m         \u001B[38;5;66;03m# This is done with `_apply_feature_types_on_example`.\u001B[39;00m\n\u001B[0;32m-> 1383\u001B[0m         example \u001B[38;5;241m=\u001B[39m \u001B[43m_apply_feature_types_on_example\u001B[49m\u001B[43m(\u001B[49m\n\u001B[1;32m   1384\u001B[0m \u001B[43m            \u001B[49m\u001B[43mexample\u001B[49m\u001B[43m,\u001B[49m\u001B[43m \u001B[49m\u001B[38;5;28;43mself\u001B[39;49m\u001B[38;5;241;43m.\u001B[39;49m\u001B[43mfeatures\u001B[49m\u001B[43m,\u001B[49m\u001B[43m \u001B[49m\u001B[43mtoken_per_repo_id\u001B[49m\u001B[38;5;241;43m=\u001B[39;49m\u001B[38;5;28;43mself\u001B[39;49m\u001B[38;5;241;43m.\u001B[39;49m\u001B[43m_token_per_repo_id\u001B[49m\n\u001B[1;32m   1385\u001B[0m \u001B[43m        \u001B[49m\u001B[43m)\u001B[49m\n\u001B[1;32m   1386\u001B[0m     \u001B[38;5;28;01myield\u001B[39;00m format_dict(example) \u001B[38;5;28;01mif\u001B[39;00m format_dict \u001B[38;5;28;01melse\u001B[39;00m example\n",
      "File \u001B[0;32m/usr/local/Caskroom/mambaforge/base/envs/master_thesis/lib/python3.10/site-packages/datasets/iterable_dataset.py:1075\u001B[0m, in \u001B[0;36m_apply_feature_types_on_example\u001B[0;34m(example, features, token_per_repo_id)\u001B[0m\n\u001B[1;32m   1073\u001B[0m         example[column_name] \u001B[38;5;241m=\u001B[39m \u001B[38;5;28;01mNone\u001B[39;00m\n\u001B[1;32m   1074\u001B[0m \u001B[38;5;66;03m# we encode the example for ClassLabel feature types for example\u001B[39;00m\n\u001B[0;32m-> 1075\u001B[0m encoded_example \u001B[38;5;241m=\u001B[39m \u001B[43mfeatures\u001B[49m\u001B[38;5;241;43m.\u001B[39;49m\u001B[43mencode_example\u001B[49m\u001B[43m(\u001B[49m\u001B[43mexample\u001B[49m\u001B[43m)\u001B[49m\n\u001B[1;32m   1076\u001B[0m \u001B[38;5;66;03m# Decode example for Audio feature, e.g.\u001B[39;00m\n\u001B[1;32m   1077\u001B[0m decoded_example \u001B[38;5;241m=\u001B[39m features\u001B[38;5;241m.\u001B[39mdecode_example(encoded_example, token_per_repo_id\u001B[38;5;241m=\u001B[39mtoken_per_repo_id)\n",
      "File \u001B[0;32m/usr/local/Caskroom/mambaforge/base/envs/master_thesis/lib/python3.10/site-packages/datasets/features/features.py:1852\u001B[0m, in \u001B[0;36mFeatures.encode_example\u001B[0;34m(self, example)\u001B[0m\n\u001B[1;32m   1841\u001B[0m \u001B[38;5;250m\u001B[39m\u001B[38;5;124;03m\"\"\"\u001B[39;00m\n\u001B[1;32m   1842\u001B[0m \u001B[38;5;124;03mEncode example into a format for Arrow.\u001B[39;00m\n\u001B[1;32m   1843\u001B[0m \n\u001B[0;32m   (...)\u001B[0m\n\u001B[1;32m   1849\u001B[0m \u001B[38;5;124;03m    `dict[str, Any]`\u001B[39;00m\n\u001B[1;32m   1850\u001B[0m \u001B[38;5;124;03m\"\"\"\u001B[39;00m\n\u001B[1;32m   1851\u001B[0m example \u001B[38;5;241m=\u001B[39m cast_to_python_objects(example)\n\u001B[0;32m-> 1852\u001B[0m \u001B[38;5;28;01mreturn\u001B[39;00m \u001B[43mencode_nested_example\u001B[49m\u001B[43m(\u001B[49m\u001B[38;5;28;43mself\u001B[39;49m\u001B[43m,\u001B[49m\u001B[43m \u001B[49m\u001B[43mexample\u001B[49m\u001B[43m)\u001B[49m\n",
      "File \u001B[0;32m/usr/local/Caskroom/mambaforge/base/envs/master_thesis/lib/python3.10/site-packages/datasets/features/features.py:1229\u001B[0m, in \u001B[0;36mencode_nested_example\u001B[0;34m(schema, obj, level)\u001B[0m\n\u001B[1;32m   1226\u001B[0m     \u001B[38;5;28;01mif\u001B[39;00m level \u001B[38;5;241m==\u001B[39m \u001B[38;5;241m0\u001B[39m \u001B[38;5;129;01mand\u001B[39;00m obj \u001B[38;5;129;01mis\u001B[39;00m \u001B[38;5;28;01mNone\u001B[39;00m:\n\u001B[1;32m   1227\u001B[0m         \u001B[38;5;28;01mraise\u001B[39;00m \u001B[38;5;167;01mValueError\u001B[39;00m(\u001B[38;5;124m\"\u001B[39m\u001B[38;5;124mGot None but expected a dictionary instead\u001B[39m\u001B[38;5;124m\"\u001B[39m)\n\u001B[1;32m   1228\u001B[0m     \u001B[38;5;28;01mreturn\u001B[39;00m (\n\u001B[0;32m-> 1229\u001B[0m         {\n\u001B[1;32m   1230\u001B[0m             k: encode_nested_example(sub_schema, sub_obj, level\u001B[38;5;241m=\u001B[39mlevel \u001B[38;5;241m+\u001B[39m \u001B[38;5;241m1\u001B[39m)\n\u001B[1;32m   1231\u001B[0m             \u001B[38;5;28;01mfor\u001B[39;00m k, (sub_schema, sub_obj) \u001B[38;5;129;01min\u001B[39;00m zip_dict(schema, obj)\n\u001B[1;32m   1232\u001B[0m         }\n\u001B[1;32m   1233\u001B[0m         \u001B[38;5;28;01mif\u001B[39;00m obj \u001B[38;5;129;01mis\u001B[39;00m \u001B[38;5;129;01mnot\u001B[39;00m \u001B[38;5;28;01mNone\u001B[39;00m\n\u001B[1;32m   1234\u001B[0m         \u001B[38;5;28;01melse\u001B[39;00m \u001B[38;5;28;01mNone\u001B[39;00m\n\u001B[1;32m   1235\u001B[0m     )\n\u001B[1;32m   1237\u001B[0m \u001B[38;5;28;01melif\u001B[39;00m \u001B[38;5;28misinstance\u001B[39m(schema, (\u001B[38;5;28mlist\u001B[39m, \u001B[38;5;28mtuple\u001B[39m)):\n\u001B[1;32m   1238\u001B[0m     sub_schema \u001B[38;5;241m=\u001B[39m schema[\u001B[38;5;241m0\u001B[39m]\n",
      "File \u001B[0;32m/usr/local/Caskroom/mambaforge/base/envs/master_thesis/lib/python3.10/site-packages/datasets/features/features.py:1230\u001B[0m, in \u001B[0;36m<dictcomp>\u001B[0;34m(.0)\u001B[0m\n\u001B[1;32m   1226\u001B[0m     \u001B[38;5;28;01mif\u001B[39;00m level \u001B[38;5;241m==\u001B[39m \u001B[38;5;241m0\u001B[39m \u001B[38;5;129;01mand\u001B[39;00m obj \u001B[38;5;129;01mis\u001B[39;00m \u001B[38;5;28;01mNone\u001B[39;00m:\n\u001B[1;32m   1227\u001B[0m         \u001B[38;5;28;01mraise\u001B[39;00m \u001B[38;5;167;01mValueError\u001B[39;00m(\u001B[38;5;124m\"\u001B[39m\u001B[38;5;124mGot None but expected a dictionary instead\u001B[39m\u001B[38;5;124m\"\u001B[39m)\n\u001B[1;32m   1228\u001B[0m     \u001B[38;5;28;01mreturn\u001B[39;00m (\n\u001B[1;32m   1229\u001B[0m         {\n\u001B[0;32m-> 1230\u001B[0m             k: \u001B[43mencode_nested_example\u001B[49m\u001B[43m(\u001B[49m\u001B[43msub_schema\u001B[49m\u001B[43m,\u001B[49m\u001B[43m \u001B[49m\u001B[43msub_obj\u001B[49m\u001B[43m,\u001B[49m\u001B[43m \u001B[49m\u001B[43mlevel\u001B[49m\u001B[38;5;241;43m=\u001B[39;49m\u001B[43mlevel\u001B[49m\u001B[43m \u001B[49m\u001B[38;5;241;43m+\u001B[39;49m\u001B[43m \u001B[49m\u001B[38;5;241;43m1\u001B[39;49m\u001B[43m)\u001B[49m\n\u001B[1;32m   1231\u001B[0m             \u001B[38;5;28;01mfor\u001B[39;00m k, (sub_schema, sub_obj) \u001B[38;5;129;01min\u001B[39;00m zip_dict(schema, obj)\n\u001B[1;32m   1232\u001B[0m         }\n\u001B[1;32m   1233\u001B[0m         \u001B[38;5;28;01mif\u001B[39;00m obj \u001B[38;5;129;01mis\u001B[39;00m \u001B[38;5;129;01mnot\u001B[39;00m \u001B[38;5;28;01mNone\u001B[39;00m\n\u001B[1;32m   1234\u001B[0m         \u001B[38;5;28;01melse\u001B[39;00m \u001B[38;5;28;01mNone\u001B[39;00m\n\u001B[1;32m   1235\u001B[0m     )\n\u001B[1;32m   1237\u001B[0m \u001B[38;5;28;01melif\u001B[39;00m \u001B[38;5;28misinstance\u001B[39m(schema, (\u001B[38;5;28mlist\u001B[39m, \u001B[38;5;28mtuple\u001B[39m)):\n\u001B[1;32m   1238\u001B[0m     sub_schema \u001B[38;5;241m=\u001B[39m schema[\u001B[38;5;241m0\u001B[39m]\n",
      "File \u001B[0;32m/usr/local/Caskroom/mambaforge/base/envs/master_thesis/lib/python3.10/site-packages/datasets/features/features.py:1270\u001B[0m, in \u001B[0;36mencode_nested_example\u001B[0;34m(schema, obj, level)\u001B[0m\n\u001B[1;32m   1268\u001B[0m     \u001B[38;5;28;01mraise\u001B[39;00m \u001B[38;5;167;01mValueError\u001B[39;00m(\u001B[38;5;124mf\u001B[39m\u001B[38;5;124m\"\u001B[39m\u001B[38;5;124mGot a string but expected a list instead: \u001B[39m\u001B[38;5;124m'\u001B[39m\u001B[38;5;132;01m{\u001B[39;00mobj\u001B[38;5;132;01m}\u001B[39;00m\u001B[38;5;124m'\u001B[39m\u001B[38;5;124m\"\u001B[39m)\n\u001B[1;32m   1269\u001B[0m \u001B[38;5;28;01melse\u001B[39;00m:\n\u001B[0;32m-> 1270\u001B[0m     \u001B[38;5;28;01mif\u001B[39;00m \u001B[38;5;28;43mlen\u001B[39;49m\u001B[43m(\u001B[49m\u001B[43mobj\u001B[49m\u001B[43m)\u001B[49m \u001B[38;5;241m>\u001B[39m \u001B[38;5;241m0\u001B[39m:\n\u001B[1;32m   1271\u001B[0m         \u001B[38;5;28;01mfor\u001B[39;00m first_elmt \u001B[38;5;129;01min\u001B[39;00m obj:\n\u001B[1;32m   1272\u001B[0m             \u001B[38;5;28;01mif\u001B[39;00m _check_non_null_non_empty_recursive(first_elmt, schema\u001B[38;5;241m.\u001B[39mfeature):\n",
      "\u001B[0;31mTypeError\u001B[0m: object of type 'ArchiveIterable' has no len()"
     ]
    }
   ],
   "source": [
    "it = iter(rwth_phoenix)\n",
    "\n",
    "first = next(it)\n",
    "\n"
   ],
   "metadata": {
    "collapsed": false,
    "ExecuteTime": {
     "end_time": "2023-11-16T14:14:25.804651Z",
     "start_time": "2023-11-16T14:14:25.714600Z"
    }
   },
   "id": "e84a2b996fac049c"
  },
  {
   "cell_type": "code",
   "execution_count": 14,
   "outputs": [],
   "source": [
    "dl_manager = datasets.StreamingDownloadManager()\n",
    "\n",
    "archive = dl_manager.download('https://storage.googleapis.com/seldon-datasets/sentence_polarity_v1/rt-polaritydata.tar.gz')\n",
    "files = dl_manager.iter_archive(archive)"
   ],
   "metadata": {
    "collapsed": false,
    "ExecuteTime": {
     "end_time": "2023-11-16T14:19:52.806899Z",
     "start_time": "2023-11-16T14:19:52.800182Z"
    }
   },
   "id": "7a7dafcde35c8d48"
  },
  {
   "cell_type": "code",
   "execution_count": 18,
   "outputs": [
    {
     "name": "stdout",
     "output_type": "stream",
     "text": [
      "('rt-polaritydata.README.1.0.txt', <ExFileObject name=''>)\n",
      "('rt-polaritydata/rt-polarity.neg', <ExFileObject name=''>)\n",
      "('rt-polaritydata/rt-polarity.pos', <ExFileObject name=''>)\n"
     ]
    }
   ],
   "source": [
    "\n",
    "ls = list(files)\n",
    "\n",
    "\n",
    "for first in ls:\n",
    "    print(first)\n",
    "\n"
   ],
   "metadata": {
    "collapsed": false,
    "ExecuteTime": {
     "end_time": "2023-11-16T14:23:00.904333Z",
     "start_time": "2023-11-16T14:23:00.447886Z"
    }
   },
   "id": "6cd1b886e0978163"
  }
 ],
 "metadata": {
  "kernelspec": {
   "display_name": "Python 3",
   "language": "python",
   "name": "python3"
  },
  "language_info": {
   "codemirror_mode": {
    "name": "ipython",
    "version": 2
   },
   "file_extension": ".py",
   "mimetype": "text/x-python",
   "name": "python",
   "nbconvert_exporter": "python",
   "pygments_lexer": "ipython2",
   "version": "2.7.6"
  }
 },
 "nbformat": 4,
 "nbformat_minor": 5
}
