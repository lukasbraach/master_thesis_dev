{
 "cells": [
  {
   "cell_type": "code",
   "execution_count": 2,
   "id": "initial_id",
   "metadata": {
    "collapsed": true,
    "ExecuteTime": {
     "end_time": "2023-11-21T10:49:21.004088Z",
     "start_time": "2023-11-21T10:46:05.246766Z"
    }
   },
   "outputs": [
    {
     "data": {
      "text/plain": "Resolving data files:   0%|          | 0/103 [00:00<?, ?it/s]",
      "application/vnd.jupyter.widget-view+json": {
       "version_major": 2,
       "version_minor": 0,
       "model_id": "43d7b9a5e92c4061bd6f862261399e13"
      }
     },
     "metadata": {},
     "output_type": "display_data"
    }
   ],
   "source": [
    "import datasets\n",
    "\n",
    "rwth_phoenix = datasets.load_dataset('lukasbraach/rwth_phoenix_weather_2014', 'multisigner', streaming=True)"
   ]
  },
  {
   "cell_type": "code",
   "execution_count": 3,
   "outputs": [
    {
     "data": {
      "text/plain": "{'train': <datasets.iterable_dataset.IterableDataset at 0x13dacfa60>,\n 'validation': <datasets.iterable_dataset.IterableDataset at 0x13daced10>,\n 'test': <datasets.iterable_dataset.IterableDataset at 0x143709de0>}"
     },
     "execution_count": 3,
     "metadata": {},
     "output_type": "execute_result"
    }
   ],
   "source": [
    "rwth_phoenix\n"
   ],
   "metadata": {
    "collapsed": false,
    "ExecuteTime": {
     "end_time": "2023-11-21T10:56:45.103187Z",
     "start_time": "2023-11-21T10:56:45.097612Z"
    }
   },
   "id": "ea8156cae70ff375"
  },
  {
   "cell_type": "code",
   "execution_count": 4,
   "outputs": [],
   "source": [
    "it = iter(rwth_phoenix['train'])"
   ],
   "metadata": {
    "collapsed": false,
    "ExecuteTime": {
     "end_time": "2023-11-21T10:56:52.833423Z",
     "start_time": "2023-11-21T10:56:52.775273Z"
    }
   },
   "id": "e11255f55bc7cd2"
  },
  {
   "cell_type": "code",
   "execution_count": 9,
   "outputs": [
    {
     "name": "stdout",
     "output_type": "stream",
     "text": [
      "['KLAR', 'IX', 'REGION', 'KOENNEN', 'NEBEL', 'NORDOSTRAUM', 'TAG', 'ANFANG', 'WOLKE', 'WESTRAUM', 'IX', 'EINFACH', 'VERSCHWINDEN', 'MEHR', 'SONNE', '__OFF__']\n",
      "['__ON__', 'WIND', 'SCHWACH', 'MAESSIG', 'NORD', 'SEE', 'IX', 'KOENNEN', 'FRISCH', 'WEHEN', 'WEHEN', 'WEHEN', '__OFF__']\n",
      "['__ON__', 'BERG', 'ALLGAEU', 'HEUTE', 'ABEND', 'VIER', 'GRAD', 'FLUSS', 'ELF', 'GRAD', '__OFF__']\n",
      "['__ON__', 'RUEGEN', 'MORGEN', 'VIERZEHN', 'GRAD', 'FLUSS', 'SOMMER', 'FUENF', 'ZWANZIG', 'BIS', 'SECHS', 'ZWANZIG', 'GRAD', '__OFF__']\n",
      "['__ON__', 'SONNTAG', 'WEST', 'NORDWESTRAUM', 'WOLKE', 'KOENNEN', 'REGEN', 'REGEN', 'ODER', 'GEWITTER', 'KOENNEN']\n"
     ]
    }
   ],
   "source": [
    "for i in range(5):\n",
    "    first = next(it)\n",
    "    print(first['tokens'])\n",
    "\n",
    "\n"
   ],
   "metadata": {
    "collapsed": false,
    "ExecuteTime": {
     "end_time": "2023-11-21T11:15:53.689249Z",
     "start_time": "2023-11-21T11:15:52.456953Z"
    }
   },
   "id": "e84a2b996fac049c"
  }
 ],
 "metadata": {
  "kernelspec": {
   "display_name": "Python 3",
   "language": "python",
   "name": "python3"
  },
  "language_info": {
   "codemirror_mode": {
    "name": "ipython",
    "version": 2
   },
   "file_extension": ".py",
   "mimetype": "text/x-python",
   "name": "python",
   "nbconvert_exporter": "python",
   "pygments_lexer": "ipython2",
   "version": "2.7.6"
  }
 },
 "nbformat": 4,
 "nbformat_minor": 5
}
