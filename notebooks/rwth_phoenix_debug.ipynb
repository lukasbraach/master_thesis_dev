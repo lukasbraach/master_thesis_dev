{
 "cells": [
  {
   "cell_type": "code",
   "execution_count": 1,
   "id": "initial_id",
   "metadata": {
    "collapsed": true,
    "ExecuteTime": {
     "end_time": "2023-12-05T15:18:03.182004Z",
     "start_time": "2023-12-05T15:17:49.514213Z"
    }
   },
   "outputs": [
    {
     "data": {
      "text/plain": "Downloading builder script:   0%|          | 0.00/5.36k [00:00<?, ?B/s]",
      "application/vnd.jupyter.widget-view+json": {
       "version_major": 2,
       "version_minor": 0,
       "model_id": "384e322462d34c59a5def4f09fd19474"
      }
     },
     "metadata": {},
     "output_type": "display_data"
    },
    {
     "data": {
      "text/plain": "Downloading readme:   0%|          | 0.00/1.84k [00:00<?, ?B/s]",
      "application/vnd.jupyter.widget-view+json": {
       "version_major": 2,
       "version_minor": 0,
       "model_id": "7c8ed13aaf404ac3a3877746dc14d3ab"
      }
     },
     "metadata": {},
     "output_type": "display_data"
    }
   ],
   "source": [
    "import datasets\n",
    "\n",
    "rwth_phoenix = datasets.load_dataset('lukasbraach/rwth_phoenix_weather_2014', 'multisigner', streaming=True)"
   ]
  },
  {
   "cell_type": "code",
   "execution_count": 2,
   "outputs": [
    {
     "data": {
      "text/plain": "{'train': <datasets.iterable_dataset.IterableDataset at 0x1292aff10>,\n 'validation': <datasets.iterable_dataset.IterableDataset at 0x1293c3070>,\n 'test': <datasets.iterable_dataset.IterableDataset at 0x13be877f0>}"
     },
     "execution_count": 2,
     "metadata": {},
     "output_type": "execute_result"
    }
   ],
   "source": [
    "rwth_phoenix\n"
   ],
   "metadata": {
    "collapsed": false,
    "ExecuteTime": {
     "end_time": "2023-12-05T15:18:06.299494Z",
     "start_time": "2023-12-05T15:18:06.293342Z"
    }
   },
   "id": "ea8156cae70ff375"
  },
  {
   "cell_type": "code",
   "execution_count": 3,
   "outputs": [],
   "source": [
    "it = iter(rwth_phoenix['train'])"
   ],
   "metadata": {
    "collapsed": false,
    "ExecuteTime": {
     "end_time": "2023-12-05T15:18:08.548608Z",
     "start_time": "2023-12-05T15:18:08.542939Z"
    }
   },
   "id": "e11255f55bc7cd2"
  },
  {
   "cell_type": "code",
   "execution_count": 4,
   "outputs": [
    {
     "data": {
      "text/plain": "{'tokens': ['__ON__',\n  'LIEB',\n  'ZUSCHAUER',\n  'ABEND',\n  'WINTER',\n  'GESTERN',\n  'loc-NORD',\n  'SCHOTTLAND',\n  'loc-REGION',\n  'UEBERSCHWEMMUNG',\n  'AMERIKA',\n  'IX'],\n 'frames': [<PIL.PngImagePlugin.PngImageFile image mode=RGB size=210x260>,\n  <PIL.PngImagePlugin.PngImageFile image mode=RGB size=210x260>,\n  <PIL.PngImagePlugin.PngImageFile image mode=RGB size=210x260>,\n  <PIL.PngImagePlugin.PngImageFile image mode=RGB size=210x260>,\n  <PIL.PngImagePlugin.PngImageFile image mode=RGB size=210x260>,\n  <PIL.PngImagePlugin.PngImageFile image mode=RGB size=210x260>,\n  <PIL.PngImagePlugin.PngImageFile image mode=RGB size=210x260>,\n  <PIL.PngImagePlugin.PngImageFile image mode=RGB size=210x260>,\n  <PIL.PngImagePlugin.PngImageFile image mode=RGB size=210x260>,\n  <PIL.PngImagePlugin.PngImageFile image mode=RGB size=210x260>,\n  <PIL.PngImagePlugin.PngImageFile image mode=RGB size=210x260>,\n  <PIL.PngImagePlugin.PngImageFile image mode=RGB size=210x260>,\n  <PIL.PngImagePlugin.PngImageFile image mode=RGB size=210x260>,\n  <PIL.PngImagePlugin.PngImageFile image mode=RGB size=210x260>,\n  <PIL.PngImagePlugin.PngImageFile image mode=RGB size=210x260>,\n  <PIL.PngImagePlugin.PngImageFile image mode=RGB size=210x260>,\n  <PIL.PngImagePlugin.PngImageFile image mode=RGB size=210x260>,\n  <PIL.PngImagePlugin.PngImageFile image mode=RGB size=210x260>,\n  <PIL.PngImagePlugin.PngImageFile image mode=RGB size=210x260>,\n  <PIL.PngImagePlugin.PngImageFile image mode=RGB size=210x260>,\n  <PIL.PngImagePlugin.PngImageFile image mode=RGB size=210x260>,\n  <PIL.PngImagePlugin.PngImageFile image mode=RGB size=210x260>,\n  <PIL.PngImagePlugin.PngImageFile image mode=RGB size=210x260>,\n  <PIL.PngImagePlugin.PngImageFile image mode=RGB size=210x260>,\n  <PIL.PngImagePlugin.PngImageFile image mode=RGB size=210x260>,\n  <PIL.PngImagePlugin.PngImageFile image mode=RGB size=210x260>,\n  <PIL.PngImagePlugin.PngImageFile image mode=RGB size=210x260>,\n  <PIL.PngImagePlugin.PngImageFile image mode=RGB size=210x260>,\n  <PIL.PngImagePlugin.PngImageFile image mode=RGB size=210x260>,\n  <PIL.PngImagePlugin.PngImageFile image mode=RGB size=210x260>,\n  <PIL.PngImagePlugin.PngImageFile image mode=RGB size=210x260>,\n  <PIL.PngImagePlugin.PngImageFile image mode=RGB size=210x260>,\n  <PIL.PngImagePlugin.PngImageFile image mode=RGB size=210x260>,\n  <PIL.PngImagePlugin.PngImageFile image mode=RGB size=210x260>,\n  <PIL.PngImagePlugin.PngImageFile image mode=RGB size=210x260>,\n  <PIL.PngImagePlugin.PngImageFile image mode=RGB size=210x260>,\n  <PIL.PngImagePlugin.PngImageFile image mode=RGB size=210x260>,\n  <PIL.PngImagePlugin.PngImageFile image mode=RGB size=210x260>,\n  <PIL.PngImagePlugin.PngImageFile image mode=RGB size=210x260>,\n  <PIL.PngImagePlugin.PngImageFile image mode=RGB size=210x260>,\n  <PIL.PngImagePlugin.PngImageFile image mode=RGB size=210x260>,\n  <PIL.PngImagePlugin.PngImageFile image mode=RGB size=210x260>,\n  <PIL.PngImagePlugin.PngImageFile image mode=RGB size=210x260>,\n  <PIL.PngImagePlugin.PngImageFile image mode=RGB size=210x260>,\n  <PIL.PngImagePlugin.PngImageFile image mode=RGB size=210x260>,\n  <PIL.PngImagePlugin.PngImageFile image mode=RGB size=210x260>,\n  <PIL.PngImagePlugin.PngImageFile image mode=RGB size=210x260>,\n  <PIL.PngImagePlugin.PngImageFile image mode=RGB size=210x260>,\n  <PIL.PngImagePlugin.PngImageFile image mode=RGB size=210x260>,\n  <PIL.PngImagePlugin.PngImageFile image mode=RGB size=210x260>,\n  <PIL.PngImagePlugin.PngImageFile image mode=RGB size=210x260>,\n  <PIL.PngImagePlugin.PngImageFile image mode=RGB size=210x260>,\n  <PIL.PngImagePlugin.PngImageFile image mode=RGB size=210x260>,\n  <PIL.PngImagePlugin.PngImageFile image mode=RGB size=210x260>,\n  <PIL.PngImagePlugin.PngImageFile image mode=RGB size=210x260>,\n  <PIL.PngImagePlugin.PngImageFile image mode=RGB size=210x260>,\n  <PIL.PngImagePlugin.PngImageFile image mode=RGB size=210x260>,\n  <PIL.PngImagePlugin.PngImageFile image mode=RGB size=210x260>,\n  <PIL.PngImagePlugin.PngImageFile image mode=RGB size=210x260>,\n  <PIL.PngImagePlugin.PngImageFile image mode=RGB size=210x260>,\n  <PIL.PngImagePlugin.PngImageFile image mode=RGB size=210x260>,\n  <PIL.PngImagePlugin.PngImageFile image mode=RGB size=210x260>,\n  <PIL.PngImagePlugin.PngImageFile image mode=RGB size=210x260>,\n  <PIL.PngImagePlugin.PngImageFile image mode=RGB size=210x260>,\n  <PIL.PngImagePlugin.PngImageFile image mode=RGB size=210x260>,\n  <PIL.PngImagePlugin.PngImageFile image mode=RGB size=210x260>,\n  <PIL.PngImagePlugin.PngImageFile image mode=RGB size=210x260>,\n  <PIL.PngImagePlugin.PngImageFile image mode=RGB size=210x260>,\n  <PIL.PngImagePlugin.PngImageFile image mode=RGB size=210x260>,\n  <PIL.PngImagePlugin.PngImageFile image mode=RGB size=210x260>,\n  <PIL.PngImagePlugin.PngImageFile image mode=RGB size=210x260>,\n  <PIL.PngImagePlugin.PngImageFile image mode=RGB size=210x260>,\n  <PIL.PngImagePlugin.PngImageFile image mode=RGB size=210x260>,\n  <PIL.PngImagePlugin.PngImageFile image mode=RGB size=210x260>,\n  <PIL.PngImagePlugin.PngImageFile image mode=RGB size=210x260>,\n  <PIL.PngImagePlugin.PngImageFile image mode=RGB size=210x260>,\n  <PIL.PngImagePlugin.PngImageFile image mode=RGB size=210x260>,\n  <PIL.PngImagePlugin.PngImageFile image mode=RGB size=210x260>,\n  <PIL.PngImagePlugin.PngImageFile image mode=RGB size=210x260>,\n  <PIL.PngImagePlugin.PngImageFile image mode=RGB size=210x260>,\n  <PIL.PngImagePlugin.PngImageFile image mode=RGB size=210x260>,\n  <PIL.PngImagePlugin.PngImageFile image mode=RGB size=210x260>,\n  <PIL.PngImagePlugin.PngImageFile image mode=RGB size=210x260>,\n  <PIL.PngImagePlugin.PngImageFile image mode=RGB size=210x260>,\n  <PIL.PngImagePlugin.PngImageFile image mode=RGB size=210x260>,\n  <PIL.PngImagePlugin.PngImageFile image mode=RGB size=210x260>,\n  <PIL.PngImagePlugin.PngImageFile image mode=RGB size=210x260>,\n  <PIL.PngImagePlugin.PngImageFile image mode=RGB size=210x260>,\n  <PIL.PngImagePlugin.PngImageFile image mode=RGB size=210x260>,\n  <PIL.PngImagePlugin.PngImageFile image mode=RGB size=210x260>,\n  <PIL.PngImagePlugin.PngImageFile image mode=RGB size=210x260>,\n  <PIL.PngImagePlugin.PngImageFile image mode=RGB size=210x260>,\n  <PIL.PngImagePlugin.PngImageFile image mode=RGB size=210x260>,\n  <PIL.PngImagePlugin.PngImageFile image mode=RGB size=210x260>,\n  <PIL.PngImagePlugin.PngImageFile image mode=RGB size=210x260>,\n  <PIL.PngImagePlugin.PngImageFile image mode=RGB size=210x260>,\n  <PIL.PngImagePlugin.PngImageFile image mode=RGB size=210x260>,\n  <PIL.PngImagePlugin.PngImageFile image mode=RGB size=210x260>,\n  <PIL.PngImagePlugin.PngImageFile image mode=RGB size=210x260>,\n  <PIL.PngImagePlugin.PngImageFile image mode=RGB size=210x260>,\n  <PIL.PngImagePlugin.PngImageFile image mode=RGB size=210x260>,\n  <PIL.PngImagePlugin.PngImageFile image mode=RGB size=210x260>,\n  <PIL.PngImagePlugin.PngImageFile image mode=RGB size=210x260>,\n  <PIL.PngImagePlugin.PngImageFile image mode=RGB size=210x260>,\n  <PIL.PngImagePlugin.PngImageFile image mode=RGB size=210x260>,\n  <PIL.PngImagePlugin.PngImageFile image mode=RGB size=210x260>,\n  <PIL.PngImagePlugin.PngImageFile image mode=RGB size=210x260>,\n  <PIL.PngImagePlugin.PngImageFile image mode=RGB size=210x260>,\n  <PIL.PngImagePlugin.PngImageFile image mode=RGB size=210x260>,\n  <PIL.PngImagePlugin.PngImageFile image mode=RGB size=210x260>,\n  <PIL.PngImagePlugin.PngImageFile image mode=RGB size=210x260>,\n  <PIL.PngImagePlugin.PngImageFile image mode=RGB size=210x260>,\n  <PIL.PngImagePlugin.PngImageFile image mode=RGB size=210x260>,\n  <PIL.PngImagePlugin.PngImageFile image mode=RGB size=210x260>,\n  <PIL.PngImagePlugin.PngImageFile image mode=RGB size=210x260>,\n  <PIL.PngImagePlugin.PngImageFile image mode=RGB size=210x260>,\n  <PIL.PngImagePlugin.PngImageFile image mode=RGB size=210x260>,\n  <PIL.PngImagePlugin.PngImageFile image mode=RGB size=210x260>,\n  <PIL.PngImagePlugin.PngImageFile image mode=RGB size=210x260>,\n  <PIL.PngImagePlugin.PngImageFile image mode=RGB size=210x260>,\n  <PIL.PngImagePlugin.PngImageFile image mode=RGB size=210x260>,\n  <PIL.PngImagePlugin.PngImageFile image mode=RGB size=210x260>,\n  <PIL.PngImagePlugin.PngImageFile image mode=RGB size=210x260>,\n  <PIL.PngImagePlugin.PngImageFile image mode=RGB size=210x260>,\n  <PIL.PngImagePlugin.PngImageFile image mode=RGB size=210x260>,\n  <PIL.PngImagePlugin.PngImageFile image mode=RGB size=210x260>,\n  <PIL.PngImagePlugin.PngImageFile image mode=RGB size=210x260>,\n  <PIL.PngImagePlugin.PngImageFile image mode=RGB size=210x260>,\n  <PIL.PngImagePlugin.PngImageFile image mode=RGB size=210x260>,\n  <PIL.PngImagePlugin.PngImageFile image mode=RGB size=210x260>,\n  <PIL.PngImagePlugin.PngImageFile image mode=RGB size=210x260>,\n  <PIL.PngImagePlugin.PngImageFile image mode=RGB size=210x260>,\n  <PIL.PngImagePlugin.PngImageFile image mode=RGB size=210x260>,\n  <PIL.PngImagePlugin.PngImageFile image mode=RGB size=210x260>,\n  <PIL.PngImagePlugin.PngImageFile image mode=RGB size=210x260>,\n  <PIL.PngImagePlugin.PngImageFile image mode=RGB size=210x260>,\n  <PIL.PngImagePlugin.PngImageFile image mode=RGB size=210x260>,\n  <PIL.PngImagePlugin.PngImageFile image mode=RGB size=210x260>,\n  <PIL.PngImagePlugin.PngImageFile image mode=RGB size=210x260>,\n  <PIL.PngImagePlugin.PngImageFile image mode=RGB size=210x260>,\n  <PIL.PngImagePlugin.PngImageFile image mode=RGB size=210x260>,\n  <PIL.PngImagePlugin.PngImageFile image mode=RGB size=210x260>,\n  <PIL.PngImagePlugin.PngImageFile image mode=RGB size=210x260>,\n  <PIL.PngImagePlugin.PngImageFile image mode=RGB size=210x260>,\n  <PIL.PngImagePlugin.PngImageFile image mode=RGB size=210x260>,\n  <PIL.PngImagePlugin.PngImageFile image mode=RGB size=210x260>,\n  <PIL.PngImagePlugin.PngImageFile image mode=RGB size=210x260>,\n  <PIL.PngImagePlugin.PngImageFile image mode=RGB size=210x260>,\n  <PIL.PngImagePlugin.PngImageFile image mode=RGB size=210x260>,\n  <PIL.PngImagePlugin.PngImageFile image mode=RGB size=210x260>,\n  <PIL.PngImagePlugin.PngImageFile image mode=RGB size=210x260>,\n  <PIL.PngImagePlugin.PngImageFile image mode=RGB size=210x260>,\n  <PIL.PngImagePlugin.PngImageFile image mode=RGB size=210x260>,\n  <PIL.PngImagePlugin.PngImageFile image mode=RGB size=210x260>,\n  <PIL.PngImagePlugin.PngImageFile image mode=RGB size=210x260>,\n  <PIL.PngImagePlugin.PngImageFile image mode=RGB size=210x260>,\n  <PIL.PngImagePlugin.PngImageFile image mode=RGB size=210x260>,\n  <PIL.PngImagePlugin.PngImageFile image mode=RGB size=210x260>,\n  <PIL.PngImagePlugin.PngImageFile image mode=RGB size=210x260>,\n  <PIL.PngImagePlugin.PngImageFile image mode=RGB size=210x260>,\n  <PIL.PngImagePlugin.PngImageFile image mode=RGB size=210x260>,\n  <PIL.PngImagePlugin.PngImageFile image mode=RGB size=210x260>,\n  <PIL.PngImagePlugin.PngImageFile image mode=RGB size=210x260>,\n  <PIL.PngImagePlugin.PngImageFile image mode=RGB size=210x260>,\n  <PIL.PngImagePlugin.PngImageFile image mode=RGB size=210x260>,\n  <PIL.PngImagePlugin.PngImageFile image mode=RGB size=210x260>,\n  <PIL.PngImagePlugin.PngImageFile image mode=RGB size=210x260>,\n  <PIL.PngImagePlugin.PngImageFile image mode=RGB size=210x260>,\n  <PIL.PngImagePlugin.PngImageFile image mode=RGB size=210x260>,\n  <PIL.PngImagePlugin.PngImageFile image mode=RGB size=210x260>,\n  <PIL.PngImagePlugin.PngImageFile image mode=RGB size=210x260>,\n  <PIL.PngImagePlugin.PngImageFile image mode=RGB size=210x260>,\n  <PIL.PngImagePlugin.PngImageFile image mode=RGB size=210x260>,\n  <PIL.PngImagePlugin.PngImageFile image mode=RGB size=210x260>,\n  <PIL.PngImagePlugin.PngImageFile image mode=RGB size=210x260>,\n  <PIL.PngImagePlugin.PngImageFile image mode=RGB size=210x260>]}"
     },
     "execution_count": 4,
     "metadata": {},
     "output_type": "execute_result"
    }
   ],
   "source": [
    "first = next(it)\n",
    "\n",
    "first"
   ],
   "metadata": {
    "collapsed": false,
    "ExecuteTime": {
     "end_time": "2023-12-05T15:18:14.237538Z",
     "start_time": "2023-12-05T15:18:10.274842Z"
    }
   },
   "id": "e84a2b996fac049c"
  },
  {
   "cell_type": "code",
   "execution_count": 6,
   "outputs": [
    {
     "data": {
      "text/plain": "176"
     },
     "execution_count": 6,
     "metadata": {},
     "output_type": "execute_result"
    }
   ],
   "source": [
    "len(first['frames'])"
   ],
   "metadata": {
    "collapsed": false,
    "ExecuteTime": {
     "end_time": "2023-12-05T15:23:57.127012Z",
     "start_time": "2023-12-05T15:23:57.119902Z"
    }
   },
   "id": "d2516e37a7da58fa"
  }
 ],
 "metadata": {
  "kernelspec": {
   "display_name": "Python 3",
   "language": "python",
   "name": "python3"
  },
  "language_info": {
   "codemirror_mode": {
    "name": "ipython",
    "version": 2
   },
   "file_extension": ".py",
   "mimetype": "text/x-python",
   "name": "python",
   "nbconvert_exporter": "python",
   "pygments_lexer": "ipython2",
   "version": "2.7.6"
  }
 },
 "nbformat": 4,
 "nbformat_minor": 5
}
