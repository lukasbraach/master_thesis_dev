{
 "cells": [
  {
   "cell_type": "code",
   "execution_count": 12,
   "id": "initial_id",
   "metadata": {
    "collapsed": true,
    "ExecuteTime": {
     "end_time": "2023-11-16T13:39:02.006604Z",
     "start_time": "2023-11-16T13:39:01.963311Z"
    }
   },
   "outputs": [
    {
     "data": {
      "text/plain": "0       [__ON__, LIEB, ZUSCHAUER, ABEND, WINTER, GESTE...\n1              [loc-WEST, WARM, loc-WEST, BLEIBEN, KUEHL]\n2       [KUEHL, KUEHL, IN-KOMMEND, NACHT, MINUS, loc-M...\n3       [MORGEN, TEMPERATUR, ACHT, BIS, DREIZEHN, MAXI...\n4       [AUCH, SAMSTAG, WEST, FREUNDLICH, IX, TROCKEN,...\n                              ...                        \n5667    [__ON__, NORD, loc-REGION, HEUTE, NACHT, SCHON...\n5668    [__ON__, AUCH, STURM, WEHEN, WEHEN, NORD, SEE,...\n5669    [__ON__, MORGEN, loc-SECHS, GRAD, loc-SIEBENZE...\n5670    [__ON__, MONTAG, loc-SUEDOST, loc-REGION, VIEL...\n5671    [__EMOTION__, IM-VERLAUF, BLEIBEN, WECHSELHAFT...\nName: annotation, Length: 5672, dtype: object"
     },
     "execution_count": 12,
     "metadata": {},
     "output_type": "execute_result"
    }
   ],
   "source": [
    "import pandas as pd\n",
    "\n",
    "\n",
    "df = pd.read_csv('/Users/lukasbraach/Documents/PycharmProjects/master_thesis_dev/data/rwth_phoenix_weather_2014/data/phoenix-2014-multisigner/annotations/manual/train.corpus.csv', sep='|')\n",
    "\n",
    "df.annotation.map(\n",
    "    lambda x: x.strip().split()\n",
    ")\n",
    "\n",
    "\n",
    "\n"
   ]
  },
  {
   "cell_type": "code",
   "execution_count": null,
   "outputs": [],
   "source": [],
   "metadata": {
    "collapsed": false
   },
   "id": "e84a2b996fac049c"
  }
 ],
 "metadata": {
  "kernelspec": {
   "display_name": "Python 3",
   "language": "python",
   "name": "python3"
  },
  "language_info": {
   "codemirror_mode": {
    "name": "ipython",
    "version": 2
   },
   "file_extension": ".py",
   "mimetype": "text/x-python",
   "name": "python",
   "nbconvert_exporter": "python",
   "pygments_lexer": "ipython2",
   "version": "2.7.6"
  }
 },
 "nbformat": 4,
 "nbformat_minor": 5
}
