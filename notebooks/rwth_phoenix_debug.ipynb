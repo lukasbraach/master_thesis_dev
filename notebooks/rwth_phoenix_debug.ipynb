{
 "cells": [
  {
   "cell_type": "code",
   "execution_count": 21,
   "id": "initial_id",
   "metadata": {
    "collapsed": true,
    "ExecuteTime": {
     "end_time": "2023-11-16T14:26:14.704319Z",
     "start_time": "2023-11-16T14:25:59.863854Z"
    }
   },
   "outputs": [
    {
     "data": {
      "text/plain": "Downloading builder script:   0%|          | 0.00/5.13k [00:00<?, ?B/s]",
      "application/vnd.jupyter.widget-view+json": {
       "version_major": 2,
       "version_minor": 0,
       "model_id": "20bf282b3d384cc1b81b5e6700f45ac8"
      }
     },
     "metadata": {},
     "output_type": "display_data"
    }
   ],
   "source": [
    "import datasets\n",
    "\n",
    "rwth_phoenix = datasets.load_dataset('lukasbraach/rwth_phoenix_weather_2014', 'multisigner', split='test', streaming=True)"
   ]
  },
  {
   "cell_type": "code",
   "execution_count": 22,
   "outputs": [
    {
     "ename": "ValueError",
     "evalue": "too many values to unpack (expected 2)",
     "output_type": "error",
     "traceback": [
      "\u001B[0;31m---------------------------------------------------------------------------\u001B[0m",
      "\u001B[0;31mValueError\u001B[0m                                Traceback (most recent call last)",
      "Cell \u001B[0;32mIn[22], line 3\u001B[0m\n\u001B[1;32m      1\u001B[0m it \u001B[38;5;241m=\u001B[39m \u001B[38;5;28miter\u001B[39m(rwth_phoenix)\n\u001B[0;32m----> 3\u001B[0m first \u001B[38;5;241m=\u001B[39m \u001B[38;5;28;43mnext\u001B[39;49m\u001B[43m(\u001B[49m\u001B[43mit\u001B[49m\u001B[43m)\u001B[49m\n",
      "File \u001B[0;32m/usr/local/Caskroom/mambaforge/base/envs/master_thesis/lib/python3.10/site-packages/datasets/iterable_dataset.py:1379\u001B[0m, in \u001B[0;36mIterableDataset.__iter__\u001B[0;34m(self)\u001B[0m\n\u001B[1;32m   1376\u001B[0m         \u001B[38;5;28;01myield\u001B[39;00m formatter\u001B[38;5;241m.\u001B[39mformat_row(pa_table)\n\u001B[1;32m   1377\u001B[0m     \u001B[38;5;28;01mreturn\u001B[39;00m\n\u001B[0;32m-> 1379\u001B[0m \u001B[38;5;28;01mfor\u001B[39;00m key, example \u001B[38;5;129;01min\u001B[39;00m ex_iterable:\n\u001B[1;32m   1380\u001B[0m     \u001B[38;5;28;01mif\u001B[39;00m \u001B[38;5;28mself\u001B[39m\u001B[38;5;241m.\u001B[39mfeatures:\n\u001B[1;32m   1381\u001B[0m         \u001B[38;5;66;03m# `IterableDataset` automatically fills missing columns with None.\u001B[39;00m\n\u001B[1;32m   1382\u001B[0m         \u001B[38;5;66;03m# This is done with `_apply_feature_types_on_example`.\u001B[39;00m\n\u001B[1;32m   1383\u001B[0m         example \u001B[38;5;241m=\u001B[39m _apply_feature_types_on_example(\n\u001B[1;32m   1384\u001B[0m             example, \u001B[38;5;28mself\u001B[39m\u001B[38;5;241m.\u001B[39mfeatures, token_per_repo_id\u001B[38;5;241m=\u001B[39m\u001B[38;5;28mself\u001B[39m\u001B[38;5;241m.\u001B[39m_token_per_repo_id\n\u001B[1;32m   1385\u001B[0m         )\n",
      "File \u001B[0;32m/usr/local/Caskroom/mambaforge/base/envs/master_thesis/lib/python3.10/site-packages/datasets/iterable_dataset.py:233\u001B[0m, in \u001B[0;36mExamplesIterable.__iter__\u001B[0;34m(self)\u001B[0m\n\u001B[1;32m    232\u001B[0m \u001B[38;5;28;01mdef\u001B[39;00m \u001B[38;5;21m__iter__\u001B[39m(\u001B[38;5;28mself\u001B[39m):\n\u001B[0;32m--> 233\u001B[0m     \u001B[38;5;28;01myield from\u001B[39;00m \u001B[38;5;28mself\u001B[39m\u001B[38;5;241m.\u001B[39mgenerate_examples_fn(\u001B[38;5;241m*\u001B[39m\u001B[38;5;241m*\u001B[39m\u001B[38;5;28mself\u001B[39m\u001B[38;5;241m.\u001B[39mkwargs)\n",
      "File \u001B[0;32m~/.cache/huggingface/modules/datasets_modules/datasets/lukasbraach--rwth_phoenix_weather_2014/2e5ef705b10aba6bd262468905d98ceb16f9b6af980f115e0a43c82cd5f0b2d2/rwth_phoenix_weather_2014.py:142\u001B[0m, in \u001B[0;36mRWTHPhoenixWeather2014._generate_examples\u001B[0;34m(self, split_ids, split_frames, split_tokens)\u001B[0m\n\u001B[1;32m    140\u001B[0m \u001B[38;5;28;01mdef\u001B[39;00m \u001B[38;5;21m_generate_examples\u001B[39m(\u001B[38;5;28mself\u001B[39m, split_ids, split_frames, split_tokens):\n\u001B[1;32m    141\u001B[0m     \u001B[38;5;28;01mfor\u001B[39;00m \u001B[38;5;28mid\u001B[39m, frames, tokens \u001B[38;5;129;01min\u001B[39;00m \u001B[38;5;28mzip\u001B[39m(split_ids, split_frames, split_tokens):\n\u001B[0;32m--> 142\u001B[0m         frames_as_list \u001B[38;5;241m=\u001B[39m [\n\u001B[1;32m    143\u001B[0m             {\u001B[38;5;124m\"\u001B[39m\u001B[38;5;124mpath\u001B[39m\u001B[38;5;124m\"\u001B[39m: p, \u001B[38;5;124m\"\u001B[39m\u001B[38;5;124mbytes\u001B[39m\u001B[38;5;124m\"\u001B[39m: im\u001B[38;5;241m.\u001B[39mread()} \u001B[38;5;28;01mfor\u001B[39;00m p, im \u001B[38;5;129;01min\u001B[39;00m split_frames\n\u001B[1;32m    144\u001B[0m         ]\n\u001B[1;32m    146\u001B[0m         \u001B[38;5;28;01myield\u001B[39;00m \u001B[38;5;28mid\u001B[39m, {\n\u001B[1;32m    147\u001B[0m             \u001B[38;5;124m\"\u001B[39m\u001B[38;5;124mtokens\u001B[39m\u001B[38;5;124m\"\u001B[39m: tokens,\n\u001B[1;32m    148\u001B[0m             \u001B[38;5;124m\"\u001B[39m\u001B[38;5;124mframes\u001B[39m\u001B[38;5;124m\"\u001B[39m: frames_as_list,\n\u001B[1;32m    149\u001B[0m         }\n",
      "File \u001B[0;32m~/.cache/huggingface/modules/datasets_modules/datasets/lukasbraach--rwth_phoenix_weather_2014/2e5ef705b10aba6bd262468905d98ceb16f9b6af980f115e0a43c82cd5f0b2d2/rwth_phoenix_weather_2014.py:143\u001B[0m, in \u001B[0;36m<listcomp>\u001B[0;34m(.0)\u001B[0m\n\u001B[1;32m    140\u001B[0m \u001B[38;5;28;01mdef\u001B[39;00m \u001B[38;5;21m_generate_examples\u001B[39m(\u001B[38;5;28mself\u001B[39m, split_ids, split_frames, split_tokens):\n\u001B[1;32m    141\u001B[0m     \u001B[38;5;28;01mfor\u001B[39;00m \u001B[38;5;28mid\u001B[39m, frames, tokens \u001B[38;5;129;01min\u001B[39;00m \u001B[38;5;28mzip\u001B[39m(split_ids, split_frames, split_tokens):\n\u001B[1;32m    142\u001B[0m         frames_as_list \u001B[38;5;241m=\u001B[39m [\n\u001B[0;32m--> 143\u001B[0m             {\u001B[38;5;124m\"\u001B[39m\u001B[38;5;124mpath\u001B[39m\u001B[38;5;124m\"\u001B[39m: p, \u001B[38;5;124m\"\u001B[39m\u001B[38;5;124mbytes\u001B[39m\u001B[38;5;124m\"\u001B[39m: im\u001B[38;5;241m.\u001B[39mread()} \u001B[38;5;28;01mfor\u001B[39;00m p, im \u001B[38;5;129;01min\u001B[39;00m split_frames\n\u001B[1;32m    144\u001B[0m         ]\n\u001B[1;32m    146\u001B[0m         \u001B[38;5;28;01myield\u001B[39;00m \u001B[38;5;28mid\u001B[39m, {\n\u001B[1;32m    147\u001B[0m             \u001B[38;5;124m\"\u001B[39m\u001B[38;5;124mtokens\u001B[39m\u001B[38;5;124m\"\u001B[39m: tokens,\n\u001B[1;32m    148\u001B[0m             \u001B[38;5;124m\"\u001B[39m\u001B[38;5;124mframes\u001B[39m\u001B[38;5;124m\"\u001B[39m: frames_as_list,\n\u001B[1;32m    149\u001B[0m         }\n",
      "\u001B[0;31mValueError\u001B[0m: too many values to unpack (expected 2)"
     ]
    }
   ],
   "source": [
    "it = iter(rwth_phoenix)\n",
    "\n",
    "first = next(it)\n",
    "\n"
   ],
   "metadata": {
    "collapsed": false,
    "ExecuteTime": {
     "end_time": "2023-11-16T14:26:31.968965Z",
     "start_time": "2023-11-16T14:26:16.508454Z"
    }
   },
   "id": "e84a2b996fac049c"
  },
  {
   "cell_type": "code",
   "execution_count": 14,
   "outputs": [],
   "source": [
    "dl_manager = datasets.StreamingDownloadManager()\n",
    "\n",
    "archive = dl_manager.download('https://storage.googleapis.com/seldon-datasets/sentence_polarity_v1/rt-polaritydata.tar.gz')\n",
    "files = dl_manager.iter_archive(archive)"
   ],
   "metadata": {
    "collapsed": false,
    "ExecuteTime": {
     "end_time": "2023-11-16T14:19:52.806899Z",
     "start_time": "2023-11-16T14:19:52.800182Z"
    }
   },
   "id": "7a7dafcde35c8d48"
  },
  {
   "cell_type": "code",
   "execution_count": 18,
   "outputs": [
    {
     "name": "stdout",
     "output_type": "stream",
     "text": [
      "('rt-polaritydata.README.1.0.txt', <ExFileObject name=''>)\n",
      "('rt-polaritydata/rt-polarity.neg', <ExFileObject name=''>)\n",
      "('rt-polaritydata/rt-polarity.pos', <ExFileObject name=''>)\n"
     ]
    }
   ],
   "source": [
    "\n",
    "ls = list(files)\n",
    "\n",
    "\n",
    "for first in ls:\n",
    "    print(first)\n",
    "\n"
   ],
   "metadata": {
    "collapsed": false,
    "ExecuteTime": {
     "end_time": "2023-11-16T14:23:00.904333Z",
     "start_time": "2023-11-16T14:23:00.447886Z"
    }
   },
   "id": "6cd1b886e0978163"
  }
 ],
 "metadata": {
  "kernelspec": {
   "display_name": "Python 3",
   "language": "python",
   "name": "python3"
  },
  "language_info": {
   "codemirror_mode": {
    "name": "ipython",
    "version": 2
   },
   "file_extension": ".py",
   "mimetype": "text/x-python",
   "name": "python",
   "nbconvert_exporter": "python",
   "pygments_lexer": "ipython2",
   "version": "2.7.6"
  }
 },
 "nbformat": 4,
 "nbformat_minor": 5
}
