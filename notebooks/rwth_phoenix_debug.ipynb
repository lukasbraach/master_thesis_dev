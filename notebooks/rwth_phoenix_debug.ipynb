{
 "cells": [
  {
   "cell_type": "code",
   "execution_count": 19,
   "id": "initial_id",
   "metadata": {
    "collapsed": true,
    "ExecuteTime": {
     "end_time": "2023-11-16T14:23:41.529984Z",
     "start_time": "2023-11-16T14:23:35.006992Z"
    }
   },
   "outputs": [
    {
     "data": {
      "text/plain": "Downloading builder script:   0%|          | 0.00/5.05k [00:00<?, ?B/s]",
      "application/vnd.jupyter.widget-view+json": {
       "version_major": 2,
       "version_minor": 0,
       "model_id": "9540369bba174fd4b081205160544d01"
      }
     },
     "metadata": {},
     "output_type": "display_data"
    }
   ],
   "source": [
    "import datasets\n",
    "\n",
    "rwth_phoenix = datasets.load_dataset('lukasbraach/rwth_phoenix_weather_2014', 'multisigner', split='test', streaming=True)"
   ]
  },
  {
   "cell_type": "code",
   "execution_count": 20,
   "outputs": [
    {
     "ename": "AttributeError",
     "evalue": "'ArchiveIterable' object has no attribute 'get'",
     "output_type": "error",
     "traceback": [
      "\u001B[0;31m---------------------------------------------------------------------------\u001B[0m",
      "\u001B[0;31mAttributeError\u001B[0m                            Traceback (most recent call last)",
      "Cell \u001B[0;32mIn[20], line 3\u001B[0m\n\u001B[1;32m      1\u001B[0m it \u001B[38;5;241m=\u001B[39m \u001B[38;5;28miter\u001B[39m(rwth_phoenix)\n\u001B[0;32m----> 3\u001B[0m first \u001B[38;5;241m=\u001B[39m \u001B[38;5;28;43mnext\u001B[39;49m\u001B[43m(\u001B[49m\u001B[43mit\u001B[49m\u001B[43m)\u001B[49m\n",
      "File \u001B[0;32m/usr/local/Caskroom/mambaforge/base/envs/master_thesis/lib/python3.10/site-packages/datasets/iterable_dataset.py:1383\u001B[0m, in \u001B[0;36mIterableDataset.__iter__\u001B[0;34m(self)\u001B[0m\n\u001B[1;32m   1379\u001B[0m \u001B[38;5;28;01mfor\u001B[39;00m key, example \u001B[38;5;129;01min\u001B[39;00m ex_iterable:\n\u001B[1;32m   1380\u001B[0m     \u001B[38;5;28;01mif\u001B[39;00m \u001B[38;5;28mself\u001B[39m\u001B[38;5;241m.\u001B[39mfeatures:\n\u001B[1;32m   1381\u001B[0m         \u001B[38;5;66;03m# `IterableDataset` automatically fills missing columns with None.\u001B[39;00m\n\u001B[1;32m   1382\u001B[0m         \u001B[38;5;66;03m# This is done with `_apply_feature_types_on_example`.\u001B[39;00m\n\u001B[0;32m-> 1383\u001B[0m         example \u001B[38;5;241m=\u001B[39m \u001B[43m_apply_feature_types_on_example\u001B[49m\u001B[43m(\u001B[49m\n\u001B[1;32m   1384\u001B[0m \u001B[43m            \u001B[49m\u001B[43mexample\u001B[49m\u001B[43m,\u001B[49m\u001B[43m \u001B[49m\u001B[38;5;28;43mself\u001B[39;49m\u001B[38;5;241;43m.\u001B[39;49m\u001B[43mfeatures\u001B[49m\u001B[43m,\u001B[49m\u001B[43m \u001B[49m\u001B[43mtoken_per_repo_id\u001B[49m\u001B[38;5;241;43m=\u001B[39;49m\u001B[38;5;28;43mself\u001B[39;49m\u001B[38;5;241;43m.\u001B[39;49m\u001B[43m_token_per_repo_id\u001B[49m\n\u001B[1;32m   1385\u001B[0m \u001B[43m        \u001B[49m\u001B[43m)\u001B[49m\n\u001B[1;32m   1386\u001B[0m     \u001B[38;5;28;01myield\u001B[39;00m format_dict(example) \u001B[38;5;28;01mif\u001B[39;00m format_dict \u001B[38;5;28;01melse\u001B[39;00m example\n",
      "File \u001B[0;32m/usr/local/Caskroom/mambaforge/base/envs/master_thesis/lib/python3.10/site-packages/datasets/iterable_dataset.py:1075\u001B[0m, in \u001B[0;36m_apply_feature_types_on_example\u001B[0;34m(example, features, token_per_repo_id)\u001B[0m\n\u001B[1;32m   1073\u001B[0m         example[column_name] \u001B[38;5;241m=\u001B[39m \u001B[38;5;28;01mNone\u001B[39;00m\n\u001B[1;32m   1074\u001B[0m \u001B[38;5;66;03m# we encode the example for ClassLabel feature types for example\u001B[39;00m\n\u001B[0;32m-> 1075\u001B[0m encoded_example \u001B[38;5;241m=\u001B[39m \u001B[43mfeatures\u001B[49m\u001B[38;5;241;43m.\u001B[39;49m\u001B[43mencode_example\u001B[49m\u001B[43m(\u001B[49m\u001B[43mexample\u001B[49m\u001B[43m)\u001B[49m\n\u001B[1;32m   1076\u001B[0m \u001B[38;5;66;03m# Decode example for Audio feature, e.g.\u001B[39;00m\n\u001B[1;32m   1077\u001B[0m decoded_example \u001B[38;5;241m=\u001B[39m features\u001B[38;5;241m.\u001B[39mdecode_example(encoded_example, token_per_repo_id\u001B[38;5;241m=\u001B[39mtoken_per_repo_id)\n",
      "File \u001B[0;32m/usr/local/Caskroom/mambaforge/base/envs/master_thesis/lib/python3.10/site-packages/datasets/features/features.py:1852\u001B[0m, in \u001B[0;36mFeatures.encode_example\u001B[0;34m(self, example)\u001B[0m\n\u001B[1;32m   1841\u001B[0m \u001B[38;5;250m\u001B[39m\u001B[38;5;124;03m\"\"\"\u001B[39;00m\n\u001B[1;32m   1842\u001B[0m \u001B[38;5;124;03mEncode example into a format for Arrow.\u001B[39;00m\n\u001B[1;32m   1843\u001B[0m \n\u001B[0;32m   (...)\u001B[0m\n\u001B[1;32m   1849\u001B[0m \u001B[38;5;124;03m    `dict[str, Any]`\u001B[39;00m\n\u001B[1;32m   1850\u001B[0m \u001B[38;5;124;03m\"\"\"\u001B[39;00m\n\u001B[1;32m   1851\u001B[0m example \u001B[38;5;241m=\u001B[39m cast_to_python_objects(example)\n\u001B[0;32m-> 1852\u001B[0m \u001B[38;5;28;01mreturn\u001B[39;00m \u001B[43mencode_nested_example\u001B[49m\u001B[43m(\u001B[49m\u001B[38;5;28;43mself\u001B[39;49m\u001B[43m,\u001B[49m\u001B[43m \u001B[49m\u001B[43mexample\u001B[49m\u001B[43m)\u001B[49m\n",
      "File \u001B[0;32m/usr/local/Caskroom/mambaforge/base/envs/master_thesis/lib/python3.10/site-packages/datasets/features/features.py:1229\u001B[0m, in \u001B[0;36mencode_nested_example\u001B[0;34m(schema, obj, level)\u001B[0m\n\u001B[1;32m   1226\u001B[0m     \u001B[38;5;28;01mif\u001B[39;00m level \u001B[38;5;241m==\u001B[39m \u001B[38;5;241m0\u001B[39m \u001B[38;5;129;01mand\u001B[39;00m obj \u001B[38;5;129;01mis\u001B[39;00m \u001B[38;5;28;01mNone\u001B[39;00m:\n\u001B[1;32m   1227\u001B[0m         \u001B[38;5;28;01mraise\u001B[39;00m \u001B[38;5;167;01mValueError\u001B[39;00m(\u001B[38;5;124m\"\u001B[39m\u001B[38;5;124mGot None but expected a dictionary instead\u001B[39m\u001B[38;5;124m\"\u001B[39m)\n\u001B[1;32m   1228\u001B[0m     \u001B[38;5;28;01mreturn\u001B[39;00m (\n\u001B[0;32m-> 1229\u001B[0m         {\n\u001B[1;32m   1230\u001B[0m             k: encode_nested_example(sub_schema, sub_obj, level\u001B[38;5;241m=\u001B[39mlevel \u001B[38;5;241m+\u001B[39m \u001B[38;5;241m1\u001B[39m)\n\u001B[1;32m   1231\u001B[0m             \u001B[38;5;28;01mfor\u001B[39;00m k, (sub_schema, sub_obj) \u001B[38;5;129;01min\u001B[39;00m zip_dict(schema, obj)\n\u001B[1;32m   1232\u001B[0m         }\n\u001B[1;32m   1233\u001B[0m         \u001B[38;5;28;01mif\u001B[39;00m obj \u001B[38;5;129;01mis\u001B[39;00m \u001B[38;5;129;01mnot\u001B[39;00m \u001B[38;5;28;01mNone\u001B[39;00m\n\u001B[1;32m   1234\u001B[0m         \u001B[38;5;28;01melse\u001B[39;00m \u001B[38;5;28;01mNone\u001B[39;00m\n\u001B[1;32m   1235\u001B[0m     )\n\u001B[1;32m   1237\u001B[0m \u001B[38;5;28;01melif\u001B[39;00m \u001B[38;5;28misinstance\u001B[39m(schema, (\u001B[38;5;28mlist\u001B[39m, \u001B[38;5;28mtuple\u001B[39m)):\n\u001B[1;32m   1238\u001B[0m     sub_schema \u001B[38;5;241m=\u001B[39m schema[\u001B[38;5;241m0\u001B[39m]\n",
      "File \u001B[0;32m/usr/local/Caskroom/mambaforge/base/envs/master_thesis/lib/python3.10/site-packages/datasets/features/features.py:1230\u001B[0m, in \u001B[0;36m<dictcomp>\u001B[0;34m(.0)\u001B[0m\n\u001B[1;32m   1226\u001B[0m     \u001B[38;5;28;01mif\u001B[39;00m level \u001B[38;5;241m==\u001B[39m \u001B[38;5;241m0\u001B[39m \u001B[38;5;129;01mand\u001B[39;00m obj \u001B[38;5;129;01mis\u001B[39;00m \u001B[38;5;28;01mNone\u001B[39;00m:\n\u001B[1;32m   1227\u001B[0m         \u001B[38;5;28;01mraise\u001B[39;00m \u001B[38;5;167;01mValueError\u001B[39;00m(\u001B[38;5;124m\"\u001B[39m\u001B[38;5;124mGot None but expected a dictionary instead\u001B[39m\u001B[38;5;124m\"\u001B[39m)\n\u001B[1;32m   1228\u001B[0m     \u001B[38;5;28;01mreturn\u001B[39;00m (\n\u001B[1;32m   1229\u001B[0m         {\n\u001B[0;32m-> 1230\u001B[0m             k: \u001B[43mencode_nested_example\u001B[49m\u001B[43m(\u001B[49m\u001B[43msub_schema\u001B[49m\u001B[43m,\u001B[49m\u001B[43m \u001B[49m\u001B[43msub_obj\u001B[49m\u001B[43m,\u001B[49m\u001B[43m \u001B[49m\u001B[43mlevel\u001B[49m\u001B[38;5;241;43m=\u001B[39;49m\u001B[43mlevel\u001B[49m\u001B[43m \u001B[49m\u001B[38;5;241;43m+\u001B[39;49m\u001B[43m \u001B[49m\u001B[38;5;241;43m1\u001B[39;49m\u001B[43m)\u001B[49m\n\u001B[1;32m   1231\u001B[0m             \u001B[38;5;28;01mfor\u001B[39;00m k, (sub_schema, sub_obj) \u001B[38;5;129;01min\u001B[39;00m zip_dict(schema, obj)\n\u001B[1;32m   1232\u001B[0m         }\n\u001B[1;32m   1233\u001B[0m         \u001B[38;5;28;01mif\u001B[39;00m obj \u001B[38;5;129;01mis\u001B[39;00m \u001B[38;5;129;01mnot\u001B[39;00m \u001B[38;5;28;01mNone\u001B[39;00m\n\u001B[1;32m   1234\u001B[0m         \u001B[38;5;28;01melse\u001B[39;00m \u001B[38;5;28;01mNone\u001B[39;00m\n\u001B[1;32m   1235\u001B[0m     )\n\u001B[1;32m   1237\u001B[0m \u001B[38;5;28;01melif\u001B[39;00m \u001B[38;5;28misinstance\u001B[39m(schema, (\u001B[38;5;28mlist\u001B[39m, \u001B[38;5;28mtuple\u001B[39m)):\n\u001B[1;32m   1238\u001B[0m     sub_schema \u001B[38;5;241m=\u001B[39m schema[\u001B[38;5;241m0\u001B[39m]\n",
      "File \u001B[0;32m/usr/local/Caskroom/mambaforge/base/envs/master_thesis/lib/python3.10/site-packages/datasets/features/features.py:1279\u001B[0m, in \u001B[0;36mencode_nested_example\u001B[0;34m(schema, obj, level)\u001B[0m\n\u001B[1;32m   1274\u001B[0m             \u001B[38;5;66;03m# be careful when comparing tensors here\u001B[39;00m\n\u001B[1;32m   1275\u001B[0m             \u001B[38;5;28;01mif\u001B[39;00m (\n\u001B[1;32m   1276\u001B[0m                 \u001B[38;5;129;01mnot\u001B[39;00m \u001B[38;5;28misinstance\u001B[39m(first_elmt, \u001B[38;5;28mlist\u001B[39m)\n\u001B[1;32m   1277\u001B[0m                 \u001B[38;5;129;01mor\u001B[39;00m encode_nested_example(schema\u001B[38;5;241m.\u001B[39mfeature, first_elmt, level\u001B[38;5;241m=\u001B[39mlevel \u001B[38;5;241m+\u001B[39m \u001B[38;5;241m1\u001B[39m) \u001B[38;5;241m!=\u001B[39m first_elmt\n\u001B[1;32m   1278\u001B[0m             ):\n\u001B[0;32m-> 1279\u001B[0m                 \u001B[38;5;28;01mreturn\u001B[39;00m [encode_nested_example(schema\u001B[38;5;241m.\u001B[39mfeature, o, level\u001B[38;5;241m=\u001B[39mlevel \u001B[38;5;241m+\u001B[39m \u001B[38;5;241m1\u001B[39m) \u001B[38;5;28;01mfor\u001B[39;00m o \u001B[38;5;129;01min\u001B[39;00m obj]\n\u001B[1;32m   1280\u001B[0m         \u001B[38;5;28;01mreturn\u001B[39;00m \u001B[38;5;28mlist\u001B[39m(obj)\n\u001B[1;32m   1281\u001B[0m \u001B[38;5;66;03m# Object with special encoding:\u001B[39;00m\n\u001B[1;32m   1282\u001B[0m \u001B[38;5;66;03m# ClassLabel will convert from string to int, TranslationVariableLanguages does some checks\u001B[39;00m\n",
      "File \u001B[0;32m/usr/local/Caskroom/mambaforge/base/envs/master_thesis/lib/python3.10/site-packages/datasets/features/features.py:1279\u001B[0m, in \u001B[0;36m<listcomp>\u001B[0;34m(.0)\u001B[0m\n\u001B[1;32m   1274\u001B[0m             \u001B[38;5;66;03m# be careful when comparing tensors here\u001B[39;00m\n\u001B[1;32m   1275\u001B[0m             \u001B[38;5;28;01mif\u001B[39;00m (\n\u001B[1;32m   1276\u001B[0m                 \u001B[38;5;129;01mnot\u001B[39;00m \u001B[38;5;28misinstance\u001B[39m(first_elmt, \u001B[38;5;28mlist\u001B[39m)\n\u001B[1;32m   1277\u001B[0m                 \u001B[38;5;129;01mor\u001B[39;00m encode_nested_example(schema\u001B[38;5;241m.\u001B[39mfeature, first_elmt, level\u001B[38;5;241m=\u001B[39mlevel \u001B[38;5;241m+\u001B[39m \u001B[38;5;241m1\u001B[39m) \u001B[38;5;241m!=\u001B[39m first_elmt\n\u001B[1;32m   1278\u001B[0m             ):\n\u001B[0;32m-> 1279\u001B[0m                 \u001B[38;5;28;01mreturn\u001B[39;00m [\u001B[43mencode_nested_example\u001B[49m\u001B[43m(\u001B[49m\u001B[43mschema\u001B[49m\u001B[38;5;241;43m.\u001B[39;49m\u001B[43mfeature\u001B[49m\u001B[43m,\u001B[49m\u001B[43m \u001B[49m\u001B[43mo\u001B[49m\u001B[43m,\u001B[49m\u001B[43m \u001B[49m\u001B[43mlevel\u001B[49m\u001B[38;5;241;43m=\u001B[39;49m\u001B[43mlevel\u001B[49m\u001B[43m \u001B[49m\u001B[38;5;241;43m+\u001B[39;49m\u001B[43m \u001B[49m\u001B[38;5;241;43m1\u001B[39;49m\u001B[43m)\u001B[49m \u001B[38;5;28;01mfor\u001B[39;00m o \u001B[38;5;129;01min\u001B[39;00m obj]\n\u001B[1;32m   1280\u001B[0m         \u001B[38;5;28;01mreturn\u001B[39;00m \u001B[38;5;28mlist\u001B[39m(obj)\n\u001B[1;32m   1281\u001B[0m \u001B[38;5;66;03m# Object with special encoding:\u001B[39;00m\n\u001B[1;32m   1282\u001B[0m \u001B[38;5;66;03m# ClassLabel will convert from string to int, TranslationVariableLanguages does some checks\u001B[39;00m\n",
      "File \u001B[0;32m/usr/local/Caskroom/mambaforge/base/envs/master_thesis/lib/python3.10/site-packages/datasets/features/features.py:1284\u001B[0m, in \u001B[0;36mencode_nested_example\u001B[0;34m(schema, obj, level)\u001B[0m\n\u001B[1;32m   1281\u001B[0m \u001B[38;5;66;03m# Object with special encoding:\u001B[39;00m\n\u001B[1;32m   1282\u001B[0m \u001B[38;5;66;03m# ClassLabel will convert from string to int, TranslationVariableLanguages does some checks\u001B[39;00m\n\u001B[1;32m   1283\u001B[0m \u001B[38;5;28;01melif\u001B[39;00m \u001B[38;5;28misinstance\u001B[39m(schema, (Audio, Image, ClassLabel, TranslationVariableLanguages, Value, _ArrayXD)):\n\u001B[0;32m-> 1284\u001B[0m     \u001B[38;5;28;01mreturn\u001B[39;00m \u001B[43mschema\u001B[49m\u001B[38;5;241;43m.\u001B[39;49m\u001B[43mencode_example\u001B[49m\u001B[43m(\u001B[49m\u001B[43mobj\u001B[49m\u001B[43m)\u001B[49m \u001B[38;5;28;01mif\u001B[39;00m obj \u001B[38;5;129;01mis\u001B[39;00m \u001B[38;5;129;01mnot\u001B[39;00m \u001B[38;5;28;01mNone\u001B[39;00m \u001B[38;5;28;01melse\u001B[39;00m \u001B[38;5;28;01mNone\u001B[39;00m\n\u001B[1;32m   1285\u001B[0m \u001B[38;5;66;03m# Other object should be directly convertible to a native Arrow type (like Translation and Translation)\u001B[39;00m\n\u001B[1;32m   1286\u001B[0m \u001B[38;5;28;01mreturn\u001B[39;00m obj\n",
      "File \u001B[0;32m/usr/local/Caskroom/mambaforge/base/envs/master_thesis/lib/python3.10/site-packages/datasets/features/image.py:120\u001B[0m, in \u001B[0;36mImage.encode_example\u001B[0;34m(self, value)\u001B[0m\n\u001B[1;32m    117\u001B[0m \u001B[38;5;28;01melif\u001B[39;00m \u001B[38;5;28misinstance\u001B[39m(value, PIL\u001B[38;5;241m.\u001B[39mImage\u001B[38;5;241m.\u001B[39mImage):\n\u001B[1;32m    118\u001B[0m     \u001B[38;5;66;03m# convert the PIL image to bytes (default format is PNG/TIFF)\u001B[39;00m\n\u001B[1;32m    119\u001B[0m     \u001B[38;5;28;01mreturn\u001B[39;00m encode_pil_image(value)\n\u001B[0;32m--> 120\u001B[0m \u001B[38;5;28;01melif\u001B[39;00m \u001B[43mvalue\u001B[49m\u001B[38;5;241;43m.\u001B[39;49m\u001B[43mget\u001B[49m(\u001B[38;5;124m\"\u001B[39m\u001B[38;5;124mpath\u001B[39m\u001B[38;5;124m\"\u001B[39m) \u001B[38;5;129;01mis\u001B[39;00m \u001B[38;5;129;01mnot\u001B[39;00m \u001B[38;5;28;01mNone\u001B[39;00m \u001B[38;5;129;01mand\u001B[39;00m os\u001B[38;5;241m.\u001B[39mpath\u001B[38;5;241m.\u001B[39misfile(value[\u001B[38;5;124m\"\u001B[39m\u001B[38;5;124mpath\u001B[39m\u001B[38;5;124m\"\u001B[39m]):\n\u001B[1;32m    121\u001B[0m     \u001B[38;5;66;03m# we set \"bytes\": None to not duplicate the data if they're already available locally\u001B[39;00m\n\u001B[1;32m    122\u001B[0m     \u001B[38;5;28;01mreturn\u001B[39;00m {\u001B[38;5;124m\"\u001B[39m\u001B[38;5;124mbytes\u001B[39m\u001B[38;5;124m\"\u001B[39m: \u001B[38;5;28;01mNone\u001B[39;00m, \u001B[38;5;124m\"\u001B[39m\u001B[38;5;124mpath\u001B[39m\u001B[38;5;124m\"\u001B[39m: value\u001B[38;5;241m.\u001B[39mget(\u001B[38;5;124m\"\u001B[39m\u001B[38;5;124mpath\u001B[39m\u001B[38;5;124m\"\u001B[39m)}\n\u001B[1;32m    123\u001B[0m \u001B[38;5;28;01melif\u001B[39;00m value\u001B[38;5;241m.\u001B[39mget(\u001B[38;5;124m\"\u001B[39m\u001B[38;5;124mbytes\u001B[39m\u001B[38;5;124m\"\u001B[39m) \u001B[38;5;129;01mis\u001B[39;00m \u001B[38;5;129;01mnot\u001B[39;00m \u001B[38;5;28;01mNone\u001B[39;00m \u001B[38;5;129;01mor\u001B[39;00m value\u001B[38;5;241m.\u001B[39mget(\u001B[38;5;124m\"\u001B[39m\u001B[38;5;124mpath\u001B[39m\u001B[38;5;124m\"\u001B[39m) \u001B[38;5;129;01mis\u001B[39;00m \u001B[38;5;129;01mnot\u001B[39;00m \u001B[38;5;28;01mNone\u001B[39;00m:\n\u001B[1;32m    124\u001B[0m     \u001B[38;5;66;03m# store the image bytes, and path is used to infer the image format using the file extension\u001B[39;00m\n",
      "\u001B[0;31mAttributeError\u001B[0m: 'ArchiveIterable' object has no attribute 'get'"
     ]
    }
   ],
   "source": [
    "it = iter(rwth_phoenix)\n",
    "\n",
    "first = next(it)\n",
    "\n"
   ],
   "metadata": {
    "collapsed": false,
    "ExecuteTime": {
     "end_time": "2023-11-16T14:23:46.658216Z",
     "start_time": "2023-11-16T14:23:46.357733Z"
    }
   },
   "id": "e84a2b996fac049c"
  },
  {
   "cell_type": "code",
   "execution_count": 14,
   "outputs": [],
   "source": [
    "dl_manager = datasets.StreamingDownloadManager()\n",
    "\n",
    "archive = dl_manager.download('https://storage.googleapis.com/seldon-datasets/sentence_polarity_v1/rt-polaritydata.tar.gz')\n",
    "files = dl_manager.iter_archive(archive)"
   ],
   "metadata": {
    "collapsed": false,
    "ExecuteTime": {
     "end_time": "2023-11-16T14:19:52.806899Z",
     "start_time": "2023-11-16T14:19:52.800182Z"
    }
   },
   "id": "7a7dafcde35c8d48"
  },
  {
   "cell_type": "code",
   "execution_count": 18,
   "outputs": [
    {
     "name": "stdout",
     "output_type": "stream",
     "text": [
      "('rt-polaritydata.README.1.0.txt', <ExFileObject name=''>)\n",
      "('rt-polaritydata/rt-polarity.neg', <ExFileObject name=''>)\n",
      "('rt-polaritydata/rt-polarity.pos', <ExFileObject name=''>)\n"
     ]
    }
   ],
   "source": [
    "\n",
    "ls = list(files)\n",
    "\n",
    "\n",
    "for first in ls:\n",
    "    print(first)\n",
    "\n"
   ],
   "metadata": {
    "collapsed": false,
    "ExecuteTime": {
     "end_time": "2023-11-16T14:23:00.904333Z",
     "start_time": "2023-11-16T14:23:00.447886Z"
    }
   },
   "id": "6cd1b886e0978163"
  }
 ],
 "metadata": {
  "kernelspec": {
   "display_name": "Python 3",
   "language": "python",
   "name": "python3"
  },
  "language_info": {
   "codemirror_mode": {
    "name": "ipython",
    "version": 2
   },
   "file_extension": ".py",
   "mimetype": "text/x-python",
   "name": "python",
   "nbconvert_exporter": "python",
   "pygments_lexer": "ipython2",
   "version": "2.7.6"
  }
 },
 "nbformat": 4,
 "nbformat_minor": 5
}
