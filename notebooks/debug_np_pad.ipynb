{
 "cells": [
  {
   "cell_type": "code",
   "execution_count": 19,
   "id": "initial_id",
   "metadata": {},
   "outputs": [],
   "source": [
    "import numpy as np\n",
    "import torch"
   ]
  },
  {
   "cell_type": "code",
   "execution_count": 18,
   "id": "19f3e5e9-cdc6-4145-832d-d76c75fb2dd6",
   "metadata": {
    "editable": true,
    "slideshow": {
     "slide_type": ""
    },
    "tags": []
   },
   "outputs": [
    {
     "name": "stdout",
     "output_type": "stream",
     "text": [
      "(215, 3, 224, 224)\n",
      "(1, 3, 224, 224)\n",
      "(224, 3, 224, 224)\n"
     ]
    }
   ],
   "source": [
    "array = np.ones((215, 3, 224, 224))\n",
    "pad_width = ((0,9), (0,0), (0,0), (0,0))\n",
    "padding_value = np.zeros((1, 3, 224, 224))\n",
    "\n",
    "print(array.shape)\n",
    "print(padding_value.shape)\n",
    "\n",
    "\n",
    "padded = np.pad(\n",
    "    array, \n",
    "    pad_width,\n",
    "    \"constant\", \n",
    "    constant_values=0.0\n",
    ")\n",
    "\n",
    "print(padded.shape)"
   ]
  },
  {
   "cell_type": "code",
   "execution_count": 32,
   "id": "bf036277-cd8f-43e7-8be8-7540b466b4b0",
   "metadata": {},
   "outputs": [
    {
     "name": "stdout",
     "output_type": "stream",
     "text": [
      "torch.Size([2, 224, 3, 224, 224])\n",
      "torch.Size([448, 3, 224, 224])\n",
      "torch.Size([2, 224, 3, 224, 224])\n"
     ]
    }
   ],
   "source": [
    "tensor = torch.ones((2,224,3,224,224))\n",
    "concatenated = torch.reshape(tensor, (-1,)+tensor.shape[2:])\n",
    "\n",
    "expanded = torch.reshape(concatenated, (2, 224)+concatenated.shape[1:])\n",
    "\n",
    "print(tensor.shape)\n",
    "print(concatenated.shape)\n",
    "print(expanded.shape)"
   ]
  }
 ],
 "metadata": {
  "kernelspec": {
   "display_name": "Python 3 (ipykernel)",
   "language": "python",
   "name": "python3"
  },
  "language_info": {
   "codemirror_mode": {
    "name": "ipython",
    "version": 3
   },
   "file_extension": ".py",
   "mimetype": "text/x-python",
   "name": "python",
   "nbconvert_exporter": "python",
   "pygments_lexer": "ipython3",
   "version": "3.8.10"
  }
 },
 "nbformat": 4,
 "nbformat_minor": 5
}
