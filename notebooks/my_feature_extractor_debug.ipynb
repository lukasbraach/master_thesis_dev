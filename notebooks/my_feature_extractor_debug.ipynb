{
 "cells": [
  {
   "cell_type": "code",
   "execution_count": 3,
   "outputs": [],
   "source": [
    "from importlib import reload\n",
    "import datasets\n"
   ],
   "metadata": {
    "collapsed": false,
    "ExecuteTime": {
     "end_time": "2023-12-19T11:58:18.430351Z",
     "start_time": "2023-12-19T11:58:18.424262Z"
    }
   },
   "id": "fe2027d2bcc4baa0"
  },
  {
   "cell_type": "code",
   "execution_count": 4,
   "outputs": [],
   "source": [
    "rwth_phoenix = datasets.load_dataset('lukasbraach/rwth_phoenix_weather_2014', 'multisigner', streaming=True)\n",
    "it = iter(rwth_phoenix['train'])\n",
    "first = next(it)"
   ],
   "metadata": {
    "collapsed": false,
    "ExecuteTime": {
     "end_time": "2023-12-19T11:58:23.260596Z",
     "start_time": "2023-12-19T11:58:18.432517Z"
    }
   },
   "id": "a22a3aac26b2deed"
  },
  {
   "cell_type": "code",
   "execution_count": 5,
   "outputs": [
    {
     "data": {
      "text/plain": "[<PIL.PngImagePlugin.PngImageFile image mode=RGB size=210x260>,\n <PIL.PngImagePlugin.PngImageFile image mode=RGB size=210x260>,\n <PIL.PngImagePlugin.PngImageFile image mode=RGB size=210x260>,\n <PIL.PngImagePlugin.PngImageFile image mode=RGB size=210x260>,\n <PIL.PngImagePlugin.PngImageFile image mode=RGB size=210x260>,\n <PIL.PngImagePlugin.PngImageFile image mode=RGB size=210x260>,\n <PIL.PngImagePlugin.PngImageFile image mode=RGB size=210x260>,\n <PIL.PngImagePlugin.PngImageFile image mode=RGB size=210x260>,\n <PIL.PngImagePlugin.PngImageFile image mode=RGB size=210x260>,\n <PIL.PngImagePlugin.PngImageFile image mode=RGB size=210x260>,\n <PIL.PngImagePlugin.PngImageFile image mode=RGB size=210x260>,\n <PIL.PngImagePlugin.PngImageFile image mode=RGB size=210x260>,\n <PIL.PngImagePlugin.PngImageFile image mode=RGB size=210x260>,\n <PIL.PngImagePlugin.PngImageFile image mode=RGB size=210x260>,\n <PIL.PngImagePlugin.PngImageFile image mode=RGB size=210x260>,\n <PIL.PngImagePlugin.PngImageFile image mode=RGB size=210x260>,\n <PIL.PngImagePlugin.PngImageFile image mode=RGB size=210x260>,\n <PIL.PngImagePlugin.PngImageFile image mode=RGB size=210x260>,\n <PIL.PngImagePlugin.PngImageFile image mode=RGB size=210x260>,\n <PIL.PngImagePlugin.PngImageFile image mode=RGB size=210x260>,\n <PIL.PngImagePlugin.PngImageFile image mode=RGB size=210x260>,\n <PIL.PngImagePlugin.PngImageFile image mode=RGB size=210x260>,\n <PIL.PngImagePlugin.PngImageFile image mode=RGB size=210x260>,\n <PIL.PngImagePlugin.PngImageFile image mode=RGB size=210x260>,\n <PIL.PngImagePlugin.PngImageFile image mode=RGB size=210x260>,\n <PIL.PngImagePlugin.PngImageFile image mode=RGB size=210x260>,\n <PIL.PngImagePlugin.PngImageFile image mode=RGB size=210x260>,\n <PIL.PngImagePlugin.PngImageFile image mode=RGB size=210x260>,\n <PIL.PngImagePlugin.PngImageFile image mode=RGB size=210x260>,\n <PIL.PngImagePlugin.PngImageFile image mode=RGB size=210x260>,\n <PIL.PngImagePlugin.PngImageFile image mode=RGB size=210x260>,\n <PIL.PngImagePlugin.PngImageFile image mode=RGB size=210x260>,\n <PIL.PngImagePlugin.PngImageFile image mode=RGB size=210x260>,\n <PIL.PngImagePlugin.PngImageFile image mode=RGB size=210x260>,\n <PIL.PngImagePlugin.PngImageFile image mode=RGB size=210x260>,\n <PIL.PngImagePlugin.PngImageFile image mode=RGB size=210x260>,\n <PIL.PngImagePlugin.PngImageFile image mode=RGB size=210x260>,\n <PIL.PngImagePlugin.PngImageFile image mode=RGB size=210x260>,\n <PIL.PngImagePlugin.PngImageFile image mode=RGB size=210x260>,\n <PIL.PngImagePlugin.PngImageFile image mode=RGB size=210x260>,\n <PIL.PngImagePlugin.PngImageFile image mode=RGB size=210x260>,\n <PIL.PngImagePlugin.PngImageFile image mode=RGB size=210x260>,\n <PIL.PngImagePlugin.PngImageFile image mode=RGB size=210x260>,\n <PIL.PngImagePlugin.PngImageFile image mode=RGB size=210x260>,\n <PIL.PngImagePlugin.PngImageFile image mode=RGB size=210x260>,\n <PIL.PngImagePlugin.PngImageFile image mode=RGB size=210x260>,\n <PIL.PngImagePlugin.PngImageFile image mode=RGB size=210x260>,\n <PIL.PngImagePlugin.PngImageFile image mode=RGB size=210x260>,\n <PIL.PngImagePlugin.PngImageFile image mode=RGB size=210x260>,\n <PIL.PngImagePlugin.PngImageFile image mode=RGB size=210x260>,\n <PIL.PngImagePlugin.PngImageFile image mode=RGB size=210x260>,\n <PIL.PngImagePlugin.PngImageFile image mode=RGB size=210x260>,\n <PIL.PngImagePlugin.PngImageFile image mode=RGB size=210x260>,\n <PIL.PngImagePlugin.PngImageFile image mode=RGB size=210x260>,\n <PIL.PngImagePlugin.PngImageFile image mode=RGB size=210x260>,\n <PIL.PngImagePlugin.PngImageFile image mode=RGB size=210x260>,\n <PIL.PngImagePlugin.PngImageFile image mode=RGB size=210x260>,\n <PIL.PngImagePlugin.PngImageFile image mode=RGB size=210x260>,\n <PIL.PngImagePlugin.PngImageFile image mode=RGB size=210x260>,\n <PIL.PngImagePlugin.PngImageFile image mode=RGB size=210x260>,\n <PIL.PngImagePlugin.PngImageFile image mode=RGB size=210x260>,\n <PIL.PngImagePlugin.PngImageFile image mode=RGB size=210x260>,\n <PIL.PngImagePlugin.PngImageFile image mode=RGB size=210x260>,\n <PIL.PngImagePlugin.PngImageFile image mode=RGB size=210x260>,\n <PIL.PngImagePlugin.PngImageFile image mode=RGB size=210x260>,\n <PIL.PngImagePlugin.PngImageFile image mode=RGB size=210x260>,\n <PIL.PngImagePlugin.PngImageFile image mode=RGB size=210x260>,\n <PIL.PngImagePlugin.PngImageFile image mode=RGB size=210x260>,\n <PIL.PngImagePlugin.PngImageFile image mode=RGB size=210x260>,\n <PIL.PngImagePlugin.PngImageFile image mode=RGB size=210x260>,\n <PIL.PngImagePlugin.PngImageFile image mode=RGB size=210x260>,\n <PIL.PngImagePlugin.PngImageFile image mode=RGB size=210x260>,\n <PIL.PngImagePlugin.PngImageFile image mode=RGB size=210x260>,\n <PIL.PngImagePlugin.PngImageFile image mode=RGB size=210x260>,\n <PIL.PngImagePlugin.PngImageFile image mode=RGB size=210x260>,\n <PIL.PngImagePlugin.PngImageFile image mode=RGB size=210x260>,\n <PIL.PngImagePlugin.PngImageFile image mode=RGB size=210x260>,\n <PIL.PngImagePlugin.PngImageFile image mode=RGB size=210x260>,\n <PIL.PngImagePlugin.PngImageFile image mode=RGB size=210x260>,\n <PIL.PngImagePlugin.PngImageFile image mode=RGB size=210x260>,\n <PIL.PngImagePlugin.PngImageFile image mode=RGB size=210x260>,\n <PIL.PngImagePlugin.PngImageFile image mode=RGB size=210x260>,\n <PIL.PngImagePlugin.PngImageFile image mode=RGB size=210x260>,\n <PIL.PngImagePlugin.PngImageFile image mode=RGB size=210x260>,\n <PIL.PngImagePlugin.PngImageFile image mode=RGB size=210x260>,\n <PIL.PngImagePlugin.PngImageFile image mode=RGB size=210x260>,\n <PIL.PngImagePlugin.PngImageFile image mode=RGB size=210x260>,\n <PIL.PngImagePlugin.PngImageFile image mode=RGB size=210x260>,\n <PIL.PngImagePlugin.PngImageFile image mode=RGB size=210x260>,\n <PIL.PngImagePlugin.PngImageFile image mode=RGB size=210x260>,\n <PIL.PngImagePlugin.PngImageFile image mode=RGB size=210x260>,\n <PIL.PngImagePlugin.PngImageFile image mode=RGB size=210x260>,\n <PIL.PngImagePlugin.PngImageFile image mode=RGB size=210x260>,\n <PIL.PngImagePlugin.PngImageFile image mode=RGB size=210x260>,\n <PIL.PngImagePlugin.PngImageFile image mode=RGB size=210x260>,\n <PIL.PngImagePlugin.PngImageFile image mode=RGB size=210x260>,\n <PIL.PngImagePlugin.PngImageFile image mode=RGB size=210x260>,\n <PIL.PngImagePlugin.PngImageFile image mode=RGB size=210x260>,\n <PIL.PngImagePlugin.PngImageFile image mode=RGB size=210x260>,\n <PIL.PngImagePlugin.PngImageFile image mode=RGB size=210x260>,\n <PIL.PngImagePlugin.PngImageFile image mode=RGB size=210x260>,\n <PIL.PngImagePlugin.PngImageFile image mode=RGB size=210x260>,\n <PIL.PngImagePlugin.PngImageFile image mode=RGB size=210x260>,\n <PIL.PngImagePlugin.PngImageFile image mode=RGB size=210x260>,\n <PIL.PngImagePlugin.PngImageFile image mode=RGB size=210x260>,\n <PIL.PngImagePlugin.PngImageFile image mode=RGB size=210x260>,\n <PIL.PngImagePlugin.PngImageFile image mode=RGB size=210x260>,\n <PIL.PngImagePlugin.PngImageFile image mode=RGB size=210x260>,\n <PIL.PngImagePlugin.PngImageFile image mode=RGB size=210x260>,\n <PIL.PngImagePlugin.PngImageFile image mode=RGB size=210x260>,\n <PIL.PngImagePlugin.PngImageFile image mode=RGB size=210x260>,\n <PIL.PngImagePlugin.PngImageFile image mode=RGB size=210x260>,\n <PIL.PngImagePlugin.PngImageFile image mode=RGB size=210x260>,\n <PIL.PngImagePlugin.PngImageFile image mode=RGB size=210x260>,\n <PIL.PngImagePlugin.PngImageFile image mode=RGB size=210x260>,\n <PIL.PngImagePlugin.PngImageFile image mode=RGB size=210x260>,\n <PIL.PngImagePlugin.PngImageFile image mode=RGB size=210x260>,\n <PIL.PngImagePlugin.PngImageFile image mode=RGB size=210x260>,\n <PIL.PngImagePlugin.PngImageFile image mode=RGB size=210x260>,\n <PIL.PngImagePlugin.PngImageFile image mode=RGB size=210x260>,\n <PIL.PngImagePlugin.PngImageFile image mode=RGB size=210x260>,\n <PIL.PngImagePlugin.PngImageFile image mode=RGB size=210x260>,\n <PIL.PngImagePlugin.PngImageFile image mode=RGB size=210x260>,\n <PIL.PngImagePlugin.PngImageFile image mode=RGB size=210x260>,\n <PIL.PngImagePlugin.PngImageFile image mode=RGB size=210x260>,\n <PIL.PngImagePlugin.PngImageFile image mode=RGB size=210x260>,\n <PIL.PngImagePlugin.PngImageFile image mode=RGB size=210x260>,\n <PIL.PngImagePlugin.PngImageFile image mode=RGB size=210x260>,\n <PIL.PngImagePlugin.PngImageFile image mode=RGB size=210x260>,\n <PIL.PngImagePlugin.PngImageFile image mode=RGB size=210x260>,\n <PIL.PngImagePlugin.PngImageFile image mode=RGB size=210x260>,\n <PIL.PngImagePlugin.PngImageFile image mode=RGB size=210x260>,\n <PIL.PngImagePlugin.PngImageFile image mode=RGB size=210x260>,\n <PIL.PngImagePlugin.PngImageFile image mode=RGB size=210x260>,\n <PIL.PngImagePlugin.PngImageFile image mode=RGB size=210x260>,\n <PIL.PngImagePlugin.PngImageFile image mode=RGB size=210x260>,\n <PIL.PngImagePlugin.PngImageFile image mode=RGB size=210x260>,\n <PIL.PngImagePlugin.PngImageFile image mode=RGB size=210x260>,\n <PIL.PngImagePlugin.PngImageFile image mode=RGB size=210x260>,\n <PIL.PngImagePlugin.PngImageFile image mode=RGB size=210x260>,\n <PIL.PngImagePlugin.PngImageFile image mode=RGB size=210x260>,\n <PIL.PngImagePlugin.PngImageFile image mode=RGB size=210x260>,\n <PIL.PngImagePlugin.PngImageFile image mode=RGB size=210x260>,\n <PIL.PngImagePlugin.PngImageFile image mode=RGB size=210x260>,\n <PIL.PngImagePlugin.PngImageFile image mode=RGB size=210x260>,\n <PIL.PngImagePlugin.PngImageFile image mode=RGB size=210x260>,\n <PIL.PngImagePlugin.PngImageFile image mode=RGB size=210x260>,\n <PIL.PngImagePlugin.PngImageFile image mode=RGB size=210x260>,\n <PIL.PngImagePlugin.PngImageFile image mode=RGB size=210x260>,\n <PIL.PngImagePlugin.PngImageFile image mode=RGB size=210x260>,\n <PIL.PngImagePlugin.PngImageFile image mode=RGB size=210x260>,\n <PIL.PngImagePlugin.PngImageFile image mode=RGB size=210x260>,\n <PIL.PngImagePlugin.PngImageFile image mode=RGB size=210x260>,\n <PIL.PngImagePlugin.PngImageFile image mode=RGB size=210x260>,\n <PIL.PngImagePlugin.PngImageFile image mode=RGB size=210x260>,\n <PIL.PngImagePlugin.PngImageFile image mode=RGB size=210x260>,\n <PIL.PngImagePlugin.PngImageFile image mode=RGB size=210x260>,\n <PIL.PngImagePlugin.PngImageFile image mode=RGB size=210x260>,\n <PIL.PngImagePlugin.PngImageFile image mode=RGB size=210x260>,\n <PIL.PngImagePlugin.PngImageFile image mode=RGB size=210x260>,\n <PIL.PngImagePlugin.PngImageFile image mode=RGB size=210x260>,\n <PIL.PngImagePlugin.PngImageFile image mode=RGB size=210x260>,\n <PIL.PngImagePlugin.PngImageFile image mode=RGB size=210x260>,\n <PIL.PngImagePlugin.PngImageFile image mode=RGB size=210x260>,\n <PIL.PngImagePlugin.PngImageFile image mode=RGB size=210x260>,\n <PIL.PngImagePlugin.PngImageFile image mode=RGB size=210x260>,\n <PIL.PngImagePlugin.PngImageFile image mode=RGB size=210x260>,\n <PIL.PngImagePlugin.PngImageFile image mode=RGB size=210x260>,\n <PIL.PngImagePlugin.PngImageFile image mode=RGB size=210x260>,\n <PIL.PngImagePlugin.PngImageFile image mode=RGB size=210x260>,\n <PIL.PngImagePlugin.PngImageFile image mode=RGB size=210x260>,\n <PIL.PngImagePlugin.PngImageFile image mode=RGB size=210x260>,\n <PIL.PngImagePlugin.PngImageFile image mode=RGB size=210x260>,\n <PIL.PngImagePlugin.PngImageFile image mode=RGB size=210x260>,\n <PIL.PngImagePlugin.PngImageFile image mode=RGB size=210x260>,\n <PIL.PngImagePlugin.PngImageFile image mode=RGB size=210x260>]"
     },
     "execution_count": 5,
     "metadata": {},
     "output_type": "execute_result"
    }
   ],
   "source": [
    "first['frames']"
   ],
   "metadata": {
    "collapsed": false,
    "ExecuteTime": {
     "end_time": "2023-12-19T11:58:23.270033Z",
     "start_time": "2023-12-19T11:58:23.260781Z"
    }
   },
   "id": "f88d8284532f8e38"
  },
  {
   "cell_type": "code",
   "execution_count": 8,
   "outputs": [
    {
     "data": {
      "text/plain": "torch.Size([176, 1, 768])"
     },
     "execution_count": 8,
     "metadata": {},
     "output_type": "execute_result"
    }
   ],
   "source": [
    "import src.models.components.feature_extractor_dinov2\n",
    "\n",
    "reload(src.models.components.feature_extractor_dinov2)\n",
    "from src.models.components.feature_extractor_dinov2 import SignLanguageFeatureExtractor\n",
    "\n",
    "feature_extractor = SignLanguageFeatureExtractor()\n",
    "feature = feature_extractor(first['frames'], sampling_rate=25, return_attention_mask=True, return_tensors='pt')\n",
    "\n",
    "feature['input_values'].shape"
   ],
   "metadata": {
    "collapsed": false,
    "ExecuteTime": {
     "end_time": "2023-12-19T12:00:31.900944Z",
     "start_time": "2023-12-19T11:59:56.057124Z"
    }
   },
   "id": "bd82811d800da719"
  }
 ],
 "metadata": {
  "kernelspec": {
   "display_name": "Python 3",
   "language": "python",
   "name": "python3"
  },
  "language_info": {
   "codemirror_mode": {
    "name": "ipython",
    "version": 2
   },
   "file_extension": ".py",
   "mimetype": "text/x-python",
   "name": "python",
   "nbconvert_exporter": "python",
   "pygments_lexer": "ipython2",
   "version": "2.7.6"
  }
 },
 "nbformat": 4,
 "nbformat_minor": 5
}
