{
 "cells": [
  {
   "cell_type": "code",
   "id": "initial_id",
   "metadata": {
    "collapsed": true,
    "ExecuteTime": {
     "end_time": "2024-06-01T11:47:15.153126Z",
     "start_time": "2024-06-01T11:47:06.878231Z"
    }
   },
   "source": [
    "import pandas as pd\n",
    "import numpy as np\n",
    "import matplotlib.pyplot as plt"
   ],
   "outputs": [
    {
     "name": "stderr",
     "output_type": "stream",
     "text": [
      "Matplotlib is building the font cache; this may take a moment.\n"
     ]
    }
   ],
   "execution_count": 1
  },
  {
   "metadata": {
    "ExecuteTime": {
     "end_time": "2024-06-01T11:49:33.972293Z",
     "start_time": "2024-06-01T11:49:33.678465Z"
    }
   },
   "cell_type": "code",
   "source": [
    "df = pd.read_csv('../data/bundestag_slr/metadata.csv')\n",
    "df['FrameCount'] = df['EndFrame'] - df['StartFrame']\n",
    "\n",
    "df"
   ],
   "id": "b4ef4508bb734551",
   "outputs": [
    {
     "data": {
      "text/plain": [
       "        VideoID                                       SubtitleLine  \\\n",
       "0       7337902        (Präsidium) Ich rufe auf den Zusatzpunkt 8,   \n",
       "1       7337902  Beratung des Antrags der Fraktion der AfD mit ...   \n",
       "2       7337902      \"Bonussystem zur Schaffung von Arbeitsplätzen   \n",
       "3       7337902  für schwerbehinderte Menschen\". Nach einer int...   \n",
       "4       7337902     sind für die Aussprache 38 Minuten vorgesehen.   \n",
       "...         ...                                                ...   \n",
       "491472  7610785               Wirtschaftsausschuss so beschlossen.   \n",
       "491473  7610785  Damit stimmen wir heute über den Antrag auf Dr...   \n",
       "491474  7610785  in der Sache ab. Und damit können wir dann for...   \n",
       "491475  7610785  und Tagesordnungspunkt - nein, Zusatzpunkt 12 ...   \n",
       "491476  7610785             Ich bitte um zügigen Sitzplatzwechsel.   \n",
       "\n",
       "        StartFrame  EndFrame  FrameCount  \n",
       "0                0        41          41  \n",
       "1               42        90          48  \n",
       "2               91       136          45  \n",
       "3              137       189          52  \n",
       "4              190       245          55  \n",
       "...            ...       ...         ...  \n",
       "491472       78309     78355          46  \n",
       "491473       78356     78430          74  \n",
       "491474       78431     78496          65  \n",
       "491475       78497     78560          63  \n",
       "491476       78561     78607          46  \n",
       "\n",
       "[491477 rows x 5 columns]"
      ],
      "text/html": [
       "<div>\n",
       "<style scoped>\n",
       "    .dataframe tbody tr th:only-of-type {\n",
       "        vertical-align: middle;\n",
       "    }\n",
       "\n",
       "    .dataframe tbody tr th {\n",
       "        vertical-align: top;\n",
       "    }\n",
       "\n",
       "    .dataframe thead th {\n",
       "        text-align: right;\n",
       "    }\n",
       "</style>\n",
       "<table border=\"1\" class=\"dataframe\">\n",
       "  <thead>\n",
       "    <tr style=\"text-align: right;\">\n",
       "      <th></th>\n",
       "      <th>VideoID</th>\n",
       "      <th>SubtitleLine</th>\n",
       "      <th>StartFrame</th>\n",
       "      <th>EndFrame</th>\n",
       "      <th>FrameCount</th>\n",
       "    </tr>\n",
       "  </thead>\n",
       "  <tbody>\n",
       "    <tr>\n",
       "      <th>0</th>\n",
       "      <td>7337902</td>\n",
       "      <td>(Präsidium) Ich rufe auf den Zusatzpunkt 8,</td>\n",
       "      <td>0</td>\n",
       "      <td>41</td>\n",
       "      <td>41</td>\n",
       "    </tr>\n",
       "    <tr>\n",
       "      <th>1</th>\n",
       "      <td>7337902</td>\n",
       "      <td>Beratung des Antrags der Fraktion der AfD mit ...</td>\n",
       "      <td>42</td>\n",
       "      <td>90</td>\n",
       "      <td>48</td>\n",
       "    </tr>\n",
       "    <tr>\n",
       "      <th>2</th>\n",
       "      <td>7337902</td>\n",
       "      <td>\"Bonussystem zur Schaffung von Arbeitsplätzen</td>\n",
       "      <td>91</td>\n",
       "      <td>136</td>\n",
       "      <td>45</td>\n",
       "    </tr>\n",
       "    <tr>\n",
       "      <th>3</th>\n",
       "      <td>7337902</td>\n",
       "      <td>für schwerbehinderte Menschen\". Nach einer int...</td>\n",
       "      <td>137</td>\n",
       "      <td>189</td>\n",
       "      <td>52</td>\n",
       "    </tr>\n",
       "    <tr>\n",
       "      <th>4</th>\n",
       "      <td>7337902</td>\n",
       "      <td>sind für die Aussprache 38 Minuten vorgesehen.</td>\n",
       "      <td>190</td>\n",
       "      <td>245</td>\n",
       "      <td>55</td>\n",
       "    </tr>\n",
       "    <tr>\n",
       "      <th>...</th>\n",
       "      <td>...</td>\n",
       "      <td>...</td>\n",
       "      <td>...</td>\n",
       "      <td>...</td>\n",
       "      <td>...</td>\n",
       "    </tr>\n",
       "    <tr>\n",
       "      <th>491472</th>\n",
       "      <td>7610785</td>\n",
       "      <td>Wirtschaftsausschuss so beschlossen.</td>\n",
       "      <td>78309</td>\n",
       "      <td>78355</td>\n",
       "      <td>46</td>\n",
       "    </tr>\n",
       "    <tr>\n",
       "      <th>491473</th>\n",
       "      <td>7610785</td>\n",
       "      <td>Damit stimmen wir heute über den Antrag auf Dr...</td>\n",
       "      <td>78356</td>\n",
       "      <td>78430</td>\n",
       "      <td>74</td>\n",
       "    </tr>\n",
       "    <tr>\n",
       "      <th>491474</th>\n",
       "      <td>7610785</td>\n",
       "      <td>in der Sache ab. Und damit können wir dann for...</td>\n",
       "      <td>78431</td>\n",
       "      <td>78496</td>\n",
       "      <td>65</td>\n",
       "    </tr>\n",
       "    <tr>\n",
       "      <th>491475</th>\n",
       "      <td>7610785</td>\n",
       "      <td>und Tagesordnungspunkt - nein, Zusatzpunkt 12 ...</td>\n",
       "      <td>78497</td>\n",
       "      <td>78560</td>\n",
       "      <td>63</td>\n",
       "    </tr>\n",
       "    <tr>\n",
       "      <th>491476</th>\n",
       "      <td>7610785</td>\n",
       "      <td>Ich bitte um zügigen Sitzplatzwechsel.</td>\n",
       "      <td>78561</td>\n",
       "      <td>78607</td>\n",
       "      <td>46</td>\n",
       "    </tr>\n",
       "  </tbody>\n",
       "</table>\n",
       "<p>491477 rows × 5 columns</p>\n",
       "</div>"
      ]
     },
     "execution_count": 5,
     "metadata": {},
     "output_type": "execute_result"
    }
   ],
   "execution_count": 5
  },
  {
   "metadata": {
    "ExecuteTime": {
     "end_time": "2024-06-01T11:50:33.809431Z",
     "start_time": "2024-06-01T11:50:33.791637Z"
    }
   },
   "cell_type": "code",
   "source": "df['FrameCount'].describe()",
   "id": "57659139428ee24",
   "outputs": [
    {
     "data": {
      "text/plain": [
       "count    491477.000000\n",
       "mean         60.054393\n",
       "std          13.764268\n",
       "min          25.000000\n",
       "25%          51.000000\n",
       "50%          60.000000\n",
       "75%          69.000000\n",
       "max         356.000000\n",
       "Name: FrameCount, dtype: float64"
      ]
     },
     "execution_count": 6,
     "metadata": {},
     "output_type": "execute_result"
    }
   ],
   "execution_count": 6
  },
  {
   "metadata": {
    "ExecuteTime": {
     "end_time": "2024-06-01T11:51:24.696165Z",
     "start_time": "2024-06-01T11:51:24.591218Z"
    }
   },
   "cell_type": "code",
   "source": "df['FrameCount'].hist(bins=100)",
   "id": "5e8fea5dac0715c3",
   "outputs": [
    {
     "data": {
      "text/plain": [
       "<Axes: >"
      ]
     },
     "execution_count": 7,
     "metadata": {},
     "output_type": "execute_result"
    },
    {
     "data": {
      "text/plain": [
       "<Figure size 640x480 with 1 Axes>"
      ],
      "image/png": "[encoded data removed]"
     },
     "metadata": {},
     "output_type": "display_data"
    }
   ],
   "execution_count": 7
  }
 ],
 "metadata": {
  "kernelspec": {
   "display_name": "Python 3",
   "language": "python",
   "name": "python3"
  },
  "language_info": {
   "codemirror_mode": {
    "name": "ipython",
    "version": 2
   },
   "file_extension": ".py",
   "mimetype": "text/x-python",
   "name": "python",
   "nbconvert_exporter": "python",
   "pygments_lexer": "ipython2",
   "version": "2.7.6"
  }
 },
 "nbformat": 4,
 "nbformat_minor": 5
}
