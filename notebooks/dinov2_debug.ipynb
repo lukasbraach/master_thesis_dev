{
 "cells": [
  {
   "cell_type": "code",
   "execution_count": 3,
   "id": "initial_id",
   "metadata": {
    "collapsed": true,
    "ExecuteTime": {
     "end_time": "2023-11-21T17:02:52.397961Z",
     "start_time": "2023-11-21T17:02:52.258114Z"
    }
   },
   "source": [
    "from transformers import AutoImageProcessor, AutoModelForImageClassification, Dinov2Model\n",
    "from PIL import Image\n",
    "import requests\n"
   ],
   "outputs": []
  },
  {
   "cell_type": "code",
   "execution_count": 5,
   "source": [
    "url = 'http://images.cocodataset.org/val2017/000000039769.jpg'\n",
    "image = Image.open(requests.get(url, stream=True).raw)"
   ],
   "metadata": {
    "collapsed": false,
    "ExecuteTime": {
     "end_time": "2023-11-21T17:03:01.666477Z",
     "start_time": "2023-11-21T17:03:01.038568Z"
    }
   },
   "id": "a1518e514c9b7740",
   "outputs": []
  },
  {
   "cell_type": "code",
   "execution_count": 7,
   "source": [
    "processor = AutoImageProcessor.from_pretrained(\"facebook/dinov2-base\")\n",
    "model = Dinov2Model.from_pretrained(\"facebook/dinov2-base\")"
   ],
   "metadata": {
    "collapsed": false,
    "ExecuteTime": {
     "end_time": "2023-11-21T17:03:20.607822Z",
     "start_time": "2023-11-21T17:03:19.265662Z"
    }
   },
   "id": "3dbda82e4e7b0dc8",
   "outputs": []
  },
  {
   "cell_type": "code",
   "execution_count": 8,
   "source": [
    "inputs = processor(images=image, return_tensors=\"pt\")\n",
    "outputs = model(**inputs)"
   ],
   "metadata": {
    "collapsed": false,
    "ExecuteTime": {
     "end_time": "2023-11-21T17:03:21.692765Z",
     "start_time": "2023-11-21T17:03:21.243868Z"
    }
   },
   "id": "7223eeaf41e0645f",
   "outputs": []
  },
  {
   "cell_type": "code",
   "execution_count": 20,
   "source": [
    "outputs.pooler_output"
   ],
   "metadata": {
    "collapsed": false,
    "ExecuteTime": {
     "end_time": "2023-11-21T17:07:14.513815Z",
     "start_time": "2023-11-21T17:07:14.506420Z"
    }
   },
   "id": "971a76e6487bfa93",
   "outputs": []
  }
 ],
 "metadata": {
  "kernelspec": {
   "display_name": "Python 3",
   "language": "python",
   "name": "python3"
  },
  "language_info": {
   "codemirror_mode": {
    "name": "ipython",
    "version": 2
   },
   "file_extension": ".py",
   "mimetype": "text/x-python",
   "name": "python",
   "nbconvert_exporter": "python",
   "pygments_lexer": "ipython2",
   "version": "2.7.6"
  }
 },
 "nbformat": 4,
 "nbformat_minor": 5
}
