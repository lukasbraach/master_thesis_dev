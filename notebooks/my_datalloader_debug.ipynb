{
 "cells": [
  {
   "cell_type": "code",
   "execution_count": 2,
   "id": "initial_id",
   "metadata": {
    "ExecuteTime": {
     "end_time": "2024-01-02T11:32:59.004452677Z",
     "start_time": "2024-01-02T11:32:58.801391380Z"
    }
   },
   "outputs": [],
   "source": [
    "import datasets\n",
    "import torch\n",
    "from torch.utils.data import DataLoader, IterableDataset\n",
    "from transformers import PreTrainedTokenizerFast"
   ]
  },
  {
   "cell_type": "code",
   "execution_count": 35,
   "id": "87e283b3-8393-42fd-94dc-2ec8bf1a2577",
   "metadata": {},
   "outputs": [],
   "source": [
    "tokenizer = PreTrainedTokenizerFast(\n",
    "    model_input_names=['input_values'],\n",
    "    bos_token=\"__ON__\",\n",
    "    eos_token=\"__OFF__\",\n",
    "    unk_token=\"__UNK__\",\n",
    "    pad_token=\"__PAD__\",\n",
    "    tokenizer_file='../src/etc/rwth_phoenix_tokenizer_wordlevel.json',\n",
    ")"
   ]
  },
  {
   "cell_type": "code",
   "execution_count": 3,
   "id": "46d18f1d6f07b3e0",
   "metadata": {
    "ExecuteTime": {
     "end_time": "2024-01-02T11:33:00.815569543Z",
     "start_time": "2024-01-02T11:33:00.755270942Z"
    },
    "editable": true,
    "slideshow": {
     "slide_type": ""
    },
    "tags": []
   },
   "outputs": [
    {
     "name": "stderr",
     "output_type": "stream",
     "text": [
      "/data/1braach/master_thesis_dev/.venv/lib/python3.8/site-packages/huggingface_hub/repocard.py:105: UserWarning: Repo card metadata block was not found. Setting CardData to empty.\n",
      "  warnings.warn(\"Repo card metadata block was not found. Setting CardData to empty.\")\n"
     ]
    },
    {
     "name": "stdout",
     "output_type": "stream",
     "text": [
      "['ICH OSTERN WETTER ZUFRIEDEN MITTAG TEMPERATUR  SUED WARM MEIN NICHT']\n",
      "['VIELLEICHT THUERINGEN REGION AUCH BISSCHEN WOLKE BISSCHEN STARK WOLKE ABER SUED MAINZ FLUSS SUEDWEST VIEL NICHT-KEIN WOLKE VIEL SONNE']\n",
      "['STUNDE AUCH MEISTENS REGEN ERST WEST DANN REGION SUED BLEIBEN TROCKEN']\n",
      "['UND TAG BLEIBEN KUEHL SECHS GRAD BAYERN IX REGION AUCH S+H IX AUCH ABER']\n",
      "['MORGEN NORD MEHR MILD WEST SUEDOST BLEIBEN UNTER VIER NULL GRAD __OFF__']\n",
      "['__ON__ SUED VERAENDERN KAUM WIE HEUTE SONNE ODER NEBEL']\n",
      "['IN-KOMMEND SCHNEE FREITAG SAMSTAG NORD WIND REGEN']\n",
      "['MORGEN NORD KAUM GEWITTER REGION SONNE MITTE REGION SUED MEHR DURCHEINANDER WOLKE UEBERWIEGEND GEWITTER']\n",
      "['NORD SONNE WOLKE WECHSELHAFT BISSCHEN SCHAUER SUEDWEST BESONDERS SONNE MOEGLICH']\n",
      "['HEUTE NACHT DREIZEHN NORD VIER BERG AM-TAG DREIZEHN OST']\n",
      "['EINS ZWANZIG FLUSS __ON__ __OFF__ SONNTAG VIEL WOLKE REGEN']\n",
      "['__ON__ MORGEN WETTER WIE-AUSSEHEN MITTWOCH ZWEITE JUNI __OFF__']\n",
      "['__ON__ MORGEN MEISTENS SONNE NORD KOENNEN  BEWOELKT __OFF__']\n",
      "['__ON__ REGION WEHEN SUED  VIEL FRISCH WIND BISSCHEN STURM']\n",
      "['BERG STURM ORKAN KOENNEN __OFF__']\n",
      "['MITTWOCH SUED NORD BISSCHEN REGEN SONST REGION FREUNDLICH __OFF__']\n",
      "['NORDWEST AUCH TEIL IX REGEN __OFF__']\n",
      "['__ON__ HEUTE NACHT ELF BIS DREI GRAD MITTE BERG MOEGLICH BODEN FROST MORGEN ZEHN GRAD IX SIEBZEHN GRAD OBER FLUSS __OFF__']\n",
      "['__ON__ JETZT WETTER WIE-AUSSEHEN MORGEN SAMSTAG ZWEITE OKTOBER __OFF__']\n",
      "['BESONDERS OST SUED __OFF__']\n",
      "540\n"
     ]
    }
   ],
   "source": [
    "dataset = datasets.load_dataset(\"lukasbraach/rwth_phoenix_weather_2014\", 'pre-training', split='validation', streaming=True, trust_remote_code=True)\n",
    "dataset = dataset.with_format('torch').select_columns('transcription')\n",
    "\n",
    "data_loader = DataLoader(\n",
    "    dataset=dataset,\n",
    "    batch_size=1,\n",
    "    num_workers=40,\n",
    "    shuffle=False,\n",
    ")\n",
    "\n",
    "i = 0\n",
    "\n",
    "for ex in iter(data_loader):\n",
    "    if i < 20:\n",
    "        print(ex['transcription'])\n",
    "    i += 1\n",
    "\n",
    "print(i)"
   ]
  },
  {
   "cell_type": "code",
   "execution_count": null,
   "id": "ca683f25fcb01e7f",
   "metadata": {
    "ExecuteTime": {
     "end_time": "2024-01-02T11:28:45.142013074Z",
     "start_time": "2024-01-02T11:28:45.141246301Z"
    },
    "collapsed": false,
    "jupyter": {
     "outputs_hidden": false
    }
   },
   "outputs": [],
   "source": []
  }
 ],
 "metadata": {
  "kernelspec": {
   "display_name": "Python 3 (ipykernel)",
   "language": "python",
   "name": "python3"
  },
  "language_info": {
   "codemirror_mode": {
    "name": "ipython",
    "version": 3
   },
   "file_extension": ".py",
   "mimetype": "text/x-python",
   "name": "python",
   "nbconvert_exporter": "python",
   "pygments_lexer": "ipython3",
   "version": "3.8.10"
  }
 },
 "nbformat": 4,
 "nbformat_minor": 5
}
