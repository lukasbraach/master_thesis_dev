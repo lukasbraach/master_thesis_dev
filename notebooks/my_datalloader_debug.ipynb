{
 "cells": [
  {
   "cell_type": "code",
   "execution_count": 1,
   "id": "initial_id",
   "metadata": {
    "ExecuteTime": {
     "end_time": "2024-01-02T11:32:59.004452677Z",
     "start_time": "2024-01-02T11:32:58.801391380Z"
    }
   },
   "outputs": [],
   "source": [
    "import datasets\n",
    "import torch\n",
    "from torch.utils.data import DataLoader, IterableDataset\n",
    "from transformers import PreTrainedTokenizerFast"
   ]
  },
  {
   "cell_type": "code",
   "execution_count": 35,
   "id": "87e283b3-8393-42fd-94dc-2ec8bf1a2577",
   "metadata": {},
   "outputs": [],
   "source": [
    "tokenizer = PreTrainedTokenizerFast(\n",
    "    model_input_names=['input_values'],\n",
    "    bos_token=\"__ON__\",\n",
    "    eos_token=\"__OFF__\",\n",
    "    unk_token=\"__UNK__\",\n",
    "    pad_token=\"__PAD__\",\n",
    "    tokenizer_file='../src/etc/rwth_phoenix_tokenizer_wordlevel.json',\n",
    ")"
   ]
  },
  {
   "cell_type": "code",
   "execution_count": 4,
   "id": "46d18f1d6f07b3e0",
   "metadata": {
    "ExecuteTime": {
     "end_time": "2024-01-02T11:33:00.815569543Z",
     "start_time": "2024-01-02T11:33:00.755270942Z"
    },
    "editable": true,
    "slideshow": {
     "slide_type": ""
    },
    "tags": []
   },
   "outputs": [
    {
     "data": {
      "application/vnd.jupyter.widget-view+json": {
       "model_id": "e4ce392c44c44fdb9267353189c90d3c",
       "version_major": 2,
       "version_minor": 0
      },
      "text/plain": [
       "Downloading builder script:   0%|          | 0.00/6.42k [00:00<?, ?B/s]"
      ]
     },
     "metadata": {},
     "output_type": "display_data"
    },
    {
     "name": "stderr",
     "output_type": "stream",
     "text": [
      "/data/1braach/master_thesis_dev/.venv/lib/python3.8/site-packages/huggingface_hub/repocard.py:105: UserWarning: Repo card metadata block was not found. Setting CardData to empty.\n",
      "  warnings.warn(\"Repo card metadata block was not found. Setting CardData to empty.\")\n"
     ]
    },
    {
     "name": "stdout",
     "output_type": "stream",
     "text": [
      "5672\n",
      "['__ON__ LIEB ZUSCHAUER ABEND WINTER GESTERN loc-NORD SCHOTTLAND loc-REGION UEBERSCHWEMMUNG AMERIKA IX']\n",
      "['loc-WEST WARM loc-WEST BLEIBEN KUEHL']\n",
      "['KUEHL KUEHL IN-KOMMEND NACHT MINUS loc-MINUS-PLUSPLUS TEIL MINUS FUENF ALPEN KUESTE NULL']\n",
      "['MORGEN TEMPERATUR ACHT BIS DREIZEHN MAXIMAL DREIZEHN']\n",
      "['AUCH SAMSTAG WEST FREUNDLICH IX TROCKEN WEST REGEN REGEN']\n",
      "['SONNTAG SUED SCHNEE DABEI MONTAG __EMOTION__ SCHAUER KOMMEN']\n",
      "['DANN FREUNDLICH KLAR MONTAG MEHR MEHR WARM AB DIENSTAG JETZT WUENSCHEN SCHOEN ABEND __OFF__']\n",
      "['__ON__ WETTER WIE-AUSSEHEN MORGEN FREITAG ZWEITE APRIL __OFF__']\n",
      "['HEUTE NACHT OST REGEN loc-NORD __EMOTION__ REGEN-PLUSPLUS MORGEN UEBERWIEGEND FREUNDLICH']\n",
      "['IX SCHAUER ABEND WEST loc-SUED BISSCHEN REGEN REGEN']\n",
      "['HIER WIND SCHWACH MAESSIG MAESSIG loc-WEST NORD WIND __OFF__']\n",
      "['__ON__ HEUTE NACHT FLUSS DREI MINUS SECHS ALPEN VORSICHT GLATT']\n",
      "['MORGEN SIEBEN loc-LAND VIERZEHN FLUSS']\n",
      "['OSTERN MONTAG AUCH REGEN REGEN HOCH __EMOTION__ SCHNEE __OFF__']\n",
      "['__ON__ WOCHENENDE IX HOCH DRUCK DAZU WARM cl-KOMMEN VIEL SONNE UND AEHNLICH SOMMER TEMPERATUR TEMPERATUR __OFF__']\n",
      "['__ON__ REGION TIEF __LEFTHAND__ SONNTAG cl-KOMMEN REGEN REGEN UND GEWITTER __OFF__']\n",
      "['KLAR IX REGION KOENNEN NEBEL NORDOSTRAUM TAG ANFANG WOLKE WESTRAUM IX EINFACH VERSCHWINDEN MEHR SONNE __OFF__']\n",
      "['__ON__ WIND SCHWACH MAESSIG NORD SEE IX KOENNEN FRISCH WEHEN WEHEN WEHEN __OFF__']\n",
      "['__ON__ BERG ALLGAEU HEUTE ABEND VIER GRAD FLUSS ELF GRAD __OFF__']\n",
      "['__ON__ RUEGEN MORGEN VIERZEHN GRAD FLUSS SOMMER FUENF ZWANZIG BIS SECHS ZWANZIG GRAD __OFF__']\n",
      "5672\n"
     ]
    }
   ],
   "source": [
    "dataset = datasets.load_dataset(\"lukasbraach/rwth_phoenix_weather_2014\", 'pre-training', split='train', streaming=True, trust_remote_code=True)\n",
    "dataset = dataset.with_format('torch').select_columns('transcription')\n",
    "\n",
    "data_loader = DataLoader(\n",
    "    dataset=dataset,\n",
    "    batch_size=1,\n",
    "    num_workers=40,\n",
    "    shuffle=False,\n",
    ")\n",
    "\n",
    "i = 0\n",
    "\n",
    "for ex in iter(data_loader):\n",
    "    if i < 20:\n",
    "        print(ex['transcription'])\n",
    "    i += 1\n",
    "\n",
    "print(i)"
   ]
  },
  {
   "cell_type": "code",
   "execution_count": null,
   "id": "ca683f25fcb01e7f",
   "metadata": {
    "ExecuteTime": {
     "end_time": "2024-01-02T11:28:45.142013074Z",
     "start_time": "2024-01-02T11:28:45.141246301Z"
    },
    "collapsed": false,
    "jupyter": {
     "outputs_hidden": false
    }
   },
   "outputs": [],
   "source": []
  }
 ],
 "metadata": {
  "kernelspec": {
   "display_name": "Python 3 (ipykernel)",
   "language": "python",
   "name": "python3"
  },
  "language_info": {
   "codemirror_mode": {
    "name": "ipython",
    "version": 3
   },
   "file_extension": ".py",
   "mimetype": "text/x-python",
   "name": "python",
   "nbconvert_exporter": "python",
   "pygments_lexer": "ipython3",
   "version": "3.8.10"
  }
 },
 "nbformat": 4,
 "nbformat_minor": 5
}
