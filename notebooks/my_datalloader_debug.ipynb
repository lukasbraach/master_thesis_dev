{
 "cells": [
  {
   "cell_type": "code",
   "execution_count": 4,
   "id": "initial_id",
   "metadata": {
    "ExecuteTime": {
     "end_time": "2024-01-02T11:32:59.004452677Z",
     "start_time": "2024-01-02T11:32:58.801391380Z"
    }
   },
   "outputs": [],
   "source": [
    "from importlib import reload\n",
    "\n",
    "import src.data.rwth_phoenix_2014_datamodule"
   ]
  },
  {
   "cell_type": "code",
   "execution_count": 33,
   "id": "46d18f1d6f07b3e0",
   "metadata": {
    "ExecuteTime": {
     "end_time": "2024-01-02T11:33:00.815569543Z",
     "start_time": "2024-01-02T11:33:00.755270942Z"
    },
    "editable": true,
    "slideshow": {
     "slide_type": ""
    },
    "tags": []
   },
   "outputs": [
    {
     "name": "stdout",
     "output_type": "stream",
     "text": [
      "[('__ON__',), ('LIEB',), ('ZUSCHAUER',), ('ABEND',), ('WINTER',), ('GESTERN',), ('loc-NORD',), ('SCHOTTLAND',), ('loc-REGION',), ('UEBERSCHWEMMUNG',), ('AMERIKA',), ('IX',)]\n",
      "[('loc-WEST',), ('WARM',), ('loc-WEST',), ('BLEIBEN',), ('KUEHL',)]\n",
      "[('KUEHL',), ('KUEHL',), ('IN-KOMMEND',), ('NACHT',), ('MINUS',), ('loc-MINUS-PLUSPLUS',), ('TEIL',), ('MINUS',), ('FUENF',), ('ALPEN',), ('KUESTE',), ('NULL',)]\n",
      "[('MORGEN',), ('TEMPERATUR',), ('ACHT',), ('BIS',), ('DREIZEHN',), ('MAXIMAL',), ('DREIZEHN',)]\n",
      "[('AUCH',), ('SAMSTAG',), ('WEST',), ('FREUNDLICH',), ('IX',), ('TROCKEN',), ('WEST',), ('REGEN',), ('REGEN',)]\n",
      "[('SONNTAG',), ('SUED',), ('SCHNEE',), ('DABEI',), ('MONTAG',), ('__EMOTION__',), ('SCHAUER',), ('KOMMEN',)]\n",
      "[('DANN',), ('FREUNDLICH',), ('KLAR',), ('MONTAG',), ('MEHR',), ('MEHR',), ('WARM',), ('AB',), ('DIENSTAG',), ('JETZT',), ('WUENSCHEN',), ('SCHOEN',), ('ABEND',), ('__OFF__',)]\n",
      "[('__ON__',), ('WETTER',), ('WIE-AUSSEHEN',), ('MORGEN',), ('FREITAG',), ('ZWEITE',), ('APRIL',), ('__OFF__',)]\n",
      "[('HEUTE',), ('NACHT',), ('OST',), ('REGEN',), ('loc-NORD',), ('__EMOTION__',), ('REGEN-PLUSPLUS',), ('MORGEN',), ('UEBERWIEGEND',), ('FREUNDLICH',)]\n",
      "[('IX',), ('SCHAUER',), ('ABEND',), ('WEST',), ('loc-SUED',), ('BISSCHEN',), ('REGEN',), ('REGEN',)]\n",
      "[('HIER',), ('WIND',), ('SCHWACH',), ('MAESSIG',), ('MAESSIG',), ('loc-WEST',), ('NORD',), ('WIND',), ('__OFF__',)]\n",
      "[('__ON__',), ('HEUTE',), ('NACHT',), ('FLUSS',), ('DREI',), ('MINUS',), ('SECHS',), ('ALPEN',), ('VORSICHT',), ('GLATT',)]\n",
      "[('MORGEN',), ('SIEBEN',), ('loc-LAND',), ('VIERZEHN',), ('FLUSS',)]\n",
      "[('OSTERN',), ('MONTAG',), ('AUCH',), ('REGEN',), ('REGEN',), ('HOCH',), ('__EMOTION__',), ('SCHNEE',), ('__OFF__',)]\n",
      "[('__ON__',), ('WOCHENENDE',), ('IX',), ('HOCH',), ('DRUCK',), ('DAZU',), ('WARM',), ('cl-KOMMEN',), ('VIEL',), ('SONNE',), ('UND',), ('AEHNLICH',), ('SOMMER',), ('TEMPERATUR',), ('TEMPERATUR',), ('__OFF__',)]\n",
      "[('__ON__',), ('REGION',), ('TIEF',), ('__LEFTHAND__',), ('SONNTAG',), ('cl-KOMMEN',), ('REGEN',), ('REGEN',), ('UND',), ('GEWITTER',), ('__OFF__',)]\n",
      "[('KLAR',), ('IX',), ('REGION',), ('KOENNEN',), ('NEBEL',), ('NORDOSTRAUM',), ('TAG',), ('ANFANG',), ('WOLKE',), ('WESTRAUM',), ('IX',), ('EINFACH',), ('VERSCHWINDEN',), ('MEHR',), ('SONNE',), ('__OFF__',)]\n",
      "[('__ON__',), ('WIND',), ('SCHWACH',), ('MAESSIG',), ('NORD',), ('SEE',), ('IX',), ('KOENNEN',), ('FRISCH',), ('WEHEN',), ('WEHEN',), ('WEHEN',), ('__OFF__',)]\n",
      "[('__ON__',), ('BERG',), ('ALLGAEU',), ('HEUTE',), ('ABEND',), ('VIER',), ('GRAD',), ('FLUSS',), ('ELF',), ('GRAD',), ('__OFF__',)]\n",
      "[('__ON__',), ('RUEGEN',), ('MORGEN',), ('VIERZEHN',), ('GRAD',), ('FLUSS',), ('SOMMER',), ('FUENF',), ('ZWANZIG',), ('BIS',), ('SECHS',), ('ZWANZIG',), ('GRAD',), ('__OFF__',)]\n",
      "[('__ON__',), ('SONNTAG',), ('WEST',), ('NORDWESTRAUM',), ('WOLKE',), ('KOENNEN',), ('REGEN',), ('REGEN',), ('ODER',), ('GEWITTER',), ('KOENNEN',)]\n"
     ]
    }
   ],
   "source": [
    "reload(src.data.rwth_phoenix_2014_datamodule)\n",
    "from src.data.rwth_phoenix_2014_datamodule import RWTHPhoenix2014DataModule\n",
    "\n",
    "rwth_phoenix = RWTHPhoenix2014DataModule(num_workers=16, tokenizer_file=\"../src/etc/rwth_phoenix_tokenizer.json\")\n",
    "rwth_phoenix.setup()\n",
    "\n",
    "train = rwth_phoenix.train_dataloader()\n",
    "\n",
    "it = iter(train)\n",
    "\n",
    "for i, item in enumerate(it):\n",
    "    if i > 20:\n",
    "        break\n",
    "\n",
    "    print(item['tokens'])"
   ]
  },
  {
   "cell_type": "code",
   "execution_count": null,
   "id": "ca683f25fcb01e7f",
   "metadata": {
    "ExecuteTime": {
     "end_time": "2024-01-02T11:28:45.142013074Z",
     "start_time": "2024-01-02T11:28:45.141246301Z"
    },
    "collapsed": false,
    "jupyter": {
     "outputs_hidden": false
    }
   },
   "outputs": [],
   "source": []
  }
 ],
 "metadata": {
  "kernelspec": {
   "display_name": "Python 3 (ipykernel)",
   "language": "python",
   "name": "python3"
  },
  "language_info": {
   "codemirror_mode": {
    "name": "ipython",
    "version": 3
   },
   "file_extension": ".py",
   "mimetype": "text/x-python",
   "name": "python",
   "nbconvert_exporter": "python",
   "pygments_lexer": "ipython3",
   "version": "3.8.10"
  }
 },
 "nbformat": 4,
 "nbformat_minor": 5
}
