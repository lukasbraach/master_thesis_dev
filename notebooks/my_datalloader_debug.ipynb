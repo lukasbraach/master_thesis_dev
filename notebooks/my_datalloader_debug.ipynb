{
 "cells": [
  {
   "cell_type": "code",
   "execution_count": 1,
   "id": "initial_id",
   "metadata": {
    "ExecuteTime": {
     "end_time": "2024-01-02T11:32:59.004452677Z",
     "start_time": "2024-01-02T11:32:58.801391380Z"
    }
   },
   "outputs": [
    {
     "ename": "ModuleNotFoundError",
     "evalue": "No module named 'src'",
     "output_type": "error",
     "traceback": [
      "\u001B[0;31m---------------------------------------------------------------------------\u001B[0m",
      "\u001B[0;31mModuleNotFoundError\u001B[0m                       Traceback (most recent call last)",
      "Cell \u001B[0;32mIn[1], line 3\u001B[0m\n\u001B[1;32m      1\u001B[0m \u001B[38;5;28;01mfrom\u001B[39;00m \u001B[38;5;21;01mimportlib\u001B[39;00m \u001B[38;5;28;01mimport\u001B[39;00m reload\n\u001B[0;32m----> 3\u001B[0m \u001B[38;5;28;01mimport\u001B[39;00m \u001B[38;5;21;01msrc\u001B[39;00m\u001B[38;5;21;01m.\u001B[39;00m\u001B[38;5;21;01mdata\u001B[39;00m\u001B[38;5;21;01m.\u001B[39;00m\u001B[38;5;21;01mrwth_phoenix_2014_datamodule\u001B[39;00m\n",
      "\u001B[0;31mModuleNotFoundError\u001B[0m: No module named 'src'"
     ]
    }
   ],
   "source": [
    "from importlib import reload\n",
    "\n",
    "import src.data.rwth_phoenix_2014_datamodule"
   ]
  },
  {
   "cell_type": "code",
   "execution_count": 2,
   "id": "46d18f1d6f07b3e0",
   "metadata": {
    "editable": true,
    "slideshow": {
     "slide_type": ""
    },
    "tags": [],
    "ExecuteTime": {
     "end_time": "2024-01-02T11:33:00.815569543Z",
     "start_time": "2024-01-02T11:33:00.755270942Z"
    }
   },
   "outputs": [
    {
     "ename": "NameError",
     "evalue": "name 'src' is not defined",
     "output_type": "error",
     "traceback": [
      "\u001B[0;31m---------------------------------------------------------------------------\u001B[0m",
      "\u001B[0;31mNameError\u001B[0m                                 Traceback (most recent call last)",
      "Cell \u001B[0;32mIn[2], line 1\u001B[0m\n\u001B[0;32m----> 1\u001B[0m reload(\u001B[43msrc\u001B[49m\u001B[38;5;241m.\u001B[39mdata\u001B[38;5;241m.\u001B[39mrwth_phoenix_2014_datamodule)\n\u001B[1;32m      2\u001B[0m \u001B[38;5;28;01mfrom\u001B[39;00m \u001B[38;5;21;01msrc\u001B[39;00m\u001B[38;5;21;01m.\u001B[39;00m\u001B[38;5;21;01mdata\u001B[39;00m\u001B[38;5;21;01m.\u001B[39;00m\u001B[38;5;21;01mrwth_phoenix_2014_datamodule\u001B[39;00m \u001B[38;5;28;01mimport\u001B[39;00m RWTHPhoenix2014DataModule\n\u001B[1;32m      4\u001B[0m rwth_phoenix \u001B[38;5;241m=\u001B[39m RWTHPhoenix2014DataModule(tokenizer_file\u001B[38;5;241m=\u001B[39m\u001B[38;5;124m\"\u001B[39m\u001B[38;5;124m../src/etc/rwth_phoenix_tokenizer.json\u001B[39m\u001B[38;5;124m\"\u001B[39m)\n",
      "\u001B[0;31mNameError\u001B[0m: name 'src' is not defined"
     ]
    }
   ],
   "source": [
    "reload(src.data.rwth_phoenix_2014_datamodule)\n",
    "from src.data.rwth_phoenix_2014_datamodule import RWTHPhoenix2014DataModule\n",
    "\n",
    "rwth_phoenix = RWTHPhoenix2014DataModule(tokenizer_file=\"../src/etc/rwth_phoenix_tokenizer.json\")\n",
    "train = rwth_phoenix.train_dataloader()\n",
    "\n",
    "it = iter(train)\n",
    "first = next(it)\n",
    "\n",
    "first"
   ]
  },
  {
   "cell_type": "code",
   "execution_count": null,
   "outputs": [],
   "source": [],
   "metadata": {
    "collapsed": false,
    "ExecuteTime": {
     "end_time": "2024-01-02T11:28:45.142013074Z",
     "start_time": "2024-01-02T11:28:45.141246301Z"
    }
   },
   "id": "ca683f25fcb01e7f"
  }
 ],
 "metadata": {
  "kernelspec": {
   "display_name": "Python 3 (ipykernel)",
   "language": "python",
   "name": "python3"
  },
  "language_info": {
   "codemirror_mode": {
    "name": "ipython",
    "version": 3
   },
   "file_extension": ".py",
   "mimetype": "text/x-python",
   "name": "python",
   "nbconvert_exporter": "python",
   "pygments_lexer": "ipython3",
   "version": "3.8.10"
  }
 },
 "nbformat": 4,
 "nbformat_minor": 5
}
