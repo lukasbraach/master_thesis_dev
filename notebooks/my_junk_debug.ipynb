{
 "cells": [
  {
   "cell_type": "code",
   "execution_count": 2,
   "id": "initial_id",
   "metadata": {
    "collapsed": true,
    "ExecuteTime": {
     "end_time": "2023-11-28T15:54:50.645966Z",
     "start_time": "2023-11-28T15:54:48.952773Z"
    }
   },
   "outputs": [],
   "source": [
    "from importlib import reload\n",
    "import datasets"
   ]
  },
  {
   "cell_type": "code",
   "execution_count": 2,
   "outputs": [
    {
     "data": {
      "text/plain": "Resolving data files:   0%|          | 0/103 [00:00<?, ?it/s]",
      "application/vnd.jupyter.widget-view+json": {
       "version_major": 2,
       "version_minor": 0,
       "model_id": "0c1e144c5a314161855a00b2c5ebe355"
      }
     },
     "metadata": {},
     "output_type": "display_data"
    }
   ],
   "source": [
    "rwth_phoenix = datasets.load_dataset('lukasbraach/rwth_phoenix_weather_2014', 'multisigner', streaming=True)"
   ],
   "metadata": {
    "collapsed": false,
    "ExecuteTime": {
     "end_time": "2023-11-21T16:18:15.302680Z",
     "start_time": "2023-11-21T16:16:35.934973Z"
    }
   },
   "id": "ea6fd5de1d7aa779"
  },
  {
   "cell_type": "code",
   "execution_count": 27,
   "outputs": [
    {
     "data": {
      "text/plain": "{'tokens': ['ABER', 'FREUEN', 'MORGEN', 'SONNE', 'SELTEN', 'REGEN'],\n 'frames': [<PIL.PngImagePlugin.PngImageFile image mode=RGB size=210x260>,\n  <PIL.PngImagePlugin.PngImageFile image mode=RGB size=210x260>,\n  <PIL.PngImagePlugin.PngImageFile image mode=RGB size=210x260>,\n  <PIL.PngImagePlugin.PngImageFile image mode=RGB size=210x260>,\n  <PIL.PngImagePlugin.PngImageFile image mode=RGB size=210x260>,\n  <PIL.PngImagePlugin.PngImageFile image mode=RGB size=210x260>,\n  <PIL.PngImagePlugin.PngImageFile image mode=RGB size=210x260>,\n  <PIL.PngImagePlugin.PngImageFile image mode=RGB size=210x260>,\n  <PIL.PngImagePlugin.PngImageFile image mode=RGB size=210x260>,\n  <PIL.PngImagePlugin.PngImageFile image mode=RGB size=210x260>,\n  <PIL.PngImagePlugin.PngImageFile image mode=RGB size=210x260>,\n  <PIL.PngImagePlugin.PngImageFile image mode=RGB size=210x260>,\n  <PIL.PngImagePlugin.PngImageFile image mode=RGB size=210x260>,\n  <PIL.PngImagePlugin.PngImageFile image mode=RGB size=210x260>,\n  <PIL.PngImagePlugin.PngImageFile image mode=RGB size=210x260>,\n  <PIL.PngImagePlugin.PngImageFile image mode=RGB size=210x260>,\n  <PIL.PngImagePlugin.PngImageFile image mode=RGB size=210x260>,\n  <PIL.PngImagePlugin.PngImageFile image mode=RGB size=210x260>,\n  <PIL.PngImagePlugin.PngImageFile image mode=RGB size=210x260>,\n  <PIL.PngImagePlugin.PngImageFile image mode=RGB size=210x260>,\n  <PIL.PngImagePlugin.PngImageFile image mode=RGB size=210x260>,\n  <PIL.PngImagePlugin.PngImageFile image mode=RGB size=210x260>,\n  <PIL.PngImagePlugin.PngImageFile image mode=RGB size=210x260>,\n  <PIL.PngImagePlugin.PngImageFile image mode=RGB size=210x260>,\n  <PIL.PngImagePlugin.PngImageFile image mode=RGB size=210x260>,\n  <PIL.PngImagePlugin.PngImageFile image mode=RGB size=210x260>,\n  <PIL.PngImagePlugin.PngImageFile image mode=RGB size=210x260>,\n  <PIL.PngImagePlugin.PngImageFile image mode=RGB size=210x260>,\n  <PIL.PngImagePlugin.PngImageFile image mode=RGB size=210x260>,\n  <PIL.PngImagePlugin.PngImageFile image mode=RGB size=210x260>,\n  <PIL.PngImagePlugin.PngImageFile image mode=RGB size=210x260>,\n  <PIL.PngImagePlugin.PngImageFile image mode=RGB size=210x260>,\n  <PIL.PngImagePlugin.PngImageFile image mode=RGB size=210x260>,\n  <PIL.PngImagePlugin.PngImageFile image mode=RGB size=210x260>,\n  <PIL.PngImagePlugin.PngImageFile image mode=RGB size=210x260>,\n  <PIL.PngImagePlugin.PngImageFile image mode=RGB size=210x260>,\n  <PIL.PngImagePlugin.PngImageFile image mode=RGB size=210x260>,\n  <PIL.PngImagePlugin.PngImageFile image mode=RGB size=210x260>,\n  <PIL.PngImagePlugin.PngImageFile image mode=RGB size=210x260>,\n  <PIL.PngImagePlugin.PngImageFile image mode=RGB size=210x260>,\n  <PIL.PngImagePlugin.PngImageFile image mode=RGB size=210x260>,\n  <PIL.PngImagePlugin.PngImageFile image mode=RGB size=210x260>,\n  <PIL.PngImagePlugin.PngImageFile image mode=RGB size=210x260>,\n  <PIL.PngImagePlugin.PngImageFile image mode=RGB size=210x260>,\n  <PIL.PngImagePlugin.PngImageFile image mode=RGB size=210x260>,\n  <PIL.PngImagePlugin.PngImageFile image mode=RGB size=210x260>,\n  <PIL.PngImagePlugin.PngImageFile image mode=RGB size=210x260>,\n  <PIL.PngImagePlugin.PngImageFile image mode=RGB size=210x260>,\n  <PIL.PngImagePlugin.PngImageFile image mode=RGB size=210x260>,\n  <PIL.PngImagePlugin.PngImageFile image mode=RGB size=210x260>,\n  <PIL.PngImagePlugin.PngImageFile image mode=RGB size=210x260>,\n  <PIL.PngImagePlugin.PngImageFile image mode=RGB size=210x260>,\n  <PIL.PngImagePlugin.PngImageFile image mode=RGB size=210x260>,\n  <PIL.PngImagePlugin.PngImageFile image mode=RGB size=210x260>,\n  <PIL.PngImagePlugin.PngImageFile image mode=RGB size=210x260>,\n  <PIL.PngImagePlugin.PngImageFile image mode=RGB size=210x260>,\n  <PIL.PngImagePlugin.PngImageFile image mode=RGB size=210x260>,\n  <PIL.PngImagePlugin.PngImageFile image mode=RGB size=210x260>,\n  <PIL.PngImagePlugin.PngImageFile image mode=RGB size=210x260>,\n  <PIL.PngImagePlugin.PngImageFile image mode=RGB size=210x260>,\n  <PIL.PngImagePlugin.PngImageFile image mode=RGB size=210x260>,\n  <PIL.PngImagePlugin.PngImageFile image mode=RGB size=210x260>,\n  <PIL.PngImagePlugin.PngImageFile image mode=RGB size=210x260>,\n  <PIL.PngImagePlugin.PngImageFile image mode=RGB size=210x260>,\n  <PIL.PngImagePlugin.PngImageFile image mode=RGB size=210x260>,\n  <PIL.PngImagePlugin.PngImageFile image mode=RGB size=210x260>,\n  <PIL.PngImagePlugin.PngImageFile image mode=RGB size=210x260>,\n  <PIL.PngImagePlugin.PngImageFile image mode=RGB size=210x260>,\n  <PIL.PngImagePlugin.PngImageFile image mode=RGB size=210x260>,\n  <PIL.PngImagePlugin.PngImageFile image mode=RGB size=210x260>,\n  <PIL.PngImagePlugin.PngImageFile image mode=RGB size=210x260>,\n  <PIL.PngImagePlugin.PngImageFile image mode=RGB size=210x260>,\n  <PIL.PngImagePlugin.PngImageFile image mode=RGB size=210x260>,\n  <PIL.PngImagePlugin.PngImageFile image mode=RGB size=210x260>,\n  <PIL.PngImagePlugin.PngImageFile image mode=RGB size=210x260>,\n  <PIL.PngImagePlugin.PngImageFile image mode=RGB size=210x260>,\n  <PIL.PngImagePlugin.PngImageFile image mode=RGB size=210x260>,\n  <PIL.PngImagePlugin.PngImageFile image mode=RGB size=210x260>,\n  <PIL.PngImagePlugin.PngImageFile image mode=RGB size=210x260>,\n  <PIL.PngImagePlugin.PngImageFile image mode=RGB size=210x260>,\n  <PIL.PngImagePlugin.PngImageFile image mode=RGB size=210x260>,\n  <PIL.PngImagePlugin.PngImageFile image mode=RGB size=210x260>,\n  <PIL.PngImagePlugin.PngImageFile image mode=RGB size=210x260>,\n  <PIL.PngImagePlugin.PngImageFile image mode=RGB size=210x260>,\n  <PIL.PngImagePlugin.PngImageFile image mode=RGB size=210x260>,\n  <PIL.PngImagePlugin.PngImageFile image mode=RGB size=210x260>,\n  <PIL.PngImagePlugin.PngImageFile image mode=RGB size=210x260>,\n  <PIL.PngImagePlugin.PngImageFile image mode=RGB size=210x260>,\n  <PIL.PngImagePlugin.PngImageFile image mode=RGB size=210x260>,\n  <PIL.PngImagePlugin.PngImageFile image mode=RGB size=210x260>,\n  <PIL.PngImagePlugin.PngImageFile image mode=RGB size=210x260>,\n  <PIL.PngImagePlugin.PngImageFile image mode=RGB size=210x260>,\n  <PIL.PngImagePlugin.PngImageFile image mode=RGB size=210x260>,\n  <PIL.PngImagePlugin.PngImageFile image mode=RGB size=210x260>,\n  <PIL.PngImagePlugin.PngImageFile image mode=RGB size=210x260>,\n  <PIL.PngImagePlugin.PngImageFile image mode=RGB size=210x260>,\n  <PIL.PngImagePlugin.PngImageFile image mode=RGB size=210x260>,\n  <PIL.PngImagePlugin.PngImageFile image mode=RGB size=210x260>,\n  <PIL.PngImagePlugin.PngImageFile image mode=RGB size=210x260>,\n  <PIL.PngImagePlugin.PngImageFile image mode=RGB size=210x260>,\n  <PIL.PngImagePlugin.PngImageFile image mode=RGB size=210x260>,\n  <PIL.PngImagePlugin.PngImageFile image mode=RGB size=210x260>,\n  <PIL.PngImagePlugin.PngImageFile image mode=RGB size=210x260>,\n  <PIL.PngImagePlugin.PngImageFile image mode=RGB size=210x260>,\n  <PIL.PngImagePlugin.PngImageFile image mode=RGB size=210x260>,\n  <PIL.PngImagePlugin.PngImageFile image mode=RGB size=210x260>,\n  <PIL.PngImagePlugin.PngImageFile image mode=RGB size=210x260>,\n  <PIL.PngImagePlugin.PngImageFile image mode=RGB size=210x260>,\n  <PIL.PngImagePlugin.PngImageFile image mode=RGB size=210x260>,\n  <PIL.PngImagePlugin.PngImageFile image mode=RGB size=210x260>,\n  <PIL.PngImagePlugin.PngImageFile image mode=RGB size=210x260>,\n  <PIL.PngImagePlugin.PngImageFile image mode=RGB size=210x260>,\n  <PIL.PngImagePlugin.PngImageFile image mode=RGB size=210x260>,\n  <PIL.PngImagePlugin.PngImageFile image mode=RGB size=210x260>,\n  <PIL.PngImagePlugin.PngImageFile image mode=RGB size=210x260>,\n  <PIL.PngImagePlugin.PngImageFile image mode=RGB size=210x260>,\n  <PIL.PngImagePlugin.PngImageFile image mode=RGB size=210x260>,\n  <PIL.PngImagePlugin.PngImageFile image mode=RGB size=210x260>,\n  <PIL.PngImagePlugin.PngImageFile image mode=RGB size=210x260>,\n  <PIL.PngImagePlugin.PngImageFile image mode=RGB size=210x260>,\n  <PIL.PngImagePlugin.PngImageFile image mode=RGB size=210x260>,\n  <PIL.PngImagePlugin.PngImageFile image mode=RGB size=210x260>,\n  <PIL.PngImagePlugin.PngImageFile image mode=RGB size=210x260>,\n  <PIL.PngImagePlugin.PngImageFile image mode=RGB size=210x260>,\n  <PIL.PngImagePlugin.PngImageFile image mode=RGB size=210x260>,\n  <PIL.PngImagePlugin.PngImageFile image mode=RGB size=210x260>,\n  <PIL.PngImagePlugin.PngImageFile image mode=RGB size=210x260>,\n  <PIL.PngImagePlugin.PngImageFile image mode=RGB size=210x260>,\n  <PIL.PngImagePlugin.PngImageFile image mode=RGB size=210x260>,\n  <PIL.PngImagePlugin.PngImageFile image mode=RGB size=210x260>,\n  <PIL.PngImagePlugin.PngImageFile image mode=RGB size=210x260>,\n  <PIL.PngImagePlugin.PngImageFile image mode=RGB size=210x260>]}"
     },
     "execution_count": 27,
     "metadata": {},
     "output_type": "execute_result"
    }
   ],
   "source": [
    "it = iter(rwth_phoenix['test'])\n",
    "first = next(it)\n",
    "\n",
    "first"
   ],
   "metadata": {
    "collapsed": false,
    "ExecuteTime": {
     "end_time": "2023-11-21T16:35:51.248042Z",
     "start_time": "2023-11-21T16:35:35.836542Z"
    }
   },
   "id": "9dbc1fbfc36d6f95"
  },
  {
   "cell_type": "code",
   "execution_count": 65,
   "outputs": [
    {
     "data": {
      "text/plain": "132"
     },
     "execution_count": 65,
     "metadata": {},
     "output_type": "execute_result"
    }
   ],
   "source": [
    "len(first['frames'])"
   ],
   "metadata": {
    "collapsed": false,
    "ExecuteTime": {
     "end_time": "2023-11-21T17:09:58.945810Z",
     "start_time": "2023-11-21T17:09:58.878826Z"
    }
   },
   "id": "f0d557683707d8f8"
  },
  {
   "cell_type": "code",
   "execution_count": 5,
   "outputs": [
    {
     "ename": "NameError",
     "evalue": "name 'src' is not defined",
     "output_type": "error",
     "traceback": [
      "\u001B[0;31m---------------------------------------------------------------------------\u001B[0m",
      "\u001B[0;31mNameError\u001B[0m                                 Traceback (most recent call last)",
      "Cell \u001B[0;32mIn[5], line 1\u001B[0m\n\u001B[0;32m----> 1\u001B[0m reload(\u001B[43msrc\u001B[49m\u001B[38;5;241m.\u001B[39mmodels\u001B[38;5;241m.\u001B[39mcomponents\u001B[38;5;241m.\u001B[39mfeature_extractor_dinov2)\n\u001B[1;32m      2\u001B[0m \u001B[38;5;28;01mfrom\u001B[39;00m \u001B[38;5;21;01msrc\u001B[39;00m\u001B[38;5;21;01m.\u001B[39;00m\u001B[38;5;21;01mmodels\u001B[39;00m\u001B[38;5;21;01m.\u001B[39;00m\u001B[38;5;21;01mcomponents\u001B[39;00m\u001B[38;5;21;01m.\u001B[39;00m\u001B[38;5;21;01mfeature_extractor_dinov2\u001B[39;00m \u001B[38;5;28;01mimport\u001B[39;00m SignLanguageFeatureExtractor\n\u001B[1;32m      4\u001B[0m feature_extractor \u001B[38;5;241m=\u001B[39m SignLanguageFeatureExtractor()\n",
      "\u001B[0;31mNameError\u001B[0m: name 'src' is not defined"
     ]
    }
   ],
   "source": [
    "reload(src.models.components.feature_extractor_dinov2)\n",
    "from src.models.components.feature_extractor_dinov2 import SignLanguageFeatureExtractor\n",
    "\n",
    "feature_extractor = SignLanguageFeatureExtractor()\n",
    "feature = feature_extractor(first['frames'], sampling_rate=25, return_attention_mask=True, return_tensors='pt')"
   ],
   "metadata": {
    "collapsed": false,
    "ExecuteTime": {
     "end_time": "2023-11-28T15:55:26.056488Z",
     "start_time": "2023-11-28T15:55:26.048387Z"
    }
   },
   "id": "fe2027d2bcc4baa0"
  },
  {
   "cell_type": "code",
   "execution_count": 69,
   "outputs": [
    {
     "data": {
      "text/plain": "torch.Size([1, 132, 768])"
     },
     "execution_count": 69,
     "metadata": {},
     "output_type": "execute_result"
    }
   ],
   "source": [
    "feature['input_values'].shape"
   ],
   "metadata": {
    "collapsed": false,
    "ExecuteTime": {
     "end_time": "2023-11-21T17:10:54.025967Z",
     "start_time": "2023-11-21T17:10:53.959265Z"
    }
   },
   "id": "292f10f6df5e2f9a"
  },
  {
   "cell_type": "code",
   "execution_count": 3,
   "outputs": [
    {
     "data": {
      "text/plain": "torch.Size([10, 32, 768])"
     },
     "execution_count": 3,
     "metadata": {},
     "output_type": "execute_result"
    }
   ],
   "source": [
    "import torch\n",
    "from torch import nn\n",
    "\n",
    "encoder_layer = nn.TransformerEncoderLayer(d_model=768, nhead=8)\n",
    "transformer_encoder = nn.TransformerEncoder(encoder_layer, num_layers=6)\n",
    "src_tensor = torch.rand(10, 32, 768)\n",
    "out = transformer_encoder(src_tensor)\n",
    "\n",
    "out.shape"
   ],
   "metadata": {
    "collapsed": false,
    "ExecuteTime": {
     "end_time": "2023-11-28T14:44:59.841203Z",
     "start_time": "2023-11-28T14:44:59.638072Z"
    }
   },
   "id": "175bcdb0392159dc"
  },
  {
   "cell_type": "code",
   "execution_count": 2,
   "outputs": [
    {
     "data": {
      "text/plain": "SignLanguageNet(\n  (encoder): SpatiotemporalEncoder(\n    (spatial_encoder): Dinov2Model(\n      (embeddings): Dinov2Embeddings(\n        (patch_embeddings): Dinov2PatchEmbeddings(\n          (projection): Conv2d(3, 768, kernel_size=(14, 14), stride=(14, 14))\n        )\n        (dropout): Dropout(p=0.0, inplace=False)\n      )\n      (encoder): Dinov2Encoder(\n        (layer): ModuleList(\n          (0-11): 12 x Dinov2Layer(\n            (norm1): LayerNorm((768,), eps=1e-06, elementwise_affine=True)\n            (attention): Dinov2Attention(\n              (attention): Dinov2SelfAttention(\n                (query): Linear(in_features=768, out_features=768, bias=True)\n                (key): Linear(in_features=768, out_features=768, bias=True)\n                (value): Linear(in_features=768, out_features=768, bias=True)\n                (dropout): Dropout(p=0.0, inplace=False)\n              )\n              (output): Dinov2SelfOutput(\n                (dense): Linear(in_features=768, out_features=768, bias=True)\n                (dropout): Dropout(p=0.0, inplace=False)\n              )\n            )\n            (layer_scale1): Dinov2LayerScale()\n            (drop_path1): Identity()\n            (norm2): LayerNorm((768,), eps=1e-06, elementwise_affine=True)\n            (mlp): Dinov2MLP(\n              (fc1): Linear(in_features=768, out_features=3072, bias=True)\n              (activation): GELUActivation()\n              (fc2): Linear(in_features=3072, out_features=768, bias=True)\n            )\n            (layer_scale2): Dinov2LayerScale()\n            (drop_path2): Identity()\n          )\n        )\n      )\n      (layernorm): LayerNorm((768,), eps=1e-06, elementwise_affine=True)\n    )\n    (pos_encoder): PositionalEncoding(\n      (dropout): Dropout(p=0.1, inplace=False)\n    )\n    (temporal_encoder): TransformerEncoder(\n      (layers): ModuleList(\n        (0-5): 6 x TransformerEncoderLayer(\n          (self_attn): MultiheadAttention(\n            (out_proj): NonDynamicallyQuantizableLinear(in_features=768, out_features=768, bias=True)\n          )\n          (linear1): Linear(in_features=768, out_features=2048, bias=True)\n          (dropout): Dropout(p=0.1, inplace=False)\n          (linear2): Linear(in_features=2048, out_features=768, bias=True)\n          (norm1): LayerNorm((768,), eps=1e-05, elementwise_affine=True)\n          (norm2): LayerNorm((768,), eps=1e-05, elementwise_affine=True)\n          (dropout1): Dropout(p=0.1, inplace=False)\n          (dropout2): Dropout(p=0.1, inplace=False)\n        )\n      )\n    )\n  )\n  (decoder): LanguageDecoder(\n    (model): Speech2Text2DecoderWrapper(\n      (decoder): Speech2Text2Decoder(\n        (embed_tokens): Embedding(10000, 1024, padding_idx=1)\n        (embed_positions): Speech2Text2SinusoidalPositionalEmbedding()\n        (layers): ModuleList(\n          (0-5): 6 x Speech2Text2DecoderLayer(\n            (self_attn): Speech2Text2Attention(\n              (k_proj): Linear(in_features=1024, out_features=1024, bias=True)\n              (v_proj): Linear(in_features=1024, out_features=1024, bias=True)\n              (q_proj): Linear(in_features=1024, out_features=1024, bias=True)\n              (out_proj): Linear(in_features=1024, out_features=1024, bias=True)\n            )\n            (activation_fn): ReLU()\n            (self_attn_layer_norm): LayerNorm((1024,), eps=1e-05, elementwise_affine=True)\n            (encoder_attn): Speech2Text2Attention(\n              (k_proj): Linear(in_features=1024, out_features=1024, bias=True)\n              (v_proj): Linear(in_features=1024, out_features=1024, bias=True)\n              (q_proj): Linear(in_features=1024, out_features=1024, bias=True)\n              (out_proj): Linear(in_features=1024, out_features=1024, bias=True)\n            )\n            (encoder_attn_layer_norm): LayerNorm((1024,), eps=1e-05, elementwise_affine=True)\n            (fc1): Linear(in_features=1024, out_features=2048, bias=True)\n            (fc2): Linear(in_features=2048, out_features=1024, bias=True)\n            (final_layer_norm): LayerNorm((1024,), eps=1e-05, elementwise_affine=True)\n          )\n        )\n      )\n    )\n    (lm_head): Linear(in_features=1024, out_features=10000, bias=False)\n  )\n  (enc_to_dec_proj): Linear(in_features=768, out_features=1024, bias=True)\n)"
     },
     "execution_count": 2,
     "metadata": {},
     "output_type": "execute_result"
    }
   ],
   "source": [
    "from src.models.components.sign_language_net import SignLanguageNet\n",
    "\n",
    "model = SignLanguageNet()\n",
    "\n",
    "model"
   ],
   "metadata": {
    "collapsed": false,
    "ExecuteTime": {
     "end_time": "2023-11-28T16:13:30.213076Z",
     "start_time": "2023-11-28T16:13:27.631950Z"
    }
   },
   "id": "7bda0a9b5abb169d"
  }
 ],
 "metadata": {
  "kernelspec": {
   "display_name": "Python 3",
   "language": "python",
   "name": "python3"
  },
  "language_info": {
   "codemirror_mode": {
    "name": "ipython",
    "version": 2
   },
   "file_extension": ".py",
   "mimetype": "text/x-python",
   "name": "python",
   "nbconvert_exporter": "python",
   "pygments_lexer": "ipython2",
   "version": "2.7.6"
  }
 },
 "nbformat": 4,
 "nbformat_minor": 5
}
