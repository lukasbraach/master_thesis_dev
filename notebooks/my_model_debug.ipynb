{
 "cells": [
  {
   "cell_type": "code",
   "execution_count": 1,
   "source": [
    "from importlib import reload\n",
    "\n",
    "import datasets\n",
    "import numpy as np\n",
    "import torch\n",
    "\n",
    "import src.models.components.feature_extractor_dinov2\n",
    "import src.models.components.sign_language_net\n",
    "import src.models.components.spatiotemporal_encoder"
   ],
   "metadata": {
    "collapsed": false,
    "ExecuteTime": {
     "end_time": "2023-12-29T09:53:23.600099Z",
     "start_time": "2023-12-29T09:53:17.721457Z"
    }
   },
   "id": "3c49661276d5a724",
   "outputs": []
  },
  {
   "cell_type": "code",
   "execution_count": 2,
   "id": "initial_id",
   "metadata": {
    "collapsed": true,
    "ExecuteTime": {
     "end_time": "2023-12-29T09:53:29.718318Z",
     "start_time": "2023-12-29T09:53:23.604355Z"
    }
   },
   "source": [
    "rwth_phoenix = datasets.load_dataset('lukasbraach/rwth_phoenix_weather_2014', 'multisigner', streaming=True)\n",
    "it = iter(rwth_phoenix['train'])\n",
    "first = next(it)\n",
    "\n",
    "first"
   ],
   "outputs": []
  },
  {
   "cell_type": "code",
   "execution_count": 3,
   "source": [
    "reload(src.models.components.feature_extractor_dinov2)\n",
    "from src.models.components.feature_extractor_dinov2 import SignLanguageFeatureExtractor\n",
    "\n",
    "feature_extractor = SignLanguageFeatureExtractor()\n",
    "\n",
    "src_tensor = [\n",
    "    np.random.rand(3, 3, 224, 224),\n",
    "    np.random.rand(1, 3, 224, 224),\n",
    "    np.random.rand(6, 3, 224, 224),\n",
    "]\n",
    "batched_feature = feature_extractor(first['frames'], sampling_rate=25, pad_to_multiple_of=16, return_tensors=\"pt\")\n",
    "\n",
    "input_values = batched_feature.input_values\n",
    "attention_mask = batched_feature.attention_mask\n",
    "\n",
    "print(\"input_values:\", input_values.shape)\n",
    "print(\"attention_mask:\", attention_mask)"
   ],
   "metadata": {
    "collapsed": false,
    "ExecuteTime": {
     "end_time": "2023-12-29T09:54:04.226357Z",
     "start_time": "2023-12-29T09:53:29.717992Z"
    }
   },
   "id": "75911605c234a03c",
   "outputs": []
  },
  {
   "cell_type": "code",
   "execution_count": 4,
   "source": [
    "reload(src.models.components.spatiotemporal_encoder)\n",
    "from src.models.components.spatiotemporal_encoder import SpatiotemporalEncoder\n",
    "from src.models.components.spatiotemporal_encoder import SpatiotemporalEncoderConfig\n",
    "\n",
    "config = SpatiotemporalEncoderConfig()\n",
    "\n",
    "model = SpatiotemporalEncoder(config)\n",
    "encoded = model(input_values, attention_mask)\n",
    "\n",
    "encoded"
   ],
   "metadata": {
    "collapsed": false,
    "ExecuteTime": {
     "end_time": "2023-12-29T09:54:04.984174Z",
     "start_time": "2023-12-29T09:54:04.228085Z"
    }
   },
   "id": "434c96cc6a7db9ed",
   "outputs": []
  },
  {
   "cell_type": "code",
   "execution_count": 29,
   "source": [
    "from transformers import PreTrainedTokenizerFast\n",
    "\n",
    "reload(src.models.components.sign_language_net)\n",
    "from src.models.components.sign_language_net import SignLanguageNet\n",
    "\n",
    "model = SignLanguageNet(tokenizer=PreTrainedTokenizerFast(\n",
    "    pad_token=\"__PAD__\",\n",
    "    bos_token=\"__ON__\",\n",
    "    eos_token=\"__OFF__\",\n",
    "    unk_token=\"__UNK__\",\n",
    "    tokenizer_file=\"../src/etc/rwth_phoenix_tokenizer.json\"\n",
    "))\n",
    "\n",
    "model"
   ],
   "metadata": {
    "collapsed": false,
    "ExecuteTime": {
     "end_time": "2023-12-29T10:51:02.403113Z",
     "start_time": "2023-12-29T10:51:00.947293Z"
    }
   },
   "id": "c5769d1b7e39dc4a",
   "outputs": []
  },
  {
   "cell_type": "code",
   "execution_count": 42,
   "source": [
    "out = model.forward(input_values=input_values, attention_mask=attention_mask, labels=torch.LongTensor([[2, 2]]))\n",
    "\n",
    "print(out.logits.shape)\n",
    "pred = torch.argmax(out.logits, dim=2)\n",
    "\n",
    "print(pred)"
   ],
   "metadata": {
    "collapsed": false,
    "ExecuteTime": {
     "end_time": "2023-12-29T11:01:40.754893Z",
     "start_time": "2023-12-29T11:01:40.662904Z"
    }
   },
   "id": "136d75181c81dc5a",
   "outputs": []
  }
 ],
 "metadata": {
  "kernelspec": {
   "display_name": "Python 3",
   "language": "python",
   "name": "python3"
  },
  "language_info": {
   "codemirror_mode": {
    "name": "ipython",
    "version": 2
   },
   "file_extension": ".py",
   "mimetype": "text/x-python",
   "name": "python",
   "nbconvert_exporter": "python",
   "pygments_lexer": "ipython2",
   "version": "2.7.6"
  }
 },
 "nbformat": 4,
 "nbformat_minor": 5
}
