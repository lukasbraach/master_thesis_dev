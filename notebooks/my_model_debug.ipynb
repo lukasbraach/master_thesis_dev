{
 "cells": [
  {
   "cell_type": "code",
   "execution_count": 1,
   "outputs": [],
   "source": [
    "from importlib import reload\n",
    "\n",
    "import datasets\n",
    "import numpy as np\n",
    "import torch\n",
    "\n",
    "import src.models.components.feature_extractor_dinov2\n",
    "import src.models.components.sign_language_net\n",
    "import src.models.components.spatiotemporal_encoder"
   ],
   "metadata": {
    "collapsed": false,
    "ExecuteTime": {
     "end_time": "2023-12-29T09:53:23.600099Z",
     "start_time": "2023-12-29T09:53:17.721457Z"
    }
   },
   "id": "3c49661276d5a724"
  },
  {
   "cell_type": "code",
   "execution_count": 2,
   "id": "initial_id",
   "metadata": {
    "collapsed": true,
    "ExecuteTime": {
     "end_time": "2023-12-29T09:53:29.718318Z",
     "start_time": "2023-12-29T09:53:23.604355Z"
    }
   },
   "outputs": [
    {
     "data": {
      "text/plain": "{'tokens': ['__ON__',\n  'LIEB',\n  'ZUSCHAUER',\n  'ABEND',\n  'WINTER',\n  'GESTERN',\n  'loc-NORD',\n  'SCHOTTLAND',\n  'loc-REGION',\n  'UEBERSCHWEMMUNG',\n  'AMERIKA',\n  'IX'],\n 'frames': [<PIL.PngImagePlugin.PngImageFile image mode=RGB size=210x260>,\n  <PIL.PngImagePlugin.PngImageFile image mode=RGB size=210x260>,\n  <PIL.PngImagePlugin.PngImageFile image mode=RGB size=210x260>,\n  <PIL.PngImagePlugin.PngImageFile image mode=RGB size=210x260>,\n  <PIL.PngImagePlugin.PngImageFile image mode=RGB size=210x260>,\n  <PIL.PngImagePlugin.PngImageFile image mode=RGB size=210x260>,\n  <PIL.PngImagePlugin.PngImageFile image mode=RGB size=210x260>,\n  <PIL.PngImagePlugin.PngImageFile image mode=RGB size=210x260>,\n  <PIL.PngImagePlugin.PngImageFile image mode=RGB size=210x260>,\n  <PIL.PngImagePlugin.PngImageFile image mode=RGB size=210x260>,\n  <PIL.PngImagePlugin.PngImageFile image mode=RGB size=210x260>,\n  <PIL.PngImagePlugin.PngImageFile image mode=RGB size=210x260>,\n  <PIL.PngImagePlugin.PngImageFile image mode=RGB size=210x260>,\n  <PIL.PngImagePlugin.PngImageFile image mode=RGB size=210x260>,\n  <PIL.PngImagePlugin.PngImageFile image mode=RGB size=210x260>,\n  <PIL.PngImagePlugin.PngImageFile image mode=RGB size=210x260>,\n  <PIL.PngImagePlugin.PngImageFile image mode=RGB size=210x260>,\n  <PIL.PngImagePlugin.PngImageFile image mode=RGB size=210x260>,\n  <PIL.PngImagePlugin.PngImageFile image mode=RGB size=210x260>,\n  <PIL.PngImagePlugin.PngImageFile image mode=RGB size=210x260>,\n  <PIL.PngImagePlugin.PngImageFile image mode=RGB size=210x260>,\n  <PIL.PngImagePlugin.PngImageFile image mode=RGB size=210x260>,\n  <PIL.PngImagePlugin.PngImageFile image mode=RGB size=210x260>,\n  <PIL.PngImagePlugin.PngImageFile image mode=RGB size=210x260>,\n  <PIL.PngImagePlugin.PngImageFile image mode=RGB size=210x260>,\n  <PIL.PngImagePlugin.PngImageFile image mode=RGB size=210x260>,\n  <PIL.PngImagePlugin.PngImageFile image mode=RGB size=210x260>,\n  <PIL.PngImagePlugin.PngImageFile image mode=RGB size=210x260>,\n  <PIL.PngImagePlugin.PngImageFile image mode=RGB size=210x260>,\n  <PIL.PngImagePlugin.PngImageFile image mode=RGB size=210x260>,\n  <PIL.PngImagePlugin.PngImageFile image mode=RGB size=210x260>,\n  <PIL.PngImagePlugin.PngImageFile image mode=RGB size=210x260>,\n  <PIL.PngImagePlugin.PngImageFile image mode=RGB size=210x260>,\n  <PIL.PngImagePlugin.PngImageFile image mode=RGB size=210x260>,\n  <PIL.PngImagePlugin.PngImageFile image mode=RGB size=210x260>,\n  <PIL.PngImagePlugin.PngImageFile image mode=RGB size=210x260>,\n  <PIL.PngImagePlugin.PngImageFile image mode=RGB size=210x260>,\n  <PIL.PngImagePlugin.PngImageFile image mode=RGB size=210x260>,\n  <PIL.PngImagePlugin.PngImageFile image mode=RGB size=210x260>,\n  <PIL.PngImagePlugin.PngImageFile image mode=RGB size=210x260>,\n  <PIL.PngImagePlugin.PngImageFile image mode=RGB size=210x260>,\n  <PIL.PngImagePlugin.PngImageFile image mode=RGB size=210x260>,\n  <PIL.PngImagePlugin.PngImageFile image mode=RGB size=210x260>,\n  <PIL.PngImagePlugin.PngImageFile image mode=RGB size=210x260>,\n  <PIL.PngImagePlugin.PngImageFile image mode=RGB size=210x260>,\n  <PIL.PngImagePlugin.PngImageFile image mode=RGB size=210x260>,\n  <PIL.PngImagePlugin.PngImageFile image mode=RGB size=210x260>,\n  <PIL.PngImagePlugin.PngImageFile image mode=RGB size=210x260>,\n  <PIL.PngImagePlugin.PngImageFile image mode=RGB size=210x260>,\n  <PIL.PngImagePlugin.PngImageFile image mode=RGB size=210x260>,\n  <PIL.PngImagePlugin.PngImageFile image mode=RGB size=210x260>,\n  <PIL.PngImagePlugin.PngImageFile image mode=RGB size=210x260>,\n  <PIL.PngImagePlugin.PngImageFile image mode=RGB size=210x260>,\n  <PIL.PngImagePlugin.PngImageFile image mode=RGB size=210x260>,\n  <PIL.PngImagePlugin.PngImageFile image mode=RGB size=210x260>,\n  <PIL.PngImagePlugin.PngImageFile image mode=RGB size=210x260>,\n  <PIL.PngImagePlugin.PngImageFile image mode=RGB size=210x260>,\n  <PIL.PngImagePlugin.PngImageFile image mode=RGB size=210x260>,\n  <PIL.PngImagePlugin.PngImageFile image mode=RGB size=210x260>,\n  <PIL.PngImagePlugin.PngImageFile image mode=RGB size=210x260>,\n  <PIL.PngImagePlugin.PngImageFile image mode=RGB size=210x260>,\n  <PIL.PngImagePlugin.PngImageFile image mode=RGB size=210x260>,\n  <PIL.PngImagePlugin.PngImageFile image mode=RGB size=210x260>,\n  <PIL.PngImagePlugin.PngImageFile image mode=RGB size=210x260>,\n  <PIL.PngImagePlugin.PngImageFile image mode=RGB size=210x260>,\n  <PIL.PngImagePlugin.PngImageFile image mode=RGB size=210x260>,\n  <PIL.PngImagePlugin.PngImageFile image mode=RGB size=210x260>,\n  <PIL.PngImagePlugin.PngImageFile image mode=RGB size=210x260>,\n  <PIL.PngImagePlugin.PngImageFile image mode=RGB size=210x260>,\n  <PIL.PngImagePlugin.PngImageFile image mode=RGB size=210x260>,\n  <PIL.PngImagePlugin.PngImageFile image mode=RGB size=210x260>,\n  <PIL.PngImagePlugin.PngImageFile image mode=RGB size=210x260>,\n  <PIL.PngImagePlugin.PngImageFile image mode=RGB size=210x260>,\n  <PIL.PngImagePlugin.PngImageFile image mode=RGB size=210x260>,\n  <PIL.PngImagePlugin.PngImageFile image mode=RGB size=210x260>,\n  <PIL.PngImagePlugin.PngImageFile image mode=RGB size=210x260>,\n  <PIL.PngImagePlugin.PngImageFile image mode=RGB size=210x260>,\n  <PIL.PngImagePlugin.PngImageFile image mode=RGB size=210x260>,\n  <PIL.PngImagePlugin.PngImageFile image mode=RGB size=210x260>,\n  <PIL.PngImagePlugin.PngImageFile image mode=RGB size=210x260>,\n  <PIL.PngImagePlugin.PngImageFile image mode=RGB size=210x260>,\n  <PIL.PngImagePlugin.PngImageFile image mode=RGB size=210x260>,\n  <PIL.PngImagePlugin.PngImageFile image mode=RGB size=210x260>,\n  <PIL.PngImagePlugin.PngImageFile image mode=RGB size=210x260>,\n  <PIL.PngImagePlugin.PngImageFile image mode=RGB size=210x260>,\n  <PIL.PngImagePlugin.PngImageFile image mode=RGB size=210x260>,\n  <PIL.PngImagePlugin.PngImageFile image mode=RGB size=210x260>,\n  <PIL.PngImagePlugin.PngImageFile image mode=RGB size=210x260>,\n  <PIL.PngImagePlugin.PngImageFile image mode=RGB size=210x260>,\n  <PIL.PngImagePlugin.PngImageFile image mode=RGB size=210x260>,\n  <PIL.PngImagePlugin.PngImageFile image mode=RGB size=210x260>,\n  <PIL.PngImagePlugin.PngImageFile image mode=RGB size=210x260>,\n  <PIL.PngImagePlugin.PngImageFile image mode=RGB size=210x260>,\n  <PIL.PngImagePlugin.PngImageFile image mode=RGB size=210x260>,\n  <PIL.PngImagePlugin.PngImageFile image mode=RGB size=210x260>,\n  <PIL.PngImagePlugin.PngImageFile image mode=RGB size=210x260>,\n  <PIL.PngImagePlugin.PngImageFile image mode=RGB size=210x260>,\n  <PIL.PngImagePlugin.PngImageFile image mode=RGB size=210x260>,\n  <PIL.PngImagePlugin.PngImageFile image mode=RGB size=210x260>,\n  <PIL.PngImagePlugin.PngImageFile image mode=RGB size=210x260>,\n  <PIL.PngImagePlugin.PngImageFile image mode=RGB size=210x260>,\n  <PIL.PngImagePlugin.PngImageFile image mode=RGB size=210x260>,\n  <PIL.PngImagePlugin.PngImageFile image mode=RGB size=210x260>,\n  <PIL.PngImagePlugin.PngImageFile image mode=RGB size=210x260>,\n  <PIL.PngImagePlugin.PngImageFile image mode=RGB size=210x260>,\n  <PIL.PngImagePlugin.PngImageFile image mode=RGB size=210x260>,\n  <PIL.PngImagePlugin.PngImageFile image mode=RGB size=210x260>,\n  <PIL.PngImagePlugin.PngImageFile image mode=RGB size=210x260>,\n  <PIL.PngImagePlugin.PngImageFile image mode=RGB size=210x260>,\n  <PIL.PngImagePlugin.PngImageFile image mode=RGB size=210x260>,\n  <PIL.PngImagePlugin.PngImageFile image mode=RGB size=210x260>,\n  <PIL.PngImagePlugin.PngImageFile image mode=RGB size=210x260>,\n  <PIL.PngImagePlugin.PngImageFile image mode=RGB size=210x260>,\n  <PIL.PngImagePlugin.PngImageFile image mode=RGB size=210x260>,\n  <PIL.PngImagePlugin.PngImageFile image mode=RGB size=210x260>,\n  <PIL.PngImagePlugin.PngImageFile image mode=RGB size=210x260>,\n  <PIL.PngImagePlugin.PngImageFile image mode=RGB size=210x260>,\n  <PIL.PngImagePlugin.PngImageFile image mode=RGB size=210x260>,\n  <PIL.PngImagePlugin.PngImageFile image mode=RGB size=210x260>,\n  <PIL.PngImagePlugin.PngImageFile image mode=RGB size=210x260>,\n  <PIL.PngImagePlugin.PngImageFile image mode=RGB size=210x260>,\n  <PIL.PngImagePlugin.PngImageFile image mode=RGB size=210x260>,\n  <PIL.PngImagePlugin.PngImageFile image mode=RGB size=210x260>,\n  <PIL.PngImagePlugin.PngImageFile image mode=RGB size=210x260>,\n  <PIL.PngImagePlugin.PngImageFile image mode=RGB size=210x260>,\n  <PIL.PngImagePlugin.PngImageFile image mode=RGB size=210x260>,\n  <PIL.PngImagePlugin.PngImageFile image mode=RGB size=210x260>,\n  <PIL.PngImagePlugin.PngImageFile image mode=RGB size=210x260>,\n  <PIL.PngImagePlugin.PngImageFile image mode=RGB size=210x260>,\n  <PIL.PngImagePlugin.PngImageFile image mode=RGB size=210x260>,\n  <PIL.PngImagePlugin.PngImageFile image mode=RGB size=210x260>,\n  <PIL.PngImagePlugin.PngImageFile image mode=RGB size=210x260>,\n  <PIL.PngImagePlugin.PngImageFile image mode=RGB size=210x260>,\n  <PIL.PngImagePlugin.PngImageFile image mode=RGB size=210x260>,\n  <PIL.PngImagePlugin.PngImageFile image mode=RGB size=210x260>,\n  <PIL.PngImagePlugin.PngImageFile image mode=RGB size=210x260>,\n  <PIL.PngImagePlugin.PngImageFile image mode=RGB size=210x260>,\n  <PIL.PngImagePlugin.PngImageFile image mode=RGB size=210x260>,\n  <PIL.PngImagePlugin.PngImageFile image mode=RGB size=210x260>,\n  <PIL.PngImagePlugin.PngImageFile image mode=RGB size=210x260>,\n  <PIL.PngImagePlugin.PngImageFile image mode=RGB size=210x260>,\n  <PIL.PngImagePlugin.PngImageFile image mode=RGB size=210x260>,\n  <PIL.PngImagePlugin.PngImageFile image mode=RGB size=210x260>,\n  <PIL.PngImagePlugin.PngImageFile image mode=RGB size=210x260>,\n  <PIL.PngImagePlugin.PngImageFile image mode=RGB size=210x260>,\n  <PIL.PngImagePlugin.PngImageFile image mode=RGB size=210x260>,\n  <PIL.PngImagePlugin.PngImageFile image mode=RGB size=210x260>,\n  <PIL.PngImagePlugin.PngImageFile image mode=RGB size=210x260>,\n  <PIL.PngImagePlugin.PngImageFile image mode=RGB size=210x260>,\n  <PIL.PngImagePlugin.PngImageFile image mode=RGB size=210x260>,\n  <PIL.PngImagePlugin.PngImageFile image mode=RGB size=210x260>,\n  <PIL.PngImagePlugin.PngImageFile image mode=RGB size=210x260>,\n  <PIL.PngImagePlugin.PngImageFile image mode=RGB size=210x260>,\n  <PIL.PngImagePlugin.PngImageFile image mode=RGB size=210x260>,\n  <PIL.PngImagePlugin.PngImageFile image mode=RGB size=210x260>,\n  <PIL.PngImagePlugin.PngImageFile image mode=RGB size=210x260>,\n  <PIL.PngImagePlugin.PngImageFile image mode=RGB size=210x260>,\n  <PIL.PngImagePlugin.PngImageFile image mode=RGB size=210x260>,\n  <PIL.PngImagePlugin.PngImageFile image mode=RGB size=210x260>,\n  <PIL.PngImagePlugin.PngImageFile image mode=RGB size=210x260>,\n  <PIL.PngImagePlugin.PngImageFile image mode=RGB size=210x260>,\n  <PIL.PngImagePlugin.PngImageFile image mode=RGB size=210x260>,\n  <PIL.PngImagePlugin.PngImageFile image mode=RGB size=210x260>,\n  <PIL.PngImagePlugin.PngImageFile image mode=RGB size=210x260>,\n  <PIL.PngImagePlugin.PngImageFile image mode=RGB size=210x260>,\n  <PIL.PngImagePlugin.PngImageFile image mode=RGB size=210x260>,\n  <PIL.PngImagePlugin.PngImageFile image mode=RGB size=210x260>,\n  <PIL.PngImagePlugin.PngImageFile image mode=RGB size=210x260>,\n  <PIL.PngImagePlugin.PngImageFile image mode=RGB size=210x260>,\n  <PIL.PngImagePlugin.PngImageFile image mode=RGB size=210x260>,\n  <PIL.PngImagePlugin.PngImageFile image mode=RGB size=210x260>,\n  <PIL.PngImagePlugin.PngImageFile image mode=RGB size=210x260>,\n  <PIL.PngImagePlugin.PngImageFile image mode=RGB size=210x260>,\n  <PIL.PngImagePlugin.PngImageFile image mode=RGB size=210x260>,\n  <PIL.PngImagePlugin.PngImageFile image mode=RGB size=210x260>,\n  <PIL.PngImagePlugin.PngImageFile image mode=RGB size=210x260>]}"
     },
     "execution_count": 2,
     "metadata": {},
     "output_type": "execute_result"
    }
   ],
   "source": [
    "rwth_phoenix = datasets.load_dataset('lukasbraach/rwth_phoenix_weather_2014', 'multisigner', streaming=True)\n",
    "it = iter(rwth_phoenix['train'])\n",
    "first = next(it)\n",
    "\n",
    "first"
   ]
  },
  {
   "cell_type": "code",
   "execution_count": 3,
   "outputs": [
    {
     "name": "stdout",
     "output_type": "stream",
     "text": [
      "input_values: torch.Size([1, 176, 768])\n",
      "attention_mask: tensor([[1, 1, 1, 1, 1, 1, 1, 1, 1, 1, 1, 1, 1, 1, 1, 1, 1, 1, 1, 1, 1, 1, 1, 1,\n",
      "         1, 1, 1, 1, 1, 1, 1, 1, 1, 1, 1, 1, 1, 1, 1, 1, 1, 1, 1, 1, 1, 1, 1, 1,\n",
      "         1, 1, 1, 1, 1, 1, 1, 1, 1, 1, 1, 1, 1, 1, 1, 1, 1, 1, 1, 1, 1, 1, 1, 1,\n",
      "         1, 1, 1, 1, 1, 1, 1, 1, 1, 1, 1, 1, 1, 1, 1, 1, 1, 1, 1, 1, 1, 1, 1, 1,\n",
      "         1, 1, 1, 1, 1, 1, 1, 1, 1, 1, 1, 1, 1, 1, 1, 1, 1, 1, 1, 1, 1, 1, 1, 1,\n",
      "         1, 1, 1, 1, 1, 1, 1, 1, 1, 1, 1, 1, 1, 1, 1, 1, 1, 1, 1, 1, 1, 1, 1, 1,\n",
      "         1, 1, 1, 1, 1, 1, 1, 1, 1, 1, 1, 1, 1, 1, 1, 1, 1, 1, 1, 1, 1, 1, 1, 1,\n",
      "         1, 1, 1, 1, 1, 1, 1, 1]], dtype=torch.int32)\n"
     ]
    }
   ],
   "source": [
    "reload(src.models.components.feature_extractor_dinov2)\n",
    "from src.models.components.feature_extractor_dinov2 import SignLanguageFeatureExtractor\n",
    "\n",
    "feature_extractor = SignLanguageFeatureExtractor()\n",
    "\n",
    "src_tensor = [\n",
    "    np.random.rand(3, 3, 224, 224),\n",
    "    np.random.rand(1, 3, 224, 224),\n",
    "    np.random.rand(6, 3, 224, 224),\n",
    "]\n",
    "batched_feature = feature_extractor(first['frames'], sampling_rate=25, pad_to_multiple_of=16, return_tensors=\"pt\")\n",
    "\n",
    "input_values = batched_feature.input_values\n",
    "attention_mask = batched_feature.attention_mask\n",
    "\n",
    "print(\"input_values:\", input_values.shape)\n",
    "print(\"attention_mask:\", attention_mask)"
   ],
   "metadata": {
    "collapsed": false,
    "ExecuteTime": {
     "end_time": "2023-12-29T09:54:04.226357Z",
     "start_time": "2023-12-29T09:53:29.717992Z"
    }
   },
   "id": "75911605c234a03c"
  },
  {
   "cell_type": "code",
   "execution_count": 4,
   "outputs": [
    {
     "data": {
      "text/plain": "Wav2Vec2BaseModelOutput(last_hidden_state=tensor([[[-1.6662, -1.1935, -1.2154,  ..., -0.1806, -0.1634, -0.5926],\n         [-0.1440, -0.5459,  0.0645,  ..., -0.1463,  2.5808, -0.1304],\n         [-1.1576, -0.5484, -1.0633,  ..., -0.5433,  0.3422, -0.0436],\n         ...,\n         [-1.1972, -0.0455, -0.9794,  ..., -0.9758, -0.3754,  0.4545],\n         [-1.1595, -0.9980, -0.5680,  ...,  0.1559, -0.3439,  0.0621],\n         [-1.9314, -1.1435, -1.3820,  ...,  0.6837, -0.5764,  1.7082]]],\n       grad_fn=<NativeLayerNormBackward0>), extract_features=tensor([[[-0.4891, -0.3340, -1.2171,  ..., -0.1401, -1.6476, -0.0252],\n         [ 0.9135,  0.3016,  0.4989,  ...,  0.8663,  0.9258,  0.4208],\n         [ 0.6746, -1.0303,  0.1279,  ..., -0.8164, -1.4375, -0.2067],\n         ...,\n         [ 0.0723, -0.9306, -0.2125,  ..., -0.2989, -1.8556,  0.0058],\n         [ 0.0261, -0.6040, -0.3050,  ...,  0.0639, -1.6045,  0.5867],\n         [-0.2460, -0.3531, -0.7720,  ..., -0.1185, -1.2942,  0.2753]]],\n       grad_fn=<IndexPutBackward0>), hidden_states=None, attentions=None)"
     },
     "execution_count": 4,
     "metadata": {},
     "output_type": "execute_result"
    }
   ],
   "source": [
    "reload(src.models.components.spatiotemporal_encoder)\n",
    "from src.models.components.spatiotemporal_encoder import SpatiotemporalEncoder\n",
    "from src.models.components.spatiotemporal_encoder import SpatiotemporalEncoderConfig\n",
    "\n",
    "config = SpatiotemporalEncoderConfig()\n",
    "\n",
    "model = SpatiotemporalEncoder(config)\n",
    "encoded = model(input_values, attention_mask)\n",
    "\n",
    "encoded"
   ],
   "metadata": {
    "collapsed": false,
    "ExecuteTime": {
     "end_time": "2023-12-29T09:54:04.984174Z",
     "start_time": "2023-12-29T09:54:04.228085Z"
    }
   },
   "id": "434c96cc6a7db9ed"
  },
  {
   "cell_type": "code",
   "execution_count": 29,
   "outputs": [
    {
     "data": {
      "text/plain": "SignLanguageNet(\n  (encoder): SpatiotemporalEncoder(\n    (feature_extractor): SpatialFeatureEncoder()\n    (feature_projection): SpatiotemporalFeatureProjection(\n      (layer_norm): LayerNorm((768,), eps=1e-05, elementwise_affine=True)\n      (dropout): Dropout(p=0.0, inplace=False)\n    )\n    (encoder): Wav2Vec2Encoder(\n      (pos_conv_embed): Wav2Vec2PositionalConvEmbedding(\n        (conv): Conv1d(768, 768, kernel_size=(128,), stride=(1,), padding=(64,), groups=16)\n        (padding): Wav2Vec2SamePadLayer()\n        (activation): GELUActivation()\n      )\n      (layer_norm): LayerNorm((768,), eps=1e-05, elementwise_affine=True)\n      (dropout): Dropout(p=0.1, inplace=False)\n      (layers): ModuleList(\n        (0-5): 6 x Wav2Vec2EncoderLayer(\n          (attention): Wav2Vec2Attention(\n            (k_proj): Linear(in_features=768, out_features=768, bias=True)\n            (v_proj): Linear(in_features=768, out_features=768, bias=True)\n            (q_proj): Linear(in_features=768, out_features=768, bias=True)\n            (out_proj): Linear(in_features=768, out_features=768, bias=True)\n          )\n          (dropout): Dropout(p=0.1, inplace=False)\n          (layer_norm): LayerNorm((768,), eps=1e-05, elementwise_affine=True)\n          (feed_forward): Wav2Vec2FeedForward(\n            (intermediate_dropout): Dropout(p=0.1, inplace=False)\n            (intermediate_dense): Linear(in_features=768, out_features=3072, bias=True)\n            (intermediate_act_fn): GELUActivation()\n            (output_dense): Linear(in_features=3072, out_features=768, bias=True)\n            (output_dropout): Dropout(p=0.1, inplace=False)\n          )\n          (final_layer_norm): LayerNorm((768,), eps=1e-05, elementwise_affine=True)\n        )\n      )\n    )\n  )\n  (decoder): Speech2Text2ForCausalLM(\n    (model): Speech2Text2DecoderWrapper(\n      (decoder): Speech2Text2Decoder(\n        (embed_tokens): Embedding(1935, 256, padding_idx=0)\n        (embed_positions): Speech2Text2SinusoidalPositionalEmbedding()\n        (layers): ModuleList(\n          (0-5): 6 x Speech2Text2DecoderLayer(\n            (self_attn): Speech2Text2Attention(\n              (k_proj): Linear(in_features=256, out_features=256, bias=True)\n              (v_proj): Linear(in_features=256, out_features=256, bias=True)\n              (q_proj): Linear(in_features=256, out_features=256, bias=True)\n              (out_proj): Linear(in_features=256, out_features=256, bias=True)\n            )\n            (activation_fn): ReLU()\n            (self_attn_layer_norm): LayerNorm((256,), eps=1e-05, elementwise_affine=True)\n            (encoder_attn): Speech2Text2Attention(\n              (k_proj): Linear(in_features=256, out_features=256, bias=True)\n              (v_proj): Linear(in_features=256, out_features=256, bias=True)\n              (q_proj): Linear(in_features=256, out_features=256, bias=True)\n              (out_proj): Linear(in_features=256, out_features=256, bias=True)\n            )\n            (encoder_attn_layer_norm): LayerNorm((256,), eps=1e-05, elementwise_affine=True)\n            (fc1): Linear(in_features=256, out_features=2048, bias=True)\n            (fc2): Linear(in_features=2048, out_features=256, bias=True)\n            (final_layer_norm): LayerNorm((256,), eps=1e-05, elementwise_affine=True)\n          )\n        )\n      )\n    )\n    (lm_head): Linear(in_features=256, out_features=1935, bias=False)\n  )\n  (enc_to_dec_proj): Linear(in_features=768, out_features=256, bias=True)\n)"
     },
     "execution_count": 29,
     "metadata": {},
     "output_type": "execute_result"
    }
   ],
   "source": [
    "from transformers import PreTrainedTokenizerFast\n",
    "\n",
    "reload(src.models.components.sign_language_net)\n",
    "from src.models.components.sign_language_net import SignLanguageNet\n",
    "\n",
    "model = SignLanguageNet(tokenizer=PreTrainedTokenizerFast(\n",
    "    pad_token=\"__PAD__\",\n",
    "    bos_token=\"__ON__\",\n",
    "    eos_token=\"__OFF__\",\n",
    "    unk_token=\"__UNK__\",\n",
    "    tokenizer_file=\"../src/etc/rwth_phoenix_tokenizer.json\"\n",
    "))\n",
    "\n",
    "model"
   ],
   "metadata": {
    "collapsed": false,
    "ExecuteTime": {
     "end_time": "2023-12-29T10:51:02.403113Z",
     "start_time": "2023-12-29T10:51:00.947293Z"
    }
   },
   "id": "c5769d1b7e39dc4a"
  },
  {
   "cell_type": "code",
   "execution_count": 42,
   "outputs": [
    {
     "name": "stdout",
     "output_type": "stream",
     "text": [
      "torch.Size([1, 2, 1935])\n",
      "tensor([[3, 2]])\n"
     ]
    }
   ],
   "source": [
    "out = model.forward(input_values=input_values, attention_mask=attention_mask, labels=torch.LongTensor([[2, 2]]))\n",
    "\n",
    "print(out.logits.shape)\n",
    "pred = torch.argmax(out.logits, dim=2)\n",
    "\n",
    "print(pred)"
   ],
   "metadata": {
    "collapsed": false,
    "ExecuteTime": {
     "end_time": "2023-12-29T11:01:40.754893Z",
     "start_time": "2023-12-29T11:01:40.662904Z"
    }
   },
   "id": "136d75181c81dc5a"
  }
 ],
 "metadata": {
  "kernelspec": {
   "display_name": "Python 3",
   "language": "python",
   "name": "python3"
  },
  "language_info": {
   "codemirror_mode": {
    "name": "ipython",
    "version": 2
   },
   "file_extension": ".py",
   "mimetype": "text/x-python",
   "name": "python",
   "nbconvert_exporter": "python",
   "pygments_lexer": "ipython2",
   "version": "2.7.6"
  }
 },
 "nbformat": 4,
 "nbformat_minor": 5
}
