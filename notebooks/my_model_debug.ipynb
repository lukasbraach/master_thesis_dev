{
 "cells": [
  {
   "cell_type": "code",
   "execution_count": 1,
   "outputs": [],
   "source": [
    "from importlib import reload\n",
    "\n",
    "import datasets\n",
    "import numpy as np\n",
    "\n",
    "import src.models.components.feature_extractor_dinov2\n",
    "import src.models.components.spatiotemporal_encoder"
   ],
   "metadata": {
    "collapsed": false,
    "ExecuteTime": {
     "end_time": "2023-12-19T12:28:49.798515Z",
     "start_time": "2023-12-19T12:28:44.040071Z"
    }
   },
   "id": "3c49661276d5a724"
  },
  {
   "cell_type": "code",
   "execution_count": 2,
   "id": "initial_id",
   "metadata": {
    "collapsed": true,
    "ExecuteTime": {
     "end_time": "2023-12-19T12:28:54.883121Z",
     "start_time": "2023-12-19T12:28:49.798780Z"
    }
   },
   "outputs": [],
   "source": [
    "rwth_phoenix = datasets.load_dataset('lukasbraach/rwth_phoenix_weather_2014', 'multisigner', streaming=True)\n",
    "it = iter(rwth_phoenix['train'])\n",
    "first = next(it)"
   ]
  },
  {
   "cell_type": "code",
   "execution_count": 13,
   "outputs": [
    {
     "name": "stdout",
     "output_type": "stream",
     "text": [
      "input_values: torch.Size([3, 32, 768])\n",
      "attention_mask: tensor([[1, 1, 1, 0, 0, 0, 0, 0, 0, 0, 0, 0, 0, 0, 0, 0, 0, 0, 0, 0, 0, 0, 0, 0,\n",
      "         0, 0, 0, 0, 0, 0, 0, 0],\n",
      "        [1, 0, 0, 0, 0, 0, 0, 0, 0, 0, 0, 0, 0, 0, 0, 0, 0, 0, 0, 0, 0, 0, 0, 0,\n",
      "         0, 0, 0, 0, 0, 0, 0, 0],\n",
      "        [1, 1, 1, 1, 1, 1, 0, 0, 0, 0, 0, 0, 0, 0, 0, 0, 0, 0, 0, 0, 0, 0, 0, 0,\n",
      "         0, 0, 0, 0, 0, 0, 0, 0]], dtype=torch.int32)\n"
     ]
    }
   ],
   "source": [
    "reload(src.models.components.feature_extractor_dinov2)\n",
    "from src.models.components.feature_extractor_dinov2 import SignLanguageFeatureExtractor\n",
    "\n",
    "feature_extractor = SignLanguageFeatureExtractor()\n",
    "\n",
    "src_tensor = [\n",
    "    np.random.rand(3, 3, 224, 224),\n",
    "    np.random.rand(1, 3, 224, 224),\n",
    "    np.random.rand(6, 3, 224, 224),\n",
    "]\n",
    "batched_feature = feature_extractor(src_tensor, sampling_rate=25, pad_to_multiple_of=32, return_tensors=\"pt\")\n",
    "\n",
    "input_values = batched_feature.input_values\n",
    "attention_mask = batched_feature.attention_mask\n",
    "\n",
    "print(\"input_values:\", input_values.shape)\n",
    "print(\"attention_mask:\", attention_mask)"
   ],
   "metadata": {
    "collapsed": false,
    "ExecuteTime": {
     "end_time": "2023-12-19T12:38:06.893799Z",
     "start_time": "2023-12-19T12:38:03.246472Z"
    }
   },
   "id": "75911605c234a03c"
  },
  {
   "cell_type": "code",
   "execution_count": 24,
   "outputs": [
    {
     "data": {
      "text/plain": "Wav2Vec2BaseModelOutput(last_hidden_state=tensor([[[ 1.2451, -1.2089,  2.8988,  ..., -1.0611, -0.4459,  0.7890],\n         [ 0.3479, -2.0541, -0.7096,  ..., -0.0651,  0.6908, -1.6089],\n         [-0.1658, -0.7949, -0.8060,  ..., -1.4347, -0.3775, -0.9328],\n         ...,\n         [-0.8130, -0.7006,  0.9064,  ..., -0.0196,  0.0873,  0.0962],\n         [-0.4527, -2.8118,  1.3964,  ...,  0.8695,  0.4114,  0.1713],\n         [-0.7009, -1.9617,  1.8312,  ...,  0.3141, -0.4419, -0.0863]],\n\n        [[-1.3427, -1.2524,  0.9374,  ..., -0.6180,  0.6089,  1.5216],\n         [-1.3661, -1.0750,  0.0046,  ...,  0.5341,  0.7426,  0.7597],\n         [-1.1325, -1.1512, -0.9005,  ...,  0.0219,  0.3991,  1.1402],\n         ...,\n         [-0.8124, -0.6057,  0.1646,  ..., -0.7590,  0.8639,  0.0988],\n         [ 0.5870, -1.5820, -0.0516,  ..., -1.4687,  0.0895, -0.7045],\n         [-0.2837, -1.7806,  1.7190,  ...,  0.4727,  0.2125,  0.6542]],\n\n        [[ 0.6117, -0.4707,  2.6703,  ..., -1.6878,  0.2260,  0.2388],\n         [ 0.0234,  0.4268,  2.2968,  ..., -0.4145,  1.4076,  0.2345],\n         [ 0.0360, -1.2514, -0.2455,  ..., -1.9245, -0.2336, -2.0385],\n         ...,\n         [ 0.4094, -0.7796,  0.0611,  ..., -0.1688,  0.3222, -0.2158],\n         [-0.3487, -2.3524,  0.3740,  ..., -0.6050, -0.5651, -0.0694],\n         [ 1.1978, -3.2136,  1.1033,  ..., -0.4880, -0.1011,  0.5589]]],\n       grad_fn=<NativeLayerNormBackward0>), extract_features=tensor([[[ 1.6662, -2.8660,  3.3930,  ..., -0.7298,  0.3611, -1.1317],\n         [ 0.8090,  0.4853,  0.0317,  ...,  0.0430,  0.3257,  0.1926],\n         [ 0.8090,  0.4853,  0.0317,  ...,  0.0430,  0.3257,  0.1926],\n         ...,\n         [ 0.4303,  0.9691,  0.7585,  ...,  0.7094,  0.3861,  0.8615],\n         [ 0.0000,  0.0000,  0.0000,  ...,  0.0000,  0.0000,  0.0000],\n         [ 0.0000,  0.0000,  0.0000,  ...,  0.0000,  0.0000,  0.0000]],\n\n        [[ 0.1822,  0.0250,  0.9642,  ...,  0.2012,  0.7700,  0.8467],\n         [ 0.1822,  0.0250,  0.9642,  ...,  0.2012,  0.7700,  0.8467],\n         [ 0.1822,  0.0250,  0.9642,  ...,  0.2012,  0.7700,  0.8467],\n         ...,\n         [ 0.3302,  0.3099,  0.2482,  ...,  0.3044,  0.6805,  0.5900],\n         [ 0.8090,  0.4853,  0.0317,  ...,  0.0430,  0.3257,  0.1926],\n         [ 0.0000,  0.0000,  0.0000,  ...,  0.0000,  0.0000,  0.0000]],\n\n        [[ 1.6629, -2.8456,  3.3136,  ..., -0.6146,  0.3953, -1.0858],\n         [ 0.6825,  0.7157,  0.9742,  ...,  0.5807,  0.6028,  0.6383],\n         [ 0.8090,  0.4853,  0.0317,  ...,  0.0430,  0.3257,  0.1926],\n         ...,\n         [ 0.8305,  0.4207,  0.0668,  ...,  0.0332,  0.0046,  0.0775],\n         [ 0.8305,  0.4207,  0.0668,  ...,  0.0332,  0.0046,  0.0775],\n         [ 0.0000,  0.0000,  0.0000,  ...,  0.0000,  0.0000,  0.0000]]],\n       grad_fn=<IndexPutBackward0>), hidden_states=None, attentions=None)"
     },
     "execution_count": 24,
     "metadata": {},
     "output_type": "execute_result"
    }
   ],
   "source": [
    "reload(src.models.components.spatiotemporal_encoder)\n",
    "from src.models.components.spatiotemporal_encoder import SpatiotemporalEncoder\n",
    "from src.models.components.spatiotemporal_encoder import SpatiotemporalEncoderConfig\n",
    "\n",
    "config = SpatiotemporalEncoderConfig()\n",
    "\n",
    "model = SpatiotemporalEncoder(config)\n",
    "encoded = model(input_values, attention_mask)\n",
    "\n",
    "encoded"
   ],
   "metadata": {
    "collapsed": false,
    "ExecuteTime": {
     "end_time": "2023-12-19T12:39:57.947485Z",
     "start_time": "2023-12-19T12:39:57.198719Z"
    }
   },
   "id": "434c96cc6a7db9ed"
  },
  {
   "cell_type": "code",
   "execution_count": 29,
   "outputs": [
    {
     "data": {
      "text/plain": "tensor([[2, 2],\n        [2, 2],\n        [2, 2]])"
     },
     "execution_count": 29,
     "metadata": {},
     "output_type": "execute_result"
    }
   ],
   "source": [
    "reload(src.models.components.sign_language_net)\n",
    "from src.models.components.sign_language_net import SignLanguageNet\n",
    "\n",
    "\n",
    "model = SignLanguageNet()\n",
    "out = model.generate(inputs=input_values, attention_mask=attention_mask, max_length=100)\n",
    "\n",
    "out"
   ],
   "metadata": {
    "collapsed": false,
    "ExecuteTime": {
     "end_time": "2023-12-19T14:12:38.527304Z",
     "start_time": "2023-12-19T14:12:36.113589Z"
    }
   },
   "id": "c5769d1b7e39dc4a"
  }
 ],
 "metadata": {
  "kernelspec": {
   "display_name": "Python 3",
   "language": "python",
   "name": "python3"
  },
  "language_info": {
   "codemirror_mode": {
    "name": "ipython",
    "version": 2
   },
   "file_extension": ".py",
   "mimetype": "text/x-python",
   "name": "python",
   "nbconvert_exporter": "python",
   "pygments_lexer": "ipython2",
   "version": "2.7.6"
  }
 },
 "nbformat": 4,
 "nbformat_minor": 5
}
