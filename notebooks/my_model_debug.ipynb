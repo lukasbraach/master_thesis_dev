{
 "cells": [
  {
   "cell_type": "code",
   "execution_count": 1,
   "outputs": [],
   "source": [
    "from importlib import reload\n",
    "\n",
    "import datasets\n",
    "import numpy as np\n",
    "\n",
    "import src.models.components.feature_extractor_dinov2\n",
    "import src.models.components.spatiotemporal_encoder"
   ],
   "metadata": {
    "collapsed": false,
    "ExecuteTime": {
     "end_time": "2023-12-19T12:28:49.798515Z",
     "start_time": "2023-12-19T12:28:44.040071Z"
    }
   },
   "id": "3c49661276d5a724"
  },
  {
   "cell_type": "code",
   "execution_count": 2,
   "id": "initial_id",
   "metadata": {
    "collapsed": true,
    "ExecuteTime": {
     "end_time": "2023-12-19T12:28:54.883121Z",
     "start_time": "2023-12-19T12:28:49.798780Z"
    }
   },
   "outputs": [],
   "source": [
    "rwth_phoenix = datasets.load_dataset('lukasbraach/rwth_phoenix_weather_2014', 'multisigner', streaming=True)\n",
    "it = iter(rwth_phoenix['train'])\n",
    "first = next(it)"
   ]
  },
  {
   "cell_type": "code",
   "execution_count": 13,
   "outputs": [
    {
     "name": "stdout",
     "output_type": "stream",
     "text": [
      "input_values: torch.Size([3, 32, 768])\n",
      "attention_mask: tensor([[1, 1, 1, 0, 0, 0, 0, 0, 0, 0, 0, 0, 0, 0, 0, 0, 0, 0, 0, 0, 0, 0, 0, 0,\n",
      "         0, 0, 0, 0, 0, 0, 0, 0],\n",
      "        [1, 0, 0, 0, 0, 0, 0, 0, 0, 0, 0, 0, 0, 0, 0, 0, 0, 0, 0, 0, 0, 0, 0, 0,\n",
      "         0, 0, 0, 0, 0, 0, 0, 0],\n",
      "        [1, 1, 1, 1, 1, 1, 0, 0, 0, 0, 0, 0, 0, 0, 0, 0, 0, 0, 0, 0, 0, 0, 0, 0,\n",
      "         0, 0, 0, 0, 0, 0, 0, 0]], dtype=torch.int32)\n"
     ]
    }
   ],
   "source": [
    "reload(src.models.components.feature_extractor_dinov2)\n",
    "from src.models.components.feature_extractor_dinov2 import SignLanguageFeatureExtractor\n",
    "\n",
    "feature_extractor = SignLanguageFeatureExtractor()\n",
    "\n",
    "src_tensor = [\n",
    "    np.random.rand(3, 3, 224, 224),\n",
    "    np.random.rand(1, 3, 224, 224),\n",
    "    np.random.rand(6, 3, 224, 224),\n",
    "]\n",
    "batched_feature = feature_extractor(src_tensor, sampling_rate=25, pad_to_multiple_of=32, return_tensors=\"pt\")\n",
    "\n",
    "input_values = batched_feature.input_values\n",
    "attention_mask = batched_feature.attention_mask\n",
    "\n",
    "print(\"input_values:\", input_values.shape)\n",
    "print(\"attention_mask:\", attention_mask)"
   ],
   "metadata": {
    "collapsed": false,
    "ExecuteTime": {
     "end_time": "2023-12-19T12:38:06.893799Z",
     "start_time": "2023-12-19T12:38:03.246472Z"
    }
   },
   "id": "75911605c234a03c"
  },
  {
   "cell_type": "code",
   "execution_count": 24,
   "outputs": [
    {
     "data": {
      "text/plain": "Wav2Vec2BaseModelOutput(last_hidden_state=tensor([[[ 1.2451, -1.2089,  2.8988,  ..., -1.0611, -0.4459,  0.7890],\n         [ 0.3479, -2.0541, -0.7096,  ..., -0.0651,  0.6908, -1.6089],\n         [-0.1658, -0.7949, -0.8060,  ..., -1.4347, -0.3775, -0.9328],\n         ...,\n         [-0.8130, -0.7006,  0.9064,  ..., -0.0196,  0.0873,  0.0962],\n         [-0.4527, -2.8118,  1.3964,  ...,  0.8695,  0.4114,  0.1713],\n         [-0.7009, -1.9617,  1.8312,  ...,  0.3141, -0.4419, -0.0863]],\n\n        [[-1.3427, -1.2524,  0.9374,  ..., -0.6180,  0.6089,  1.5216],\n         [-1.3661, -1.0750,  0.0046,  ...,  0.5341,  0.7426,  0.7597],\n         [-1.1325, -1.1512, -0.9005,  ...,  0.0219,  0.3991,  1.1402],\n         ...,\n         [-0.8124, -0.6057,  0.1646,  ..., -0.7590,  0.8639,  0.0988],\n         [ 0.5870, -1.5820, -0.0516,  ..., -1.4687,  0.0895, -0.7045],\n         [-0.2837, -1.7806,  1.7190,  ...,  0.4727,  0.2125,  0.6542]],\n\n        [[ 0.6117, -0.4707,  2.6703,  ..., -1.6878,  0.2260,  0.2388],\n         [ 0.0234,  0.4268,  2.2968,  ..., -0.4145,  1.4076,  0.2345],\n         [ 0.0360, -1.2514, -0.2455,  ..., -1.9245, -0.2336, -2.0385],\n         ...,\n         [ 0.4094, -0.7796,  0.0611,  ..., -0.1688,  0.3222, -0.2158],\n         [-0.3487, -2.3524,  0.3740,  ..., -0.6050, -0.5651, -0.0694],\n         [ 1.1978, -3.2136,  1.1033,  ..., -0.4880, -0.1011,  0.5589]]],\n       grad_fn=<NativeLayerNormBackward0>), extract_features=tensor([[[ 1.6662, -2.8660,  3.3930,  ..., -0.7298,  0.3611, -1.1317],\n         [ 0.8090,  0.4853,  0.0317,  ...,  0.0430,  0.3257,  0.1926],\n         [ 0.8090,  0.4853,  0.0317,  ...,  0.0430,  0.3257,  0.1926],\n         ...,\n         [ 0.4303,  0.9691,  0.7585,  ...,  0.7094,  0.3861,  0.8615],\n         [ 0.0000,  0.0000,  0.0000,  ...,  0.0000,  0.0000,  0.0000],\n         [ 0.0000,  0.0000,  0.0000,  ...,  0.0000,  0.0000,  0.0000]],\n\n        [[ 0.1822,  0.0250,  0.9642,  ...,  0.2012,  0.7700,  0.8467],\n         [ 0.1822,  0.0250,  0.9642,  ...,  0.2012,  0.7700,  0.8467],\n         [ 0.1822,  0.0250,  0.9642,  ...,  0.2012,  0.7700,  0.8467],\n         ...,\n         [ 0.3302,  0.3099,  0.2482,  ...,  0.3044,  0.6805,  0.5900],\n         [ 0.8090,  0.4853,  0.0317,  ...,  0.0430,  0.3257,  0.1926],\n         [ 0.0000,  0.0000,  0.0000,  ...,  0.0000,  0.0000,  0.0000]],\n\n        [[ 1.6629, -2.8456,  3.3136,  ..., -0.6146,  0.3953, -1.0858],\n         [ 0.6825,  0.7157,  0.9742,  ...,  0.5807,  0.6028,  0.6383],\n         [ 0.8090,  0.4853,  0.0317,  ...,  0.0430,  0.3257,  0.1926],\n         ...,\n         [ 0.8305,  0.4207,  0.0668,  ...,  0.0332,  0.0046,  0.0775],\n         [ 0.8305,  0.4207,  0.0668,  ...,  0.0332,  0.0046,  0.0775],\n         [ 0.0000,  0.0000,  0.0000,  ...,  0.0000,  0.0000,  0.0000]]],\n       grad_fn=<IndexPutBackward0>), hidden_states=None, attentions=None)"
     },
     "execution_count": 24,
     "metadata": {},
     "output_type": "execute_result"
    }
   ],
   "source": [
    "reload(src.models.components.spatiotemporal_encoder)\n",
    "from src.models.components.spatiotemporal_encoder import SpatiotemporalEncoder\n",
    "from src.models.components.spatiotemporal_encoder import SpatiotemporalEncoderConfig\n",
    "\n",
    "config = SpatiotemporalEncoderConfig()\n",
    "\n",
    "model = SpatiotemporalEncoder(config)\n",
    "encoded = model(input_values, attention_mask)\n",
    "\n",
    "encoded"
   ],
   "metadata": {
    "collapsed": false,
    "ExecuteTime": {
     "end_time": "2023-12-19T12:39:57.947485Z",
     "start_time": "2023-12-19T12:39:57.198719Z"
    }
   },
   "id": "434c96cc6a7db9ed"
  },
  {
   "cell_type": "code",
   "execution_count": 12,
   "outputs": [
    {
     "ename": "AttributeError",
     "evalue": "",
     "output_type": "error",
     "traceback": [
      "\u001B[0;31m---------------------------------------------------------------------------\u001B[0m",
      "\u001B[0;31mKeyError\u001B[0m                                  Traceback (most recent call last)",
      "File \u001B[0;32m/usr/local/Caskroom/mambaforge/base/envs/master_thesis/lib/python3.10/site-packages/transformers/feature_extraction_utils.py:92\u001B[0m, in \u001B[0;36mBatchFeature.__getattr__\u001B[0;34m(self, item)\u001B[0m\n\u001B[1;32m     91\u001B[0m \u001B[38;5;28;01mtry\u001B[39;00m:\n\u001B[0;32m---> 92\u001B[0m     \u001B[38;5;28;01mreturn\u001B[39;00m \u001B[38;5;28;43mself\u001B[39;49m\u001B[38;5;241;43m.\u001B[39;49m\u001B[43mdata\u001B[49m\u001B[43m[\u001B[49m\u001B[43mitem\u001B[49m\u001B[43m]\u001B[49m\n\u001B[1;32m     93\u001B[0m \u001B[38;5;28;01mexcept\u001B[39;00m \u001B[38;5;167;01mKeyError\u001B[39;00m:\n",
      "\u001B[0;31mKeyError\u001B[0m: 'shape'",
      "\nDuring handling of the above exception, another exception occurred:\n",
      "\u001B[0;31mAttributeError\u001B[0m                            Traceback (most recent call last)",
      "Cell \u001B[0;32mIn[12], line 6\u001B[0m\n\u001B[1;32m      2\u001B[0m \u001B[38;5;28;01mimport\u001B[39;00m \u001B[38;5;21;01mtorch\u001B[39;00m\n\u001B[1;32m      4\u001B[0m model \u001B[38;5;241m=\u001B[39m SignLanguageNet()\n\u001B[0;32m----> 6\u001B[0m out \u001B[38;5;241m=\u001B[39m \u001B[43mmodel\u001B[49m\u001B[38;5;241;43m.\u001B[39;49m\u001B[43mgenerate\u001B[49m\u001B[43m(\u001B[49m\u001B[43mbatched_feature\u001B[49m\u001B[43m)\u001B[49m\n\u001B[1;32m      8\u001B[0m out\u001B[38;5;241m.\u001B[39mshape\n",
      "File \u001B[0;32m/usr/local/Caskroom/mambaforge/base/envs/master_thesis/lib/python3.10/site-packages/torch/utils/_contextlib.py:115\u001B[0m, in \u001B[0;36mcontext_decorator.<locals>.decorate_context\u001B[0;34m(*args, **kwargs)\u001B[0m\n\u001B[1;32m    112\u001B[0m \u001B[38;5;129m@functools\u001B[39m\u001B[38;5;241m.\u001B[39mwraps(func)\n\u001B[1;32m    113\u001B[0m \u001B[38;5;28;01mdef\u001B[39;00m \u001B[38;5;21mdecorate_context\u001B[39m(\u001B[38;5;241m*\u001B[39margs, \u001B[38;5;241m*\u001B[39m\u001B[38;5;241m*\u001B[39mkwargs):\n\u001B[1;32m    114\u001B[0m     \u001B[38;5;28;01mwith\u001B[39;00m ctx_factory():\n\u001B[0;32m--> 115\u001B[0m         \u001B[38;5;28;01mreturn\u001B[39;00m \u001B[43mfunc\u001B[49m\u001B[43m(\u001B[49m\u001B[38;5;241;43m*\u001B[39;49m\u001B[43margs\u001B[49m\u001B[43m,\u001B[49m\u001B[43m \u001B[49m\u001B[38;5;241;43m*\u001B[39;49m\u001B[38;5;241;43m*\u001B[39;49m\u001B[43mkwargs\u001B[49m\u001B[43m)\u001B[49m\n",
      "File \u001B[0;32m/usr/local/Caskroom/mambaforge/base/envs/master_thesis/lib/python3.10/site-packages/transformers/generation/utils.py:1459\u001B[0m, in \u001B[0;36mGenerationMixin.generate\u001B[0;34m(self, inputs, generation_config, logits_processor, stopping_criteria, prefix_allowed_tokens_fn, synced_gpus, assistant_model, streamer, negative_prompt_ids, negative_prompt_attention_mask, **kwargs)\u001B[0m\n\u001B[1;32m   1451\u001B[0m \u001B[38;5;66;03m# 3. Define model inputs\u001B[39;00m\n\u001B[1;32m   1452\u001B[0m \u001B[38;5;66;03m# inputs_tensor has to be defined\u001B[39;00m\n\u001B[1;32m   1453\u001B[0m \u001B[38;5;66;03m# model_input_name is defined if model-specific keyword input is passed\u001B[39;00m\n\u001B[1;32m   1454\u001B[0m \u001B[38;5;66;03m# otherwise model_input_name is None\u001B[39;00m\n\u001B[1;32m   1455\u001B[0m \u001B[38;5;66;03m# all model-specific keyword inputs are removed from `model_kwargs`\u001B[39;00m\n\u001B[1;32m   1456\u001B[0m inputs_tensor, model_input_name, model_kwargs \u001B[38;5;241m=\u001B[39m \u001B[38;5;28mself\u001B[39m\u001B[38;5;241m.\u001B[39m_prepare_model_inputs(\n\u001B[1;32m   1457\u001B[0m     inputs, generation_config\u001B[38;5;241m.\u001B[39mbos_token_id, model_kwargs\n\u001B[1;32m   1458\u001B[0m )\n\u001B[0;32m-> 1459\u001B[0m batch_size \u001B[38;5;241m=\u001B[39m \u001B[43minputs_tensor\u001B[49m\u001B[38;5;241;43m.\u001B[39;49m\u001B[43mshape\u001B[49m[\u001B[38;5;241m0\u001B[39m]\n\u001B[1;32m   1461\u001B[0m \u001B[38;5;66;03m# 4. Define other model kwargs\u001B[39;00m\n\u001B[1;32m   1462\u001B[0m model_kwargs[\u001B[38;5;124m\"\u001B[39m\u001B[38;5;124moutput_attentions\u001B[39m\u001B[38;5;124m\"\u001B[39m] \u001B[38;5;241m=\u001B[39m generation_config\u001B[38;5;241m.\u001B[39moutput_attentions\n",
      "File \u001B[0;32m/usr/local/Caskroom/mambaforge/base/envs/master_thesis/lib/python3.10/site-packages/transformers/feature_extraction_utils.py:94\u001B[0m, in \u001B[0;36mBatchFeature.__getattr__\u001B[0;34m(self, item)\u001B[0m\n\u001B[1;32m     92\u001B[0m     \u001B[38;5;28;01mreturn\u001B[39;00m \u001B[38;5;28mself\u001B[39m\u001B[38;5;241m.\u001B[39mdata[item]\n\u001B[1;32m     93\u001B[0m \u001B[38;5;28;01mexcept\u001B[39;00m \u001B[38;5;167;01mKeyError\u001B[39;00m:\n\u001B[0;32m---> 94\u001B[0m     \u001B[38;5;28;01mraise\u001B[39;00m \u001B[38;5;167;01mAttributeError\u001B[39;00m\n",
      "\u001B[0;31mAttributeError\u001B[0m: "
     ]
    }
   ],
   "source": [
    "from src.models.components.sign_language_net import SignLanguageNet\n",
    "\n",
    "model = SignLanguageNet()\n",
    "out = model.generate(batched_feature)\n",
    "\n",
    "out.shape"
   ],
   "metadata": {
    "collapsed": false,
    "ExecuteTime": {
     "end_time": "2023-12-12T11:40:11.044747Z",
     "start_time": "2023-12-12T11:40:09.610923Z"
    }
   },
   "id": "c5769d1b7e39dc4a"
  }
 ],
 "metadata": {
  "kernelspec": {
   "display_name": "Python 3",
   "language": "python",
   "name": "python3"
  },
  "language_info": {
   "codemirror_mode": {
    "name": "ipython",
    "version": 2
   },
   "file_extension": ".py",
   "mimetype": "text/x-python",
   "name": "python",
   "nbconvert_exporter": "python",
   "pygments_lexer": "ipython2",
   "version": "2.7.6"
  }
 },
 "nbformat": 4,
 "nbformat_minor": 5
}
