{
 "cells": [
  {
   "cell_type": "code",
   "execution_count": 1,
   "outputs": [],
   "source": [
    "from importlib import reload\n",
    "\n",
    "import datasets\n",
    "import numpy as np\n",
    "\n",
    "import src.models.components.feature_extractor_dinov2\n",
    "import src.models.components.spatiotemporal_encoder"
   ],
   "metadata": {
    "collapsed": false,
    "ExecuteTime": {
     "end_time": "2023-12-12T12:07:22.215401Z",
     "start_time": "2023-12-12T12:07:17.459019Z"
    }
   },
   "id": "3c49661276d5a724"
  },
  {
   "cell_type": "code",
   "execution_count": 4,
   "id": "initial_id",
   "metadata": {
    "collapsed": true,
    "ExecuteTime": {
     "end_time": "2023-12-12T09:14:25.072066Z",
     "start_time": "2023-12-12T09:14:18.949845Z"
    }
   },
   "outputs": [],
   "source": [
    "rwth_phoenix = datasets.load_dataset('lukasbraach/rwth_phoenix_weather_2014', 'multisigner', streaming=True)\n",
    "it = iter(rwth_phoenix['train'])\n",
    "first = next(it)"
   ]
  },
  {
   "cell_type": "code",
   "execution_count": 7,
   "outputs": [
    {
     "name": "stdout",
     "output_type": "stream",
     "text": [
      "input_values: torch.Size([6, 3, 768])\n",
      "attention_mask: tensor([[1., 1., 1., 0., 0., 0.],\n",
      "        [1., 0., 0., 0., 0., 0.],\n",
      "        [1., 1., 1., 1., 1., 1.]], dtype=torch.float64)\n"
     ]
    }
   ],
   "source": [
    "reload(src.models.components.feature_extractor_dinov2)\n",
    "from src.models.components.feature_extractor_dinov2 import SignLanguageFeatureExtractor\n",
    "\n",
    "feature_extractor = SignLanguageFeatureExtractor()\n",
    "\n",
    "src_tensor = [\n",
    "    np.random.rand(3, 3, 224, 224),\n",
    "    np.random.rand(1, 3, 224, 224),\n",
    "    np.random.rand(6, 3, 224, 224),\n",
    "]\n",
    "batched_feature = feature_extractor(src_tensor, sampling_rate=25)\n",
    "\n",
    "\n",
    "print(\"input_values:\", batched_feature['input_values'].shape)\n",
    "print(\"attention_mask:\", batched_feature['attention_mask'])"
   ],
   "metadata": {
    "collapsed": false,
    "ExecuteTime": {
     "end_time": "2023-12-12T12:24:47.984446Z",
     "start_time": "2023-12-12T12:15:16.367821Z"
    }
   },
   "id": "75911605c234a03c"
  },
  {
   "cell_type": "code",
   "execution_count": 9,
   "outputs": [
    {
     "data": {
      "text/plain": "torch.Size([6, 3, 768])"
     },
     "execution_count": 9,
     "metadata": {},
     "output_type": "execute_result"
    }
   ],
   "source": [
    "reload(src.models.components.spatiotemporal_encoder)\n",
    "from src.models.components.spatiotemporal_encoder import SpatiotemporalEncoder\n",
    "\n",
    "\n",
    "model = SpatiotemporalEncoder()\n",
    "encoded = model(batched_feature)\n",
    "\n",
    "encoded.shape"
   ],
   "metadata": {
    "collapsed": false,
    "ExecuteTime": {
     "end_time": "2023-12-12T11:35:04.550813Z",
     "start_time": "2023-12-12T11:35:04.413913Z"
    }
   },
   "id": "434c96cc6a7db9ed"
  },
  {
   "cell_type": "code",
   "execution_count": 12,
   "outputs": [
    {
     "ename": "AttributeError",
     "evalue": "",
     "output_type": "error",
     "traceback": [
      "\u001B[0;31m---------------------------------------------------------------------------\u001B[0m",
      "\u001B[0;31mKeyError\u001B[0m                                  Traceback (most recent call last)",
      "File \u001B[0;32m/usr/local/Caskroom/mambaforge/base/envs/master_thesis/lib/python3.10/site-packages/transformers/feature_extraction_utils.py:92\u001B[0m, in \u001B[0;36mBatchFeature.__getattr__\u001B[0;34m(self, item)\u001B[0m\n\u001B[1;32m     91\u001B[0m \u001B[38;5;28;01mtry\u001B[39;00m:\n\u001B[0;32m---> 92\u001B[0m     \u001B[38;5;28;01mreturn\u001B[39;00m \u001B[38;5;28;43mself\u001B[39;49m\u001B[38;5;241;43m.\u001B[39;49m\u001B[43mdata\u001B[49m\u001B[43m[\u001B[49m\u001B[43mitem\u001B[49m\u001B[43m]\u001B[49m\n\u001B[1;32m     93\u001B[0m \u001B[38;5;28;01mexcept\u001B[39;00m \u001B[38;5;167;01mKeyError\u001B[39;00m:\n",
      "\u001B[0;31mKeyError\u001B[0m: 'shape'",
      "\nDuring handling of the above exception, another exception occurred:\n",
      "\u001B[0;31mAttributeError\u001B[0m                            Traceback (most recent call last)",
      "Cell \u001B[0;32mIn[12], line 6\u001B[0m\n\u001B[1;32m      2\u001B[0m \u001B[38;5;28;01mimport\u001B[39;00m \u001B[38;5;21;01mtorch\u001B[39;00m\n\u001B[1;32m      4\u001B[0m model \u001B[38;5;241m=\u001B[39m SignLanguageNet()\n\u001B[0;32m----> 6\u001B[0m out \u001B[38;5;241m=\u001B[39m \u001B[43mmodel\u001B[49m\u001B[38;5;241;43m.\u001B[39;49m\u001B[43mgenerate\u001B[49m\u001B[43m(\u001B[49m\u001B[43mbatched_feature\u001B[49m\u001B[43m)\u001B[49m\n\u001B[1;32m      8\u001B[0m out\u001B[38;5;241m.\u001B[39mshape\n",
      "File \u001B[0;32m/usr/local/Caskroom/mambaforge/base/envs/master_thesis/lib/python3.10/site-packages/torch/utils/_contextlib.py:115\u001B[0m, in \u001B[0;36mcontext_decorator.<locals>.decorate_context\u001B[0;34m(*args, **kwargs)\u001B[0m\n\u001B[1;32m    112\u001B[0m \u001B[38;5;129m@functools\u001B[39m\u001B[38;5;241m.\u001B[39mwraps(func)\n\u001B[1;32m    113\u001B[0m \u001B[38;5;28;01mdef\u001B[39;00m \u001B[38;5;21mdecorate_context\u001B[39m(\u001B[38;5;241m*\u001B[39margs, \u001B[38;5;241m*\u001B[39m\u001B[38;5;241m*\u001B[39mkwargs):\n\u001B[1;32m    114\u001B[0m     \u001B[38;5;28;01mwith\u001B[39;00m ctx_factory():\n\u001B[0;32m--> 115\u001B[0m         \u001B[38;5;28;01mreturn\u001B[39;00m \u001B[43mfunc\u001B[49m\u001B[43m(\u001B[49m\u001B[38;5;241;43m*\u001B[39;49m\u001B[43margs\u001B[49m\u001B[43m,\u001B[49m\u001B[43m \u001B[49m\u001B[38;5;241;43m*\u001B[39;49m\u001B[38;5;241;43m*\u001B[39;49m\u001B[43mkwargs\u001B[49m\u001B[43m)\u001B[49m\n",
      "File \u001B[0;32m/usr/local/Caskroom/mambaforge/base/envs/master_thesis/lib/python3.10/site-packages/transformers/generation/utils.py:1459\u001B[0m, in \u001B[0;36mGenerationMixin.generate\u001B[0;34m(self, inputs, generation_config, logits_processor, stopping_criteria, prefix_allowed_tokens_fn, synced_gpus, assistant_model, streamer, negative_prompt_ids, negative_prompt_attention_mask, **kwargs)\u001B[0m\n\u001B[1;32m   1451\u001B[0m \u001B[38;5;66;03m# 3. Define model inputs\u001B[39;00m\n\u001B[1;32m   1452\u001B[0m \u001B[38;5;66;03m# inputs_tensor has to be defined\u001B[39;00m\n\u001B[1;32m   1453\u001B[0m \u001B[38;5;66;03m# model_input_name is defined if model-specific keyword input is passed\u001B[39;00m\n\u001B[1;32m   1454\u001B[0m \u001B[38;5;66;03m# otherwise model_input_name is None\u001B[39;00m\n\u001B[1;32m   1455\u001B[0m \u001B[38;5;66;03m# all model-specific keyword inputs are removed from `model_kwargs`\u001B[39;00m\n\u001B[1;32m   1456\u001B[0m inputs_tensor, model_input_name, model_kwargs \u001B[38;5;241m=\u001B[39m \u001B[38;5;28mself\u001B[39m\u001B[38;5;241m.\u001B[39m_prepare_model_inputs(\n\u001B[1;32m   1457\u001B[0m     inputs, generation_config\u001B[38;5;241m.\u001B[39mbos_token_id, model_kwargs\n\u001B[1;32m   1458\u001B[0m )\n\u001B[0;32m-> 1459\u001B[0m batch_size \u001B[38;5;241m=\u001B[39m \u001B[43minputs_tensor\u001B[49m\u001B[38;5;241;43m.\u001B[39;49m\u001B[43mshape\u001B[49m[\u001B[38;5;241m0\u001B[39m]\n\u001B[1;32m   1461\u001B[0m \u001B[38;5;66;03m# 4. Define other model kwargs\u001B[39;00m\n\u001B[1;32m   1462\u001B[0m model_kwargs[\u001B[38;5;124m\"\u001B[39m\u001B[38;5;124moutput_attentions\u001B[39m\u001B[38;5;124m\"\u001B[39m] \u001B[38;5;241m=\u001B[39m generation_config\u001B[38;5;241m.\u001B[39moutput_attentions\n",
      "File \u001B[0;32m/usr/local/Caskroom/mambaforge/base/envs/master_thesis/lib/python3.10/site-packages/transformers/feature_extraction_utils.py:94\u001B[0m, in \u001B[0;36mBatchFeature.__getattr__\u001B[0;34m(self, item)\u001B[0m\n\u001B[1;32m     92\u001B[0m     \u001B[38;5;28;01mreturn\u001B[39;00m \u001B[38;5;28mself\u001B[39m\u001B[38;5;241m.\u001B[39mdata[item]\n\u001B[1;32m     93\u001B[0m \u001B[38;5;28;01mexcept\u001B[39;00m \u001B[38;5;167;01mKeyError\u001B[39;00m:\n\u001B[0;32m---> 94\u001B[0m     \u001B[38;5;28;01mraise\u001B[39;00m \u001B[38;5;167;01mAttributeError\u001B[39;00m\n",
      "\u001B[0;31mAttributeError\u001B[0m: "
     ]
    }
   ],
   "source": [
    "from src.models.components.sign_language_net import SignLanguageNet\n",
    "\n",
    "model = SignLanguageNet()\n",
    "out = model.generate(batched_feature)\n",
    "\n",
    "out.shape"
   ],
   "metadata": {
    "collapsed": false,
    "ExecuteTime": {
     "end_time": "2023-12-12T11:40:11.044747Z",
     "start_time": "2023-12-12T11:40:09.610923Z"
    }
   },
   "id": "c5769d1b7e39dc4a"
  }
 ],
 "metadata": {
  "kernelspec": {
   "display_name": "Python 3",
   "language": "python",
   "name": "python3"
  },
  "language_info": {
   "codemirror_mode": {
    "name": "ipython",
    "version": 2
   },
   "file_extension": ".py",
   "mimetype": "text/x-python",
   "name": "python",
   "nbconvert_exporter": "python",
   "pygments_lexer": "ipython2",
   "version": "2.7.6"
  }
 },
 "nbformat": 4,
 "nbformat_minor": 5
}
