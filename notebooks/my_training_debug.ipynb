{
 "cells": [
  {
   "cell_type": "code",
   "execution_count": 1,
   "id": "initial_id",
   "metadata": {
    "collapsed": true,
    "ExecuteTime": {
     "end_time": "2023-12-20T08:38:31.311706Z",
     "start_time": "2023-12-20T08:38:27.651843Z"
    }
   },
   "outputs": [],
   "source": [
    "from importlib import reload\n",
    "\n",
    "import datasets\n",
    "\n",
    "import src.models.components.feature_extractor_dinov2\n",
    "import src.models.components.sign_language_net"
   ]
  },
  {
   "cell_type": "code",
   "execution_count": 2,
   "outputs": [
    {
     "data": {
      "text/plain": "{'tokens': ['__ON__',\n  'LIEB',\n  'ZUSCHAUER',\n  'ABEND',\n  'WINTER',\n  'GESTERN',\n  'loc-NORD',\n  'SCHOTTLAND',\n  'loc-REGION',\n  'UEBERSCHWEMMUNG',\n  'AMERIKA',\n  'IX'],\n 'frames': [<PIL.PngImagePlugin.PngImageFile image mode=RGB size=210x260>,\n  <PIL.PngImagePlugin.PngImageFile image mode=RGB size=210x260>,\n  <PIL.PngImagePlugin.PngImageFile image mode=RGB size=210x260>,\n  <PIL.PngImagePlugin.PngImageFile image mode=RGB size=210x260>,\n  <PIL.PngImagePlugin.PngImageFile image mode=RGB size=210x260>,\n  <PIL.PngImagePlugin.PngImageFile image mode=RGB size=210x260>,\n  <PIL.PngImagePlugin.PngImageFile image mode=RGB size=210x260>,\n  <PIL.PngImagePlugin.PngImageFile image mode=RGB size=210x260>,\n  <PIL.PngImagePlugin.PngImageFile image mode=RGB size=210x260>,\n  <PIL.PngImagePlugin.PngImageFile image mode=RGB size=210x260>,\n  <PIL.PngImagePlugin.PngImageFile image mode=RGB size=210x260>,\n  <PIL.PngImagePlugin.PngImageFile image mode=RGB size=210x260>,\n  <PIL.PngImagePlugin.PngImageFile image mode=RGB size=210x260>,\n  <PIL.PngImagePlugin.PngImageFile image mode=RGB size=210x260>,\n  <PIL.PngImagePlugin.PngImageFile image mode=RGB size=210x260>,\n  <PIL.PngImagePlugin.PngImageFile image mode=RGB size=210x260>,\n  <PIL.PngImagePlugin.PngImageFile image mode=RGB size=210x260>,\n  <PIL.PngImagePlugin.PngImageFile image mode=RGB size=210x260>,\n  <PIL.PngImagePlugin.PngImageFile image mode=RGB size=210x260>,\n  <PIL.PngImagePlugin.PngImageFile image mode=RGB size=210x260>,\n  <PIL.PngImagePlugin.PngImageFile image mode=RGB size=210x260>,\n  <PIL.PngImagePlugin.PngImageFile image mode=RGB size=210x260>,\n  <PIL.PngImagePlugin.PngImageFile image mode=RGB size=210x260>,\n  <PIL.PngImagePlugin.PngImageFile image mode=RGB size=210x260>,\n  <PIL.PngImagePlugin.PngImageFile image mode=RGB size=210x260>,\n  <PIL.PngImagePlugin.PngImageFile image mode=RGB size=210x260>,\n  <PIL.PngImagePlugin.PngImageFile image mode=RGB size=210x260>,\n  <PIL.PngImagePlugin.PngImageFile image mode=RGB size=210x260>,\n  <PIL.PngImagePlugin.PngImageFile image mode=RGB size=210x260>,\n  <PIL.PngImagePlugin.PngImageFile image mode=RGB size=210x260>,\n  <PIL.PngImagePlugin.PngImageFile image mode=RGB size=210x260>,\n  <PIL.PngImagePlugin.PngImageFile image mode=RGB size=210x260>,\n  <PIL.PngImagePlugin.PngImageFile image mode=RGB size=210x260>,\n  <PIL.PngImagePlugin.PngImageFile image mode=RGB size=210x260>,\n  <PIL.PngImagePlugin.PngImageFile image mode=RGB size=210x260>,\n  <PIL.PngImagePlugin.PngImageFile image mode=RGB size=210x260>,\n  <PIL.PngImagePlugin.PngImageFile image mode=RGB size=210x260>,\n  <PIL.PngImagePlugin.PngImageFile image mode=RGB size=210x260>,\n  <PIL.PngImagePlugin.PngImageFile image mode=RGB size=210x260>,\n  <PIL.PngImagePlugin.PngImageFile image mode=RGB size=210x260>,\n  <PIL.PngImagePlugin.PngImageFile image mode=RGB size=210x260>,\n  <PIL.PngImagePlugin.PngImageFile image mode=RGB size=210x260>,\n  <PIL.PngImagePlugin.PngImageFile image mode=RGB size=210x260>,\n  <PIL.PngImagePlugin.PngImageFile image mode=RGB size=210x260>,\n  <PIL.PngImagePlugin.PngImageFile image mode=RGB size=210x260>,\n  <PIL.PngImagePlugin.PngImageFile image mode=RGB size=210x260>,\n  <PIL.PngImagePlugin.PngImageFile image mode=RGB size=210x260>,\n  <PIL.PngImagePlugin.PngImageFile image mode=RGB size=210x260>,\n  <PIL.PngImagePlugin.PngImageFile image mode=RGB size=210x260>,\n  <PIL.PngImagePlugin.PngImageFile image mode=RGB size=210x260>,\n  <PIL.PngImagePlugin.PngImageFile image mode=RGB size=210x260>,\n  <PIL.PngImagePlugin.PngImageFile image mode=RGB size=210x260>,\n  <PIL.PngImagePlugin.PngImageFile image mode=RGB size=210x260>,\n  <PIL.PngImagePlugin.PngImageFile image mode=RGB size=210x260>,\n  <PIL.PngImagePlugin.PngImageFile image mode=RGB size=210x260>,\n  <PIL.PngImagePlugin.PngImageFile image mode=RGB size=210x260>,\n  <PIL.PngImagePlugin.PngImageFile image mode=RGB size=210x260>,\n  <PIL.PngImagePlugin.PngImageFile image mode=RGB size=210x260>,\n  <PIL.PngImagePlugin.PngImageFile image mode=RGB size=210x260>,\n  <PIL.PngImagePlugin.PngImageFile image mode=RGB size=210x260>,\n  <PIL.PngImagePlugin.PngImageFile image mode=RGB size=210x260>,\n  <PIL.PngImagePlugin.PngImageFile image mode=RGB size=210x260>,\n  <PIL.PngImagePlugin.PngImageFile image mode=RGB size=210x260>,\n  <PIL.PngImagePlugin.PngImageFile image mode=RGB size=210x260>,\n  <PIL.PngImagePlugin.PngImageFile image mode=RGB size=210x260>,\n  <PIL.PngImagePlugin.PngImageFile image mode=RGB size=210x260>,\n  <PIL.PngImagePlugin.PngImageFile image mode=RGB size=210x260>,\n  <PIL.PngImagePlugin.PngImageFile image mode=RGB size=210x260>,\n  <PIL.PngImagePlugin.PngImageFile image mode=RGB size=210x260>,\n  <PIL.PngImagePlugin.PngImageFile image mode=RGB size=210x260>,\n  <PIL.PngImagePlugin.PngImageFile image mode=RGB size=210x260>,\n  <PIL.PngImagePlugin.PngImageFile image mode=RGB size=210x260>,\n  <PIL.PngImagePlugin.PngImageFile image mode=RGB size=210x260>,\n  <PIL.PngImagePlugin.PngImageFile image mode=RGB size=210x260>,\n  <PIL.PngImagePlugin.PngImageFile image mode=RGB size=210x260>,\n  <PIL.PngImagePlugin.PngImageFile image mode=RGB size=210x260>,\n  <PIL.PngImagePlugin.PngImageFile image mode=RGB size=210x260>,\n  <PIL.PngImagePlugin.PngImageFile image mode=RGB size=210x260>,\n  <PIL.PngImagePlugin.PngImageFile image mode=RGB size=210x260>,\n  <PIL.PngImagePlugin.PngImageFile image mode=RGB size=210x260>,\n  <PIL.PngImagePlugin.PngImageFile image mode=RGB size=210x260>,\n  <PIL.PngImagePlugin.PngImageFile image mode=RGB size=210x260>,\n  <PIL.PngImagePlugin.PngImageFile image mode=RGB size=210x260>,\n  <PIL.PngImagePlugin.PngImageFile image mode=RGB size=210x260>,\n  <PIL.PngImagePlugin.PngImageFile image mode=RGB size=210x260>,\n  <PIL.PngImagePlugin.PngImageFile image mode=RGB size=210x260>,\n  <PIL.PngImagePlugin.PngImageFile image mode=RGB size=210x260>,\n  <PIL.PngImagePlugin.PngImageFile image mode=RGB size=210x260>,\n  <PIL.PngImagePlugin.PngImageFile image mode=RGB size=210x260>,\n  <PIL.PngImagePlugin.PngImageFile image mode=RGB size=210x260>,\n  <PIL.PngImagePlugin.PngImageFile image mode=RGB size=210x260>,\n  <PIL.PngImagePlugin.PngImageFile image mode=RGB size=210x260>,\n  <PIL.PngImagePlugin.PngImageFile image mode=RGB size=210x260>,\n  <PIL.PngImagePlugin.PngImageFile image mode=RGB size=210x260>,\n  <PIL.PngImagePlugin.PngImageFile image mode=RGB size=210x260>,\n  <PIL.PngImagePlugin.PngImageFile image mode=RGB size=210x260>,\n  <PIL.PngImagePlugin.PngImageFile image mode=RGB size=210x260>,\n  <PIL.PngImagePlugin.PngImageFile image mode=RGB size=210x260>,\n  <PIL.PngImagePlugin.PngImageFile image mode=RGB size=210x260>,\n  <PIL.PngImagePlugin.PngImageFile image mode=RGB size=210x260>,\n  <PIL.PngImagePlugin.PngImageFile image mode=RGB size=210x260>,\n  <PIL.PngImagePlugin.PngImageFile image mode=RGB size=210x260>,\n  <PIL.PngImagePlugin.PngImageFile image mode=RGB size=210x260>,\n  <PIL.PngImagePlugin.PngImageFile image mode=RGB size=210x260>,\n  <PIL.PngImagePlugin.PngImageFile image mode=RGB size=210x260>,\n  <PIL.PngImagePlugin.PngImageFile image mode=RGB size=210x260>,\n  <PIL.PngImagePlugin.PngImageFile image mode=RGB size=210x260>,\n  <PIL.PngImagePlugin.PngImageFile image mode=RGB size=210x260>,\n  <PIL.PngImagePlugin.PngImageFile image mode=RGB size=210x260>,\n  <PIL.PngImagePlugin.PngImageFile image mode=RGB size=210x260>,\n  <PIL.PngImagePlugin.PngImageFile image mode=RGB size=210x260>,\n  <PIL.PngImagePlugin.PngImageFile image mode=RGB size=210x260>,\n  <PIL.PngImagePlugin.PngImageFile image mode=RGB size=210x260>,\n  <PIL.PngImagePlugin.PngImageFile image mode=RGB size=210x260>,\n  <PIL.PngImagePlugin.PngImageFile image mode=RGB size=210x260>,\n  <PIL.PngImagePlugin.PngImageFile image mode=RGB size=210x260>,\n  <PIL.PngImagePlugin.PngImageFile image mode=RGB size=210x260>,\n  <PIL.PngImagePlugin.PngImageFile image mode=RGB size=210x260>,\n  <PIL.PngImagePlugin.PngImageFile image mode=RGB size=210x260>,\n  <PIL.PngImagePlugin.PngImageFile image mode=RGB size=210x260>,\n  <PIL.PngImagePlugin.PngImageFile image mode=RGB size=210x260>,\n  <PIL.PngImagePlugin.PngImageFile image mode=RGB size=210x260>,\n  <PIL.PngImagePlugin.PngImageFile image mode=RGB size=210x260>,\n  <PIL.PngImagePlugin.PngImageFile image mode=RGB size=210x260>,\n  <PIL.PngImagePlugin.PngImageFile image mode=RGB size=210x260>,\n  <PIL.PngImagePlugin.PngImageFile image mode=RGB size=210x260>,\n  <PIL.PngImagePlugin.PngImageFile image mode=RGB size=210x260>,\n  <PIL.PngImagePlugin.PngImageFile image mode=RGB size=210x260>,\n  <PIL.PngImagePlugin.PngImageFile image mode=RGB size=210x260>,\n  <PIL.PngImagePlugin.PngImageFile image mode=RGB size=210x260>,\n  <PIL.PngImagePlugin.PngImageFile image mode=RGB size=210x260>,\n  <PIL.PngImagePlugin.PngImageFile image mode=RGB size=210x260>,\n  <PIL.PngImagePlugin.PngImageFile image mode=RGB size=210x260>,\n  <PIL.PngImagePlugin.PngImageFile image mode=RGB size=210x260>,\n  <PIL.PngImagePlugin.PngImageFile image mode=RGB size=210x260>,\n  <PIL.PngImagePlugin.PngImageFile image mode=RGB size=210x260>,\n  <PIL.PngImagePlugin.PngImageFile image mode=RGB size=210x260>,\n  <PIL.PngImagePlugin.PngImageFile image mode=RGB size=210x260>,\n  <PIL.PngImagePlugin.PngImageFile image mode=RGB size=210x260>,\n  <PIL.PngImagePlugin.PngImageFile image mode=RGB size=210x260>,\n  <PIL.PngImagePlugin.PngImageFile image mode=RGB size=210x260>,\n  <PIL.PngImagePlugin.PngImageFile image mode=RGB size=210x260>,\n  <PIL.PngImagePlugin.PngImageFile image mode=RGB size=210x260>,\n  <PIL.PngImagePlugin.PngImageFile image mode=RGB size=210x260>,\n  <PIL.PngImagePlugin.PngImageFile image mode=RGB size=210x260>,\n  <PIL.PngImagePlugin.PngImageFile image mode=RGB size=210x260>,\n  <PIL.PngImagePlugin.PngImageFile image mode=RGB size=210x260>,\n  <PIL.PngImagePlugin.PngImageFile image mode=RGB size=210x260>,\n  <PIL.PngImagePlugin.PngImageFile image mode=RGB size=210x260>,\n  <PIL.PngImagePlugin.PngImageFile image mode=RGB size=210x260>,\n  <PIL.PngImagePlugin.PngImageFile image mode=RGB size=210x260>,\n  <PIL.PngImagePlugin.PngImageFile image mode=RGB size=210x260>,\n  <PIL.PngImagePlugin.PngImageFile image mode=RGB size=210x260>,\n  <PIL.PngImagePlugin.PngImageFile image mode=RGB size=210x260>,\n  <PIL.PngImagePlugin.PngImageFile image mode=RGB size=210x260>,\n  <PIL.PngImagePlugin.PngImageFile image mode=RGB size=210x260>,\n  <PIL.PngImagePlugin.PngImageFile image mode=RGB size=210x260>,\n  <PIL.PngImagePlugin.PngImageFile image mode=RGB size=210x260>,\n  <PIL.PngImagePlugin.PngImageFile image mode=RGB size=210x260>,\n  <PIL.PngImagePlugin.PngImageFile image mode=RGB size=210x260>,\n  <PIL.PngImagePlugin.PngImageFile image mode=RGB size=210x260>,\n  <PIL.PngImagePlugin.PngImageFile image mode=RGB size=210x260>,\n  <PIL.PngImagePlugin.PngImageFile image mode=RGB size=210x260>,\n  <PIL.PngImagePlugin.PngImageFile image mode=RGB size=210x260>,\n  <PIL.PngImagePlugin.PngImageFile image mode=RGB size=210x260>,\n  <PIL.PngImagePlugin.PngImageFile image mode=RGB size=210x260>,\n  <PIL.PngImagePlugin.PngImageFile image mode=RGB size=210x260>,\n  <PIL.PngImagePlugin.PngImageFile image mode=RGB size=210x260>,\n  <PIL.PngImagePlugin.PngImageFile image mode=RGB size=210x260>,\n  <PIL.PngImagePlugin.PngImageFile image mode=RGB size=210x260>,\n  <PIL.PngImagePlugin.PngImageFile image mode=RGB size=210x260>,\n  <PIL.PngImagePlugin.PngImageFile image mode=RGB size=210x260>,\n  <PIL.PngImagePlugin.PngImageFile image mode=RGB size=210x260>,\n  <PIL.PngImagePlugin.PngImageFile image mode=RGB size=210x260>,\n  <PIL.PngImagePlugin.PngImageFile image mode=RGB size=210x260>,\n  <PIL.PngImagePlugin.PngImageFile image mode=RGB size=210x260>]}"
     },
     "execution_count": 2,
     "metadata": {},
     "output_type": "execute_result"
    }
   ],
   "source": [
    "rwth_phoenix = datasets.load_dataset('lukasbraach/rwth_phoenix_weather_2014', 'multisigner', streaming=True)\n",
    "it = iter(rwth_phoenix['train'])\n",
    "first = next(it)\n",
    "\n",
    "first"
   ],
   "metadata": {
    "collapsed": false,
    "ExecuteTime": {
     "end_time": "2023-12-20T08:38:38.078989Z",
     "start_time": "2023-12-20T08:38:31.314597Z"
    }
   },
   "id": "37274661378668ed"
  },
  {
   "cell_type": "code",
   "execution_count": 12,
   "outputs": [
    {
     "data": {
      "text/plain": "['__ON__', '__UNK__', '__OFF__']"
     },
     "execution_count": 12,
     "metadata": {},
     "output_type": "execute_result"
    }
   ],
   "source": [
    "from tokenizers import Tokenizer, tokenizers\n",
    "from tokenizers.models import WordLevel\n",
    "\n",
    "tokenizer = Tokenizer(WordLevel(vocab={\"__UNK__\": 1}, unk_token=\"__UNK__\"))\n",
    "tokenizer.add_special_tokens([\n",
    "    tokenizers.AddedToken(\"__ON__\", lstrip=True),\n",
    "    tokenizers.AddedToken(\"__OFF__\", rstrip=True)\n",
    "])\n",
    "\n",
    "output = tokenizer.encode(\"__ON__ SUED VERAENDERN KAUM WIE HEUTE SONNE ODER NEBEL __OFF__\")\n",
    "\n",
    "output.tokens"
   ],
   "metadata": {
    "collapsed": false,
    "ExecuteTime": {
     "end_time": "2023-12-20T09:07:28.708019Z",
     "start_time": "2023-12-20T09:07:28.703737Z"
    }
   },
   "id": "acc354436d5553b9"
  },
  {
   "cell_type": "code",
   "execution_count": 3,
   "outputs": [
    {
     "data": {
      "text/plain": "SignLanguageNet(\n  (encoder): SpatiotemporalEncoder(\n    (feature_extractor): SpatialFeatureEncoder()\n    (feature_projection): SpatiotemporalFeatureProjection(\n      (layer_norm): LayerNorm((768,), eps=1e-05, elementwise_affine=True)\n      (dropout): Dropout(p=0.0, inplace=False)\n    )\n    (encoder): Wav2Vec2Encoder(\n      (pos_conv_embed): Wav2Vec2PositionalConvEmbedding(\n        (conv): Conv1d(768, 768, kernel_size=(128,), stride=(1,), padding=(64,), groups=16)\n        (padding): Wav2Vec2SamePadLayer()\n        (activation): GELUActivation()\n      )\n      (layer_norm): LayerNorm((768,), eps=1e-05, elementwise_affine=True)\n      (dropout): Dropout(p=0.1, inplace=False)\n      (layers): ModuleList(\n        (0-5): 6 x Wav2Vec2EncoderLayer(\n          (attention): Wav2Vec2Attention(\n            (k_proj): Linear(in_features=768, out_features=768, bias=True)\n            (v_proj): Linear(in_features=768, out_features=768, bias=True)\n            (q_proj): Linear(in_features=768, out_features=768, bias=True)\n            (out_proj): Linear(in_features=768, out_features=768, bias=True)\n          )\n          (dropout): Dropout(p=0.1, inplace=False)\n          (layer_norm): LayerNorm((768,), eps=1e-05, elementwise_affine=True)\n          (feed_forward): Wav2Vec2FeedForward(\n            (intermediate_dropout): Dropout(p=0.1, inplace=False)\n            (intermediate_dense): Linear(in_features=768, out_features=3072, bias=True)\n            (intermediate_act_fn): GELUActivation()\n            (output_dense): Linear(in_features=3072, out_features=768, bias=True)\n            (output_dropout): Dropout(p=0.1, inplace=False)\n          )\n          (final_layer_norm): LayerNorm((768,), eps=1e-05, elementwise_affine=True)\n        )\n      )\n    )\n  )\n  (decoder): LanguageDecoder(\n    (model): Speech2Text2DecoderWrapper(\n      (decoder): Speech2Text2Decoder(\n        (embed_tokens): Embedding(10000, 1024, padding_idx=1)\n        (embed_positions): Speech2Text2SinusoidalPositionalEmbedding()\n        (layers): ModuleList(\n          (0-5): 6 x Speech2Text2DecoderLayer(\n            (self_attn): Speech2Text2Attention(\n              (k_proj): Linear(in_features=1024, out_features=1024, bias=True)\n              (v_proj): Linear(in_features=1024, out_features=1024, bias=True)\n              (q_proj): Linear(in_features=1024, out_features=1024, bias=True)\n              (out_proj): Linear(in_features=1024, out_features=1024, bias=True)\n            )\n            (activation_fn): ReLU()\n            (self_attn_layer_norm): LayerNorm((1024,), eps=1e-05, elementwise_affine=True)\n            (encoder_attn): Speech2Text2Attention(\n              (k_proj): Linear(in_features=1024, out_features=1024, bias=True)\n              (v_proj): Linear(in_features=1024, out_features=1024, bias=True)\n              (q_proj): Linear(in_features=1024, out_features=1024, bias=True)\n              (out_proj): Linear(in_features=1024, out_features=1024, bias=True)\n            )\n            (encoder_attn_layer_norm): LayerNorm((1024,), eps=1e-05, elementwise_affine=True)\n            (fc1): Linear(in_features=1024, out_features=2048, bias=True)\n            (fc2): Linear(in_features=2048, out_features=1024, bias=True)\n            (final_layer_norm): LayerNorm((1024,), eps=1e-05, elementwise_affine=True)\n          )\n        )\n      )\n    )\n    (lm_head): Linear(in_features=1024, out_features=10000, bias=False)\n  )\n  (enc_to_dec_proj): Linear(in_features=768, out_features=1024, bias=True)\n)"
     },
     "execution_count": 3,
     "metadata": {},
     "output_type": "execute_result"
    }
   ],
   "source": [
    "reload(src.models.components.sign_language_net)\n",
    "from src.models.components.sign_language_net import SignLanguageNet\n",
    "\n",
    "model = SignLanguageNet()\n",
    "\n",
    "model"
   ],
   "metadata": {
    "collapsed": false,
    "ExecuteTime": {
     "end_time": "2023-12-20T08:39:53.444528Z",
     "start_time": "2023-12-20T08:39:51.978666Z"
    }
   },
   "id": "5417b8ff91936911"
  }
 ],
 "metadata": {
  "kernelspec": {
   "display_name": "Python 3",
   "language": "python",
   "name": "python3"
  },
  "language_info": {
   "codemirror_mode": {
    "name": "ipython",
    "version": 2
   },
   "file_extension": ".py",
   "mimetype": "text/x-python",
   "name": "python",
   "nbconvert_exporter": "python",
   "pygments_lexer": "ipython2",
   "version": "2.7.6"
  }
 },
 "nbformat": 4,
 "nbformat_minor": 5
}
