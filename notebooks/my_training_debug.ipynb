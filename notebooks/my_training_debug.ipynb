{
 "cells": [
  {
   "cell_type": "code",
   "execution_count": 2,
   "id": "initial_id",
   "metadata": {
    "ExecuteTime": {
     "end_time": "2024-01-07T21:07:56.070798Z",
     "start_time": "2024-01-07T21:07:48.015364Z"
    }
   },
   "source": [
    "from importlib import reload\n",
    "\n",
    "import datasets\n",
    "import tokenizers\n",
    "import transformers\n",
    "\n",
    "import src.models.components.feature_extractor_dinov2\n",
    "import src.models.components.sign_language_net"
   ],
   "outputs": []
  },
  {
   "cell_type": "code",
   "execution_count": 3,
   "id": "46d18f1d6f07b3e0",
   "metadata": {
    "ExecuteTime": {
     "end_time": "2024-01-07T21:11:27.454426Z",
     "start_time": "2024-01-07T21:10:46.363728Z"
    },
    "collapsed": false,
    "jupyter": {
     "outputs_hidden": false
    }
   },
   "source": [
    "rwth_phoenix_pretrain = datasets.load_dataset('lukasbraach/rwth_phoenix_weather_2014', 'pre-training', streaming=True)"
   ],
   "outputs": []
  },
  {
   "cell_type": "code",
   "execution_count": 4,
   "id": "37274661378668ed",
   "metadata": {
    "ExecuteTime": {
     "end_time": "2023-12-29T09:17:52.925471Z",
     "start_time": "2023-12-29T09:17:51.998171Z"
    },
    "collapsed": false,
    "jupyter": {
     "outputs_hidden": false
    }
   },
   "source": [
    "from itertools import chain\n",
    "\n",
    "\n",
    "def string_iterator():\n",
    "    it = chain.from_iterable(\n",
    "        (rwth_phoenix_pretrain['train'], rwth_phoenix_pretrain['validation'], rwth_phoenix_pretrain['test']))\n",
    "\n",
    "    for batch in it:\n",
    "        yield batch['transcription']"
   ],
   "outputs": []
  },
  {
   "cell_type": "code",
   "execution_count": 22,
   "id": "acc354436d5553b9",
   "metadata": {
    "ExecuteTime": {
     "end_time": "2023-12-29T10:51:21.811130Z",
     "start_time": "2023-12-29T10:51:20.838560Z"
    },
    "collapsed": false,
    "jupyter": {
     "outputs_hidden": false
    }
   },
   "source": [
    "from tokenizers import Tokenizer\n",
    "from tokenizers.pre_tokenizers import Whitespace, WhitespaceSplit\n",
    "from tokenizers.models import BPE, WordLevel\n",
    "from tokenizers.trainers import BpeTrainer, WordLevelTrainer\n",
    "\n",
    "model = WordLevel(unk_token=\"__UNK__\")\n",
    "tokenizer = Tokenizer(model=model)\n",
    "tokenizer.pre_tokenizer = WhitespaceSplit()\n",
    "\n",
    "trainer = WordLevelTrainer(special_tokens=[\"__PAD__\", \"__UNK__\"])\n",
    "\n",
    "tokenizer.train_from_iterator(string_iterator(), trainer)\n",
    "tokenizer.add_special_tokens([\n",
    "    tokenizers.AddedToken(\"__ON__\"),\n",
    "    tokenizers.AddedToken(\"__OFF__\"),\n",
    "    tokenizers.AddedToken(\"__EMOTION__\"),\n",
    "    tokenizers.AddedToken(\"__PU__\"),\n",
    "])\n",
    "\n",
    "print(tokenizer.get_vocab_size())"
   ],
   "outputs": []
  },
  {
   "cell_type": "code",
   "execution_count": 23,
   "id": "feeda8403150ef86",
   "metadata": {
    "ExecuteTime": {
     "end_time": "2023-12-29T10:45:38.191047Z",
     "start_time": "2023-12-29T10:45:38.181942Z"
    },
    "collapsed": false,
    "jupyter": {
     "outputs_hidden": false
    }
   },
   "source": [
    "tokenizer.save(\"../src/etc/rwth_phoenix_tokenizer_wordlevel.json\")"
   ],
   "outputs": []
  },
  {
   "cell_type": "code",
   "execution_count": 36,
   "id": "818217be040eb612",
   "metadata": {
    "ExecuteTime": {
     "end_time": "2023-12-29T11:07:47.284647Z",
     "start_time": "2023-12-29T11:07:46.109637Z"
    },
    "collapsed": false,
    "jupyter": {
     "outputs_hidden": false
    }
   },
   "source": [
    "output = tokenizer.encode(\"__ON__ SUED VERAENDERN KAUM WIE HEUTE SONNE ODER NEBEL __OFF__\")\n",
    "\n",
    "for batch in string_iterator():\n",
    "    enc = tokenizer.encode(batch, is_pretokenized=True)\n",
    "    print(enc.ids)"
   ],
   "outputs": []
  },
  {
   "cell_type": "code",
   "execution_count": 66,
   "id": "b79344de154e4c87",
   "metadata": {
    "ExecuteTime": {
     "end_time": "2023-12-29T14:25:01.738108Z",
     "start_time": "2023-12-29T14:24:27.837277Z"
    },
    "collapsed": false,
    "jupyter": {
     "outputs_hidden": false
    }
   },
   "source": [
    "reload(src.models.components.feature_extractor_dinov2)\n",
    "from src.models.components.feature_extractor_dinov2 import SignLanguageFeatureExtractor\n",
    "\n",
    "feature_extractor = SignLanguageFeatureExtractor()\n",
    "\n",
    "\n",
    "def collate_fn(batch):\n",
    "    labels = tokenizer.encode(batch['tokens'], is_pretokenized=True)\n",
    "    feature = feature_extractor(batch['frames'], sampling_rate=25)\n",
    "\n",
    "    return {\"input_values\": feature.input_values[0], \"labels\": labels.ids}\n",
    "\n",
    "\n",
    "train = rwth_phoenix['train'].map(function=collate_fn, batched=False, remove_columns=['frames', 'tokens'])\n",
    "first = next(iter(train))"
   ],
   "outputs": []
  },
  {
   "cell_type": "code",
   "execution_count": 67,
   "id": "b853e14e071ad361",
   "metadata": {
    "ExecuteTime": {
     "end_time": "2023-12-29T14:25:04.047445Z",
     "start_time": "2023-12-29T14:25:04.030979Z"
    },
    "collapsed": false,
    "jupyter": {
     "outputs_hidden": false
    }
   },
   "source": [
    "first"
   ],
   "outputs": []
  },
  {
   "cell_type": "code",
   "execution_count": 69,
   "id": "5417b8ff91936911",
   "metadata": {
    "ExecuteTime": {
     "end_time": "2023-12-29T14:26:38.964254Z",
     "start_time": "2023-12-29T14:26:37.489583Z"
    },
    "collapsed": false,
    "jupyter": {
     "outputs_hidden": false
    }
   },
   "source": [
    "reload(src.models.components.sign_language_net)\n",
    "from src.models.components.sign_language_net import SignLanguageNet\n",
    "\n",
    "transformers_tokenizer = transformers.PreTrainedTokenizerFast(\n",
    "    model_input_names=['input_values'],\n",
    "    pad_token=\"__PAD__\",\n",
    "    bos_token=\"__ON__\",\n",
    "    eos_token=\"__OFF__\",\n",
    "    unk_token=\"__UNK__\",\n",
    "    tokenizer_object=tokenizer\n",
    ")\n",
    "\n",
    "model = SignLanguageNet(tokenizer=transformers_tokenizer)\n",
    "\n",
    "model"
   ],
   "outputs": []
  },
  {
   "cell_type": "code",
   "execution_count": 76,
   "id": "535ef0844cfa99f0",
   "metadata": {
    "ExecuteTime": {
     "end_time": "2023-12-29T15:48:22.644729Z",
     "start_time": "2023-12-29T15:48:22.609549Z"
    },
    "collapsed": false,
    "jupyter": {
     "outputs_hidden": false
    }
   },
   "source": [
    "import torch\n",
    "from transformers import DataCollatorForSeq2Seq\n",
    "\n",
    "with torch.no_grad():\n",
    "    collator = DataCollatorForSeq2Seq(\n",
    "        model=model,\n",
    "        tokenizer=transformers_tokenizer,\n",
    "        pad_to_multiple_of=16,\n",
    "        return_tensors='pt'\n",
    "    )\n",
    "\n",
    "collated = collator([first])\n",
    "\n",
    "collated"
   ],
   "outputs": []
  }
 ],
 "metadata": {
  "kernelspec": {
   "display_name": "Python 3 (ipykernel)",
   "language": "python",
   "name": "python3"
  },
  "language_info": {
   "codemirror_mode": {
    "name": "ipython",
    "version": 3
   },
   "file_extension": ".py",
   "mimetype": "text/x-python",
   "name": "python",
   "nbconvert_exporter": "python",
   "pygments_lexer": "ipython3",
   "version": "3.8.10"
  }
 },
 "nbformat": 4,
 "nbformat_minor": 5
}
